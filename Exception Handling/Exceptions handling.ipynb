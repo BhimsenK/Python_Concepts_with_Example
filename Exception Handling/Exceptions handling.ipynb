{
 "cells": [
  {
   "cell_type": "code",
   "execution_count": null,
   "id": "4f53bec4-9d03-4cc0-ad6f-40917870ac81",
   "metadata": {},
   "outputs": [],
   "source": [
    "#Exception Handling"
   ]
  },
  {
   "cell_type": "code",
   "execution_count": null,
   "id": "0960832d-faa7-4d12-83a2-4b64ed3fb617",
   "metadata": {},
   "outputs": [],
   "source": []
  },
  {
   "cell_type": "code",
   "execution_count": 1,
   "id": "3df4ee90-084e-428a-a60c-e2f52158894f",
   "metadata": {},
   "outputs": [],
   "source": [
    "with open ('test.txt', 'w') as file:\n",
    "    file.write('Hii')"
   ]
  },
  {
   "cell_type": "code",
   "execution_count": null,
   "id": "194e6c7c-30d5-49ce-a3ae-7af502f2e162",
   "metadata": {},
   "outputs": [],
   "source": []
  },
  {
   "cell_type": "code",
   "execution_count": null,
   "id": "73fef76e-01ce-47ec-9d61-79b6cc0eaaf4",
   "metadata": {},
   "outputs": [],
   "source": [
    "#Reading a file which is already present."
   ]
  },
  {
   "cell_type": "code",
   "execution_count": 7,
   "id": "fe8e876c-ae98-4191-a9aa-b36d99e796c8",
   "metadata": {},
   "outputs": [
    {
     "name": "stdout",
     "output_type": "stream",
     "text": [
      "Hii\n"
     ]
    }
   ],
   "source": [
    "with open('test.txt', 'r') as file2:\n",
    "    content = file2.read()\n",
    "    \n",
    "print(content)"
   ]
  },
  {
   "cell_type": "code",
   "execution_count": null,
   "id": "8c556db0-04c9-4b62-8478-a665927e7edc",
   "metadata": {},
   "outputs": [],
   "source": []
  },
  {
   "cell_type": "code",
   "execution_count": 8,
   "id": "bfd76347-743e-48e3-9c76-799ba509388e",
   "metadata": {},
   "outputs": [],
   "source": [
    "#Reading a file which is not present."
   ]
  },
  {
   "cell_type": "code",
   "execution_count": 9,
   "id": "9de67759-dbe6-455f-baa7-1b658b5a77fe",
   "metadata": {},
   "outputs": [
    {
     "ename": "FileNotFoundError",
     "evalue": "[Errno 2] No such file or directory: 'Test123.txt'",
     "output_type": "error",
     "traceback": [
      "\u001b[0;31m---------------------------------------------------------------------------\u001b[0m",
      "\u001b[0;31mFileNotFoundError\u001b[0m                         Traceback (most recent call last)",
      "Cell \u001b[0;32mIn[9], line 1\u001b[0m\n\u001b[0;32m----> 1\u001b[0m \u001b[38;5;28;01mwith\u001b[39;00m \u001b[38;5;28;43mopen\u001b[39;49m\u001b[43m(\u001b[49m\u001b[38;5;124;43m'\u001b[39;49m\u001b[38;5;124;43mTest123.txt\u001b[39;49m\u001b[38;5;124;43m'\u001b[39;49m\u001b[43m,\u001b[49m\u001b[43m \u001b[49m\u001b[38;5;124;43m'\u001b[39;49m\u001b[38;5;124;43mr\u001b[39;49m\u001b[38;5;124;43m'\u001b[39;49m\u001b[43m)\u001b[49m \u001b[38;5;28;01mas\u001b[39;00m file2:\n\u001b[1;32m      2\u001b[0m     content \u001b[38;5;241m=\u001b[39m file2\u001b[38;5;241m.\u001b[39mread()\n\u001b[1;32m      4\u001b[0m \u001b[38;5;28mprint\u001b[39m(content)\n",
      "File \u001b[0;32m/opt/conda/lib/python3.10/site-packages/IPython/core/interactiveshell.py:282\u001b[0m, in \u001b[0;36m_modified_open\u001b[0;34m(file, *args, **kwargs)\u001b[0m\n\u001b[1;32m    275\u001b[0m \u001b[38;5;28;01mif\u001b[39;00m file \u001b[38;5;129;01min\u001b[39;00m {\u001b[38;5;241m0\u001b[39m, \u001b[38;5;241m1\u001b[39m, \u001b[38;5;241m2\u001b[39m}:\n\u001b[1;32m    276\u001b[0m     \u001b[38;5;28;01mraise\u001b[39;00m \u001b[38;5;167;01mValueError\u001b[39;00m(\n\u001b[1;32m    277\u001b[0m         \u001b[38;5;124mf\u001b[39m\u001b[38;5;124m\"\u001b[39m\u001b[38;5;124mIPython won\u001b[39m\u001b[38;5;124m'\u001b[39m\u001b[38;5;124mt let you open fd=\u001b[39m\u001b[38;5;132;01m{\u001b[39;00mfile\u001b[38;5;132;01m}\u001b[39;00m\u001b[38;5;124m by default \u001b[39m\u001b[38;5;124m\"\u001b[39m\n\u001b[1;32m    278\u001b[0m         \u001b[38;5;124m\"\u001b[39m\u001b[38;5;124mas it is likely to crash IPython. If you know what you are doing, \u001b[39m\u001b[38;5;124m\"\u001b[39m\n\u001b[1;32m    279\u001b[0m         \u001b[38;5;124m\"\u001b[39m\u001b[38;5;124myou can use builtins\u001b[39m\u001b[38;5;124m'\u001b[39m\u001b[38;5;124m open.\u001b[39m\u001b[38;5;124m\"\u001b[39m\n\u001b[1;32m    280\u001b[0m     )\n\u001b[0;32m--> 282\u001b[0m \u001b[38;5;28;01mreturn\u001b[39;00m \u001b[43mio_open\u001b[49m\u001b[43m(\u001b[49m\u001b[43mfile\u001b[49m\u001b[43m,\u001b[49m\u001b[43m \u001b[49m\u001b[38;5;241;43m*\u001b[39;49m\u001b[43margs\u001b[49m\u001b[43m,\u001b[49m\u001b[43m \u001b[49m\u001b[38;5;241;43m*\u001b[39;49m\u001b[38;5;241;43m*\u001b[39;49m\u001b[43mkwargs\u001b[49m\u001b[43m)\u001b[49m\n",
      "\u001b[0;31mFileNotFoundError\u001b[0m: [Errno 2] No such file or directory: 'Test123.txt'"
     ]
    }
   ],
   "source": [
    "with open('Test123.txt', 'r') as file2:\n",
    "    content = file2.read()\n",
    "    \n",
    "print(content)"
   ]
  },
  {
   "cell_type": "code",
   "execution_count": null,
   "id": "2cae9965-116b-4d66-bc68-ede297e3fdcf",
   "metadata": {},
   "outputs": [],
   "source": []
  },
  {
   "cell_type": "code",
   "execution_count": 10,
   "id": "d05dffda-6a2b-43f6-91ad-bd3cc68f9191",
   "metadata": {},
   "outputs": [],
   "source": [
    "#So if file is no there, then it will throw error. So we need to use Exceptions to handle this error."
   ]
  },
  {
   "cell_type": "code",
   "execution_count": null,
   "id": "e4c49583-a802-4476-95c5-7430ce825d20",
   "metadata": {},
   "outputs": [],
   "source": []
  },
  {
   "cell_type": "code",
   "execution_count": 13,
   "id": "5183b872-461b-4dac-8eca-0e4659ce49be",
   "metadata": {},
   "outputs": [
    {
     "name": "stdout",
     "output_type": "stream",
     "text": [
      "We are getting this >> \"[Errno 2] No such file or directory: 'Test123.txt'\" \n"
     ]
    }
   ],
   "source": [
    "try:\n",
    "    with open('Test123.txt', 'r') as file2:\n",
    "        content = file2.read()\n",
    "\n",
    "    print(content)\n",
    "except Exception as e:\n",
    "    print(f'We are getting this >> \"{e}\" ')"
   ]
  },
  {
   "cell_type": "code",
   "execution_count": null,
   "id": "786b9333-61fa-4d25-920c-b874d5c49933",
   "metadata": {},
   "outputs": [],
   "source": []
  },
  {
   "cell_type": "code",
   "execution_count": null,
   "id": "7364fe89-07cb-403e-a22e-26b2b45fd602",
   "metadata": {},
   "outputs": [],
   "source": []
  },
  {
   "cell_type": "code",
   "execution_count": 14,
   "id": "7a622a88-8a19-4bdd-abab-4d5c9c9671a2",
   "metadata": {},
   "outputs": [],
   "source": [
    "#Finally block of code"
   ]
  },
  {
   "cell_type": "code",
   "execution_count": null,
   "id": "38fb1b80-df11-4a3b-85f6-32c509b39d12",
   "metadata": {},
   "outputs": [],
   "source": []
  },
  {
   "cell_type": "code",
   "execution_count": 19,
   "id": "4fff621d-71fd-4b9e-a202-3c1687c91405",
   "metadata": {},
   "outputs": [
    {
     "name": "stdin",
     "output_type": "stream",
     "text": [
      "Did you exercise today y/n :  y\n",
      "Did you studied  today y/n :  y\n"
     ]
    },
    {
     "name": "stdout",
     "output_type": "stream",
     "text": [
      "Satisfied !!!\n",
      "Always Be on the Track !!! \n"
     ]
    }
   ],
   "source": [
    "try:\n",
    "    a = input(f'Did you exercise today y/n : ')\n",
    "    b = input(f'Did you studied  today y/n : ')\n",
    "    \n",
    "    if a.lower() == 'y' and b.lower() == 'y':\n",
    "        print(\"Satisfied !!!\")\n",
    "    else:\n",
    "        print(\"Complete your remaining work.\")\n",
    "except Exception as e:\n",
    "    print(f'Got Error : {e}')\n",
    "\n",
    "finally:\n",
    "    print(f'Always Be on the Track !!! ')"
   ]
  },
  {
   "cell_type": "code",
   "execution_count": null,
   "id": "d3481ecb-720c-4859-af71-a075b28cd9cd",
   "metadata": {},
   "outputs": [],
   "source": []
  },
  {
   "cell_type": "code",
   "execution_count": null,
   "id": "f1e672c2-b089-4755-871e-9c54f599d5f1",
   "metadata": {},
   "outputs": [],
   "source": []
  },
  {
   "cell_type": "code",
   "execution_count": 20,
   "id": "16b23ce3-8bad-4531-b75c-aae5549e6a6f",
   "metadata": {},
   "outputs": [],
   "source": [
    "#Custom Exceptions"
   ]
  },
  {
   "cell_type": "code",
   "execution_count": null,
   "id": "7aad25dd-5e6a-400a-8f9b-773fed50560e",
   "metadata": {},
   "outputs": [],
   "source": []
  },
  {
   "cell_type": "code",
   "execution_count": 21,
   "id": "2cde590e-850d-4d8d-99e6-b8b37a5733f3",
   "metadata": {},
   "outputs": [],
   "source": [
    "class Custom_Exception(Exception): #inheriting Exception class\n",
    "    def __init__(self, msg):\n",
    "        self.msg = msg"
   ]
  },
  {
   "cell_type": "code",
   "execution_count": 30,
   "id": "f052d427-3f65-421e-862a-0fafabad5722",
   "metadata": {},
   "outputs": [],
   "source": [
    "def validate_salary(salary):\n",
    "    if salary < 0:\n",
    "        raise Custom_Exception(\"Salary cannot be in negative !!!\")\n",
    "    elif salary > 500000000:\n",
    "        raise Custom_Exception(f'Salary cannot be this much high !!!')\n",
    "    else:\n",
    "        print (\"Salary is valid\")"
   ]
  },
  {
   "cell_type": "code",
   "execution_count": 34,
   "id": "c50c8fee-eab2-4319-938f-7fb3b00db919",
   "metadata": {},
   "outputs": [
    {
     "name": "stdin",
     "output_type": "stream",
     "text": [
      "Enter salary :  500000001\n"
     ]
    },
    {
     "name": "stdout",
     "output_type": "stream",
     "text": [
      "Salary cannot be this much high !!!\n"
     ]
    }
   ],
   "source": [
    "try:\n",
    "    a = int(input(f'Enter salary : '))\n",
    "    validate_salary(a)\n",
    "except Custom_Exception as e:\n",
    "    print(e)"
   ]
  },
  {
   "cell_type": "code",
   "execution_count": 35,
   "id": "7c2656ed-f081-4c8d-b6df-c14bd85a76ad",
   "metadata": {},
   "outputs": [
    {
     "name": "stdin",
     "output_type": "stream",
     "text": [
      "Enter salary :  -111224\n"
     ]
    },
    {
     "name": "stdout",
     "output_type": "stream",
     "text": [
      "Salary cannot be in negative !!!\n"
     ]
    }
   ],
   "source": [
    "try:\n",
    "    a = int(input(f'Enter salary : '))\n",
    "    validate_salary(a)\n",
    "except Custom_Exception as e:\n",
    "    print(e)"
   ]
  },
  {
   "cell_type": "code",
   "execution_count": 36,
   "id": "8adb8355-03a1-4cd2-9007-420fc333fbb4",
   "metadata": {},
   "outputs": [
    {
     "name": "stdin",
     "output_type": "stream",
     "text": [
      "Enter salary :  2500000\n"
     ]
    },
    {
     "name": "stdout",
     "output_type": "stream",
     "text": [
      "Salary is valid\n"
     ]
    }
   ],
   "source": [
    "try:\n",
    "    a = int(input(f'Enter salary : '))\n",
    "    validate_salary(a)\n",
    "except Custom_Exception as e:\n",
    "    print(e)"
   ]
  },
  {
   "cell_type": "code",
   "execution_count": null,
   "id": "cb8dc4ea-8bc3-4273-8e73-3fcd3036443c",
   "metadata": {},
   "outputs": [],
   "source": []
  }
 ],
 "metadata": {
  "kernelspec": {
   "display_name": "Python 3 (ipykernel)",
   "language": "python",
   "name": "python3"
  },
  "language_info": {
   "codemirror_mode": {
    "name": "ipython",
    "version": 3
   },
   "file_extension": ".py",
   "mimetype": "text/x-python",
   "name": "python",
   "nbconvert_exporter": "python",
   "pygments_lexer": "ipython3",
   "version": "3.10.8"
  }
 },
 "nbformat": 4,
 "nbformat_minor": 5
}
