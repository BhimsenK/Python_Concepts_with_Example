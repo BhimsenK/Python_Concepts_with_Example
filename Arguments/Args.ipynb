{
 "cells": [
  {
   "cell_type": "code",
   "execution_count": 1,
   "id": "6bae7325-2bc8-4ec2-9926-1b5a8571400c",
   "metadata": {},
   "outputs": [],
   "source": [
    "# *args"
   ]
  },
  {
   "cell_type": "code",
   "execution_count": null,
   "id": "66958a4a-3d8a-4365-9025-0fdefd7ddd17",
   "metadata": {},
   "outputs": [],
   "source": []
  },
  {
   "cell_type": "code",
   "execution_count": 5,
   "id": "f2f46259-3607-4860-bce2-5a1b0def5307",
   "metadata": {},
   "outputs": [],
   "source": [
    "def mul_value(*args):\n",
    "    for i in args:\n",
    "        print(i, end = \", \")"
   ]
  },
  {
   "cell_type": "code",
   "execution_count": 6,
   "id": "f933868a-f28a-4027-b43d-c4f9f8c4a08d",
   "metadata": {},
   "outputs": [
    {
     "name": "stdout",
     "output_type": "stream",
     "text": [
      "1, 2, 3, 4, 5, shree, bhim, DSA, "
     ]
    }
   ],
   "source": [
    "mul_value(1,2,3,4,5,\"shree\", 'bhim', \"DSA\")"
   ]
  },
  {
   "cell_type": "code",
   "execution_count": null,
   "id": "ca15aa08-5113-45c9-975f-e97dba83d997",
   "metadata": {},
   "outputs": [],
   "source": []
  },
  {
   "cell_type": "code",
   "execution_count": 7,
   "id": "6495ca0d-0240-47d6-b7e3-415c447db5c8",
   "metadata": {},
   "outputs": [
    {
     "name": "stdout",
     "output_type": "stream",
     "text": [
      "1, 2, 3, 4, 5, shree, bhim, DSA, 6, 7, 8, 9, 20, "
     ]
    }
   ],
   "source": [
    "mul_value(1,2,3,4,5,\"shree\", 'bhim', \"DSA\", 6,7,8,9,20)"
   ]
  },
  {
   "cell_type": "code",
   "execution_count": null,
   "id": "126be23c-3491-4a87-967d-d1b4f6effdeb",
   "metadata": {},
   "outputs": [],
   "source": []
  }
 ],
 "metadata": {
  "kernelspec": {
   "display_name": "Python 3 (ipykernel)",
   "language": "python",
   "name": "python3"
  },
  "language_info": {
   "codemirror_mode": {
    "name": "ipython",
    "version": 3
   },
   "file_extension": ".py",
   "mimetype": "text/x-python",
   "name": "python",
   "nbconvert_exporter": "python",
   "pygments_lexer": "ipython3",
   "version": "3.10.8"
  }
 },
 "nbformat": 4,
 "nbformat_minor": 5
}
