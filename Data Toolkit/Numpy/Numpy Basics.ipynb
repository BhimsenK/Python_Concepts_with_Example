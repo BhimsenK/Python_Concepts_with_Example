{
 "cells": [
  {
   "cell_type": "code",
   "execution_count": 1,
   "id": "a5647f58-91a3-43b0-8467-547f142444ea",
   "metadata": {},
   "outputs": [],
   "source": [
    "#Numpy - Numerical Python "
   ]
  },
  {
   "cell_type": "code",
   "execution_count": null,
   "id": "528c4052-dd8d-4fec-bef0-a018294606a5",
   "metadata": {},
   "outputs": [],
   "source": []
  },
  {
   "cell_type": "raw",
   "id": "6fa87a5c-dbd2-433d-aa9f-53aa712aad9b",
   "metadata": {},
   "source": [
    "Q. Why we need to learn Numpy :?\n",
    "\n",
    "A: To check the Mathematical Calulations."
   ]
  },
  {
   "cell_type": "code",
   "execution_count": null,
   "id": "7580af8f-d822-40a1-996e-2933480d89a1",
   "metadata": {},
   "outputs": [],
   "source": []
  },
  {
   "cell_type": "code",
   "execution_count": null,
   "id": "aaa204ef-b9b3-4691-9739-d88ab16b3d34",
   "metadata": {},
   "outputs": [],
   "source": []
  },
  {
   "cell_type": "code",
   "execution_count": 2,
   "id": "2870653d-7136-4579-89ed-f43052ee56fe",
   "metadata": {},
   "outputs": [],
   "source": [
    "import numpy as np"
   ]
  },
  {
   "cell_type": "code",
   "execution_count": 3,
   "id": "234e88ec-17aa-499a-8c97-41f4e35c8c63",
   "metadata": {},
   "outputs": [
    {
     "data": {
      "text/plain": [
       "'1.23.5'"
      ]
     },
     "execution_count": 3,
     "metadata": {},
     "output_type": "execute_result"
    }
   ],
   "source": [
    "np.__version__   #checking version "
   ]
  },
  {
   "cell_type": "code",
   "execution_count": null,
   "id": "6c0a114a-d1ae-4ed7-a706-47bb7d3386de",
   "metadata": {},
   "outputs": [],
   "source": []
  },
  {
   "cell_type": "code",
   "execution_count": null,
   "id": "32840418-5002-41d8-9093-d5c18014be78",
   "metadata": {},
   "outputs": [],
   "source": []
  },
  {
   "cell_type": "raw",
   "id": "435d5ebb-302b-464f-ad0a-6130d2f207a6",
   "metadata": {},
   "source": [
    "#Numpy stores the data in an array. (same data type)\n",
    "\n",
    "Numpy is faster. (computation is fast).\n",
    "(Array is faster than list.)"
   ]
  },
  {
   "cell_type": "code",
   "execution_count": null,
   "id": "e687cef6-0c5c-46ab-a995-5321c66c5b06",
   "metadata": {},
   "outputs": [],
   "source": []
  },
  {
   "cell_type": "code",
   "execution_count": 4,
   "id": "eaff9888-1406-4c51-a732-3fd2de9f139b",
   "metadata": {},
   "outputs": [],
   "source": [
    "#list to array conversion"
   ]
  },
  {
   "cell_type": "code",
   "execution_count": 8,
   "id": "67c76b41-61b9-42ef-b8e8-a13e37b6247b",
   "metadata": {},
   "outputs": [
    {
     "name": "stdout",
     "output_type": "stream",
     "text": [
      "List : [1, 2, 3, 4, 5, 6, 'Thala', 8, 9, 10]\n",
      "Type :<class 'list'>\n",
      "\n",
      "Array : ['1' '2' '3' '4' '5' '6' 'Thala' '8' '9' '10']\n",
      "Type : <class 'numpy.ndarray'>\n"
     ]
    }
   ],
   "source": [
    "list1 = [1,2,3,4,5,6,'Thala',8,9,10]\n",
    "print(f'List : {list1}\\nType :{type(list1)}\\n')\n",
    "arr = np.array(list1)\n",
    "print(f'Array : {arr}\\nType : {type(arr)}')"
   ]
  },
  {
   "cell_type": "code",
   "execution_count": null,
   "id": "ebb1ac40-d647-42af-8d06-d6d9446df288",
   "metadata": {},
   "outputs": [],
   "source": []
  },
  {
   "cell_type": "code",
   "execution_count": 11,
   "id": "0d55a5b9-7ed9-4154-a97c-a062c49532b3",
   "metadata": {},
   "outputs": [
    {
     "data": {
      "text/plain": [
       "numpy.ndarray"
      ]
     },
     "execution_count": 11,
     "metadata": {},
     "output_type": "execute_result"
    }
   ],
   "source": [
    "#type of an array \n",
    "\n",
    "type(arr)"
   ]
  },
  {
   "cell_type": "code",
   "execution_count": null,
   "id": "1033fd69-7704-4b65-a38e-3d7c664e6c65",
   "metadata": {},
   "outputs": [],
   "source": []
  },
  {
   "cell_type": "code",
   "execution_count": 16,
   "id": "4eeb140e-78fd-4b4b-8b72-2e673a0db090",
   "metadata": {},
   "outputs": [
    {
     "name": "stdout",
     "output_type": "stream",
     "text": [
      "Its an \" 1d \" array.\n"
     ]
    }
   ],
   "source": [
    "#Finding the dimentions of an array\n",
    "\n",
    "print(f'Its an \" {arr.ndim}d \" array.')"
   ]
  },
  {
   "cell_type": "code",
   "execution_count": null,
   "id": "c27b9679-ca01-4778-8808-f43ecf005e0b",
   "metadata": {},
   "outputs": [],
   "source": []
  },
  {
   "cell_type": "code",
   "execution_count": null,
   "id": "a46726d8-6ee1-49ca-b742-a28e0e1e4f9b",
   "metadata": {},
   "outputs": [],
   "source": []
  },
  {
   "cell_type": "code",
   "execution_count": 17,
   "id": "67acd86c-7147-41b6-a5fe-104cdc37686a",
   "metadata": {},
   "outputs": [],
   "source": [
    "#can we create 2D arrya ? Yes "
   ]
  },
  {
   "cell_type": "code",
   "execution_count": 18,
   "id": "c82ea77d-35c3-49c3-b339-ce02aa38c06c",
   "metadata": {},
   "outputs": [
    {
     "data": {
      "text/plain": [
       "array([[1, 2, 3, 4, 5],\n",
       "       [6, 7, 8, 9, 0]])"
      ]
     },
     "execution_count": 18,
     "metadata": {},
     "output_type": "execute_result"
    }
   ],
   "source": [
    "arr1 = np.array([[1,2,3,4,5], [6,7,8,9,0]])\n",
    "arr1"
   ]
  },
  {
   "cell_type": "code",
   "execution_count": 20,
   "id": "4d0b0c19-c70f-45e5-aa55-1e28ca8a03a3",
   "metadata": {},
   "outputs": [
    {
     "name": "stdout",
     "output_type": "stream",
     "text": [
      "Its an \" 2d \" array.\n"
     ]
    }
   ],
   "source": [
    "print(f'Its an \" {arr1.ndim}d \" array.')"
   ]
  },
  {
   "cell_type": "code",
   "execution_count": null,
   "id": "05778acf-97f6-4a1b-a9fe-49afcf120337",
   "metadata": {},
   "outputs": [],
   "source": []
  },
  {
   "cell_type": "code",
   "execution_count": null,
   "id": "31d91d15-62f6-4933-9871-d49eb52a9405",
   "metadata": {},
   "outputs": [],
   "source": []
  },
  {
   "cell_type": "code",
   "execution_count": 21,
   "id": "3c39c8bd-2e7b-4014-9326-0725557005e4",
   "metadata": {},
   "outputs": [],
   "source": [
    "#Matrix"
   ]
  },
  {
   "cell_type": "code",
   "execution_count": 23,
   "id": "d7862a50-3797-43a6-abb4-f1d767be420c",
   "metadata": {},
   "outputs": [
    {
     "data": {
      "text/plain": [
       "matrix([[1, 2, 3, 4, 5]])"
      ]
     },
     "execution_count": 23,
     "metadata": {},
     "output_type": "execute_result"
    }
   ],
   "source": [
    "np.matrix([1,2,3,4,5]) #matrix is a specialized arrya i.e 2D array. It will not be a 3D array."
   ]
  },
  {
   "cell_type": "code",
   "execution_count": null,
   "id": "13a335c4-a24e-48fb-86f5-c627c1d6d0ae",
   "metadata": {},
   "outputs": [],
   "source": []
  },
  {
   "cell_type": "code",
   "execution_count": null,
   "id": "0ba5eb78-86a0-42cb-8e00-b407e84ec8ab",
   "metadata": {},
   "outputs": [],
   "source": []
  },
  {
   "cell_type": "code",
   "execution_count": 24,
   "id": "4589fd0a-5d0f-462f-a120-5f3f6e158099",
   "metadata": {},
   "outputs": [],
   "source": [
    "# ******** Ways to converting into Matrix ********"
   ]
  },
  {
   "cell_type": "code",
   "execution_count": null,
   "id": "2fb2636d-5331-496e-81fa-611b89b11d85",
   "metadata": {},
   "outputs": [],
   "source": []
  },
  {
   "cell_type": "code",
   "execution_count": null,
   "id": "f67e806f-8c68-4aa8-a57d-aa446ad46700",
   "metadata": {},
   "outputs": [],
   "source": [
    "# Using > np.array()\n",
    "arr1 = np.array([[1,2,3,4,5], [6,7,8,9,0]])\n",
    "arr1"
   ]
  },
  {
   "cell_type": "code",
   "execution_count": null,
   "id": "9e610afc-6121-44f0-bb52-10f34ab3ba8a",
   "metadata": {},
   "outputs": [],
   "source": []
  },
  {
   "cell_type": "code",
   "execution_count": null,
   "id": "aebbcd10-9e27-4c31-a72e-ad0d10499c14",
   "metadata": {},
   "outputs": [],
   "source": [
    "#whther its an array or not."
   ]
  },
  {
   "cell_type": "code",
   "execution_count": 28,
   "id": "2d5e233c-55ef-425d-941f-93fb455bf5cd",
   "metadata": {},
   "outputs": [
    {
     "name": "stdout",
     "output_type": "stream",
     "text": [
      "List : [1, 2, 3]\t Type <class 'list'>\n"
     ]
    },
    {
     "data": {
      "text/plain": [
       "array([1, 2, 3])"
      ]
     },
     "execution_count": 28,
     "metadata": {},
     "output_type": "execute_result"
    }
   ],
   "source": [
    "#Using > np.asarray()\n",
    "l = [1,2,3]\n",
    "print(f'List : {l}\\t Type {type(l)}')\n",
    "np.asarray(l)"
   ]
  },
  {
   "cell_type": "code",
   "execution_count": null,
   "id": "5314bdc4-f14a-408f-bd7c-7ed1e7be8171",
   "metadata": {},
   "outputs": [],
   "source": []
  },
  {
   "cell_type": "code",
   "execution_count": null,
   "id": "3f304298-d1af-436d-bc94-f5b98f0ee206",
   "metadata": {},
   "outputs": [],
   "source": [
    "#If its not an array."
   ]
  },
  {
   "cell_type": "code",
   "execution_count": 40,
   "id": "aa7a3fe0-aeac-47c2-ac85-e198b74fafb2",
   "metadata": {},
   "outputs": [
    {
     "data": {
      "text/plain": [
       "array([1, 2, 3])"
      ]
     },
     "execution_count": 40,
     "metadata": {},
     "output_type": "execute_result"
    }
   ],
   "source": [
    "#Using > np.asanyarray(l)\n",
    "l = [1,2,3]\n",
    "np.asanyarray(l)"
   ]
  },
  {
   "cell_type": "code",
   "execution_count": null,
   "id": "86692305-f8b7-4d9e-9376-9f3365314dba",
   "metadata": {},
   "outputs": [],
   "source": []
  },
  {
   "cell_type": "code",
   "execution_count": null,
   "id": "2312644d-726d-4480-80d1-07ce0bbe5424",
   "metadata": {},
   "outputs": [],
   "source": []
  },
  {
   "cell_type": "code",
   "execution_count": 30,
   "id": "daca1e16-552b-4ec4-9114-b8ff6d0aaceb",
   "metadata": {},
   "outputs": [],
   "source": [
    "#Converting Tuple into Array"
   ]
  },
  {
   "cell_type": "code",
   "execution_count": 31,
   "id": "362bd55e-498f-4c5b-b8bb-8e6986a8fc28",
   "metadata": {},
   "outputs": [
    {
     "name": "stdout",
     "output_type": "stream",
     "text": [
      "List : ([1, 2, 3], [4, 5, 6])\t Type <class 'tuple'>\n"
     ]
    },
    {
     "data": {
      "text/plain": [
       "array([[1, 2, 3],\n",
       "       [4, 5, 6]])"
      ]
     },
     "execution_count": 31,
     "metadata": {},
     "output_type": "execute_result"
    }
   ],
   "source": [
    "l = ([1,2,3],[4,5,6])\n",
    "print(f'List : {l}\\t Type {type(l)}')\n",
    "np.array(l)"
   ]
  },
  {
   "cell_type": "code",
   "execution_count": null,
   "id": "4d30b6d1-13a5-4a20-85ef-8fc80c771d3a",
   "metadata": {},
   "outputs": [],
   "source": []
  },
  {
   "cell_type": "code",
   "execution_count": null,
   "id": "c4816373-476a-4e3e-b2f1-29fecba6db2d",
   "metadata": {},
   "outputs": [],
   "source": []
  },
  {
   "cell_type": "code",
   "execution_count": 32,
   "id": "305ef8d4-18c3-4754-be80-80f793be036f",
   "metadata": {},
   "outputs": [],
   "source": [
    "#Shallow & Deep Copy"
   ]
  },
  {
   "cell_type": "code",
   "execution_count": 33,
   "id": "e593d7a6-1597-4d21-ac5a-0d9a48564d48",
   "metadata": {},
   "outputs": [
    {
     "data": {
      "text/plain": [
       "[1008, 2, 3, 4, 5]"
      ]
     },
     "execution_count": 33,
     "metadata": {},
     "output_type": "execute_result"
    }
   ],
   "source": [
    "arr = ([1,2,3,4,5])\n",
    "\n",
    "arr[0] = 1008\n",
    "\n",
    "arr"
   ]
  },
  {
   "cell_type": "code",
   "execution_count": 35,
   "id": "c18c3ef6-8fa6-4b14-a332-f1f798848437",
   "metadata": {},
   "outputs": [
    {
     "data": {
      "text/plain": [
       "[108, 2, 3, 4, 5]"
      ]
     },
     "execution_count": 35,
     "metadata": {},
     "output_type": "execute_result"
    }
   ],
   "source": [
    "#Shallow Copy\n",
    "\n",
    "\n",
    "#We are refereing the \"shallow_arr\" -> \"arr\"\n",
    "shallow_arr = arr\n",
    "\n",
    "#making changes in \"arr\" but not in \"shallow_arr\"\n",
    "arr[0] = 108\n",
    "\n",
    "\n",
    "#still its reflecting the changes made in \"arr\" into \"shallow_arr\". This is called \"Shallow Copy\"\n",
    "shallow_arr"
   ]
  },
  {
   "cell_type": "code",
   "execution_count": null,
   "id": "1e2cea38-23c6-4d49-a2f5-ca5643b327eb",
   "metadata": {},
   "outputs": [],
   "source": []
  },
  {
   "cell_type": "code",
   "execution_count": 39,
   "id": "fc1c2b6a-dd58-4bc6-a725-fd6ce62883a3",
   "metadata": {},
   "outputs": [
    {
     "data": {
      "text/plain": [
       "[108, 2, 3, 4, 5]"
      ]
     },
     "execution_count": 39,
     "metadata": {},
     "output_type": "execute_result"
    }
   ],
   "source": [
    "#Deep Copy\n",
    "\n",
    "\n",
    "#We are refereing the \"deep_arr\" -> \"arr\"\n",
    "deep_arr = arr.copy()\n",
    "\n",
    "#making changes in \"arr\" but not in \"deep_arr\". i.e 108 -> 1008\n",
    "arr[0] = 1008\n",
    "\n",
    "\n",
    "#But its not reflecting the changes made in \"arr\" into \"deep_arr\". This is called \"Deep Copy\"\n",
    "deep_arr"
   ]
  },
  {
   "cell_type": "code",
   "execution_count": null,
   "id": "1ce1c55d-5ec9-4ef9-93ae-9fe8e5009077",
   "metadata": {},
   "outputs": [],
   "source": []
  },
  {
   "cell_type": "code",
   "execution_count": null,
   "id": "fb0457d9-cc3d-485e-9f3a-6711d0b5bb2f",
   "metadata": {},
   "outputs": [],
   "source": []
  },
  {
   "cell_type": "code",
   "execution_count": 41,
   "id": "c8327a9d-537e-4a10-9161-3288e621879c",
   "metadata": {},
   "outputs": [],
   "source": [
    "#Multiple ways to generate arrays"
   ]
  },
  {
   "cell_type": "code",
   "execution_count": null,
   "id": "ace01b56-3221-437c-a29e-37d636994160",
   "metadata": {},
   "outputs": [],
   "source": []
  },
  {
   "cell_type": "code",
   "execution_count": 42,
   "id": "fb98ef4a-7967-4bd2-b0b2-54c8731002ae",
   "metadata": {},
   "outputs": [],
   "source": [
    "#fromfunction()"
   ]
  },
  {
   "cell_type": "code",
   "execution_count": 48,
   "id": "98dd91c4-20be-4f51-883d-ddf40a7df28d",
   "metadata": {},
   "outputs": [
    {
     "data": {
      "text/plain": [
       "array([[0, 1, 2],\n",
       "       [1, 2, 3],\n",
       "       [2, 3, 4]])"
      ]
     },
     "execution_count": 48,
     "metadata": {},
     "output_type": "execute_result"
    }
   ],
   "source": [
    "import numpy as np\n",
    "\n",
    "# Define a function that takes row and column indices as input and returns their sum\n",
    "def sum_of_indices(x, y):\n",
    "    return x + y\n",
    "\n",
    "# Use numpy.fromfunction() to create the array\n",
    "array = np.fromfunction(sum_of_indices, (3, 3), dtype=int) #dtype=int > as bydefault their type will be float so.\n",
    "\n",
    "array\n"
   ]
  },
  {
   "cell_type": "code",
   "execution_count": null,
   "id": "17606b99-6737-4624-9f55-d737b165712b",
   "metadata": {},
   "outputs": [],
   "source": []
  },
  {
   "cell_type": "code",
   "execution_count": 45,
   "id": "7fdd6530-97a6-4f38-9620-cf53de16e507",
   "metadata": {},
   "outputs": [],
   "source": [
    "#fromiter() "
   ]
  },
  {
   "cell_type": "code",
   "execution_count": 47,
   "id": "e6db2970-3015-48d9-9bbd-eed191f1ce5e",
   "metadata": {},
   "outputs": [
    {
     "data": {
      "text/plain": [
       "array([1, 2, 3, 4, 5])"
      ]
     },
     "execution_count": 47,
     "metadata": {},
     "output_type": "execute_result"
    }
   ],
   "source": [
    "#Creating 1-D array from iterable object.\n",
    "import numpy as np\n",
    "\n",
    "# Create a list of numbers\n",
    "numbers_list = [1, 2, 3, 4, 5]\n",
    "\n",
    "# Use numpy.fromiter() to create an array from the list\n",
    "array = np.fromiter(numbers_list, dtype=int)\n",
    "\n",
    "array"
   ]
  },
  {
   "cell_type": "code",
   "execution_count": null,
   "id": "8472c721-dbd6-4e89-a8b7-9072c0cb3af6",
   "metadata": {},
   "outputs": [],
   "source": []
  },
  {
   "cell_type": "code",
   "execution_count": null,
   "id": "d830da7f-4a61-4a74-8d07-c7e7cad10195",
   "metadata": {},
   "outputs": [],
   "source": []
  },
  {
   "cell_type": "code",
   "execution_count": 56,
   "id": "95f9c796-c3e4-4d8b-adb7-92a0c4a44fb3",
   "metadata": {},
   "outputs": [],
   "source": [
    "#arange()"
   ]
  },
  {
   "cell_type": "code",
   "execution_count": 57,
   "id": "b98d2a07-f79f-469c-b6ab-a06125f1129a",
   "metadata": {},
   "outputs": [
    {
     "data": {
      "text/plain": [
       "array([1. , 1.1, 1.2, 1.3, 1.4, 1.5, 1.6, 1.7, 1.8, 1.9, 2. , 2.1, 2.2,\n",
       "       2.3, 2.4, 2.5, 2.6, 2.7, 2.8, 2.9, 3. , 3.1, 3.2, 3.3, 3.4, 3.5,\n",
       "       3.6, 3.7, 3.8, 3.9, 4. , 4.1, 4.2, 4.3, 4.4, 4.5, 4.6, 4.7, 4.8,\n",
       "       4.9, 5. , 5.1, 5.2, 5.3, 5.4, 5.5, 5.6, 5.7, 5.8, 5.9, 6. , 6.1,\n",
       "       6.2, 6.3, 6.4, 6.5, 6.6, 6.7, 6.8, 6.9, 7. , 7.1, 7.2, 7.3, 7.4,\n",
       "       7.5, 7.6, 7.7, 7.8, 7.9, 8. , 8.1, 8.2, 8.3, 8.4, 8.5, 8.6, 8.7,\n",
       "       8.8, 8.9, 9. , 9.1, 9.2, 9.3, 9.4, 9.5, 9.6, 9.7, 9.8, 9.9])"
      ]
     },
     "execution_count": 57,
     "metadata": {},
     "output_type": "execute_result"
    }
   ],
   "source": [
    "np.arange(1,10, 0.1) # start end difference"
   ]
  },
  {
   "cell_type": "code",
   "execution_count": null,
   "id": "39bbe89a-e3dc-4b79-9364-ee58954a84c3",
   "metadata": {},
   "outputs": [],
   "source": []
  }
 ],
 "metadata": {
  "kernelspec": {
   "display_name": "Python 3 (ipykernel)",
   "language": "python",
   "name": "python3"
  },
  "language_info": {
   "codemirror_mode": {
    "name": "ipython",
    "version": 3
   },
   "file_extension": ".py",
   "mimetype": "text/x-python",
   "name": "python",
   "nbconvert_exporter": "python",
   "pygments_lexer": "ipython3",
   "version": "3.10.8"
  }
 },
 "nbformat": 4,
 "nbformat_minor": 5
}
