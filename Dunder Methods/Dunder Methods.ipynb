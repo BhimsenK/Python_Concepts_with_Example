{
 "cells": [
  {
   "cell_type": "code",
   "execution_count": 1,
   "id": "83d651a1-d099-44bd-9c42-9be6dc68d1da",
   "metadata": {},
   "outputs": [],
   "source": [
    "#Dunder Methods/ Magic Methods"
   ]
  },
  {
   "cell_type": "code",
   "execution_count": null,
   "id": "b803c810-5039-4974-9110-a12c997cd7df",
   "metadata": {},
   "outputs": [],
   "source": []
  },
  {
   "cell_type": "code",
   "execution_count": 2,
   "id": "197b0157-a0a3-476f-ad43-44e4bf16b6c2",
   "metadata": {},
   "outputs": [],
   "source": [
    "#below are the Dunder Methods"
   ]
  },
  {
   "cell_type": "code",
   "execution_count": 3,
   "id": "3b5212cb-3817-4ed4-9e98-5567e1694d6c",
   "metadata": {},
   "outputs": [
    {
     "data": {
      "text/plain": [
       "['__add__',\n",
       " '__class__',\n",
       " '__contains__',\n",
       " '__delattr__',\n",
       " '__dir__',\n",
       " '__doc__',\n",
       " '__eq__',\n",
       " '__format__',\n",
       " '__ge__',\n",
       " '__getattribute__',\n",
       " '__getitem__',\n",
       " '__getnewargs__',\n",
       " '__gt__',\n",
       " '__hash__',\n",
       " '__init__',\n",
       " '__init_subclass__',\n",
       " '__iter__',\n",
       " '__le__',\n",
       " '__len__',\n",
       " '__lt__',\n",
       " '__mod__',\n",
       " '__mul__',\n",
       " '__ne__',\n",
       " '__new__',\n",
       " '__reduce__',\n",
       " '__reduce_ex__',\n",
       " '__repr__',\n",
       " '__rmod__',\n",
       " '__rmul__',\n",
       " '__setattr__',\n",
       " '__sizeof__',\n",
       " '__str__',\n",
       " '__subclasshook__',\n",
       " 'capitalize',\n",
       " 'casefold',\n",
       " 'center',\n",
       " 'count',\n",
       " 'encode',\n",
       " 'endswith',\n",
       " 'expandtabs',\n",
       " 'find',\n",
       " 'format',\n",
       " 'format_map',\n",
       " 'index',\n",
       " 'isalnum',\n",
       " 'isalpha',\n",
       " 'isascii',\n",
       " 'isdecimal',\n",
       " 'isdigit',\n",
       " 'isidentifier',\n",
       " 'islower',\n",
       " 'isnumeric',\n",
       " 'isprintable',\n",
       " 'isspace',\n",
       " 'istitle',\n",
       " 'isupper',\n",
       " 'join',\n",
       " 'ljust',\n",
       " 'lower',\n",
       " 'lstrip',\n",
       " 'maketrans',\n",
       " 'partition',\n",
       " 'removeprefix',\n",
       " 'removesuffix',\n",
       " 'replace',\n",
       " 'rfind',\n",
       " 'rindex',\n",
       " 'rjust',\n",
       " 'rpartition',\n",
       " 'rsplit',\n",
       " 'rstrip',\n",
       " 'split',\n",
       " 'splitlines',\n",
       " 'startswith',\n",
       " 'strip',\n",
       " 'swapcase',\n",
       " 'title',\n",
       " 'translate',\n",
       " 'upper',\n",
       " 'zfill']"
      ]
     },
     "execution_count": 3,
     "metadata": {},
     "output_type": "execute_result"
    }
   ],
   "source": [
    "dir(str)"
   ]
  },
  {
   "cell_type": "code",
   "execution_count": 5,
   "id": "8d8a652b-79bb-4df5-b3f1-6f7cfcad3e43",
   "metadata": {},
   "outputs": [],
   "source": [
    "#What ever we use i.e upper, strip, splitlines, isalpho ... etc are Dunder Method/ Magic Methods."
   ]
  },
  {
   "cell_type": "code",
   "execution_count": null,
   "id": "9ba4ba23-a9d7-4541-98a2-b6d1643cbf10",
   "metadata": {},
   "outputs": [],
   "source": []
  },
  {
   "cell_type": "code",
   "execution_count": null,
   "id": "f0f776d3-d5b1-4da9-9b28-c86320482de6",
   "metadata": {},
   "outputs": [],
   "source": [
    "'''\n",
    "As we know, whenever a class has been called, firstly its constructor/__init__() will be called.\n",
    "But can we call any other function even before the constructor ? YES i.e __new__()\n",
    "'''"
   ]
  },
  {
   "cell_type": "code",
   "execution_count": 6,
   "id": "43335679-b62a-40f2-8bc2-653f1bca937b",
   "metadata": {},
   "outputs": [
    {
     "name": "stdout",
     "output_type": "stream",
     "text": [
      "This is constructor !!!\n"
     ]
    }
   ],
   "source": [
    "class Firstclass:\n",
    "    def __init__(self):\n",
    "        print(f'This is constructor !!!')\n",
    "\n",
    "FC = Firstclass()"
   ]
  },
  {
   "cell_type": "code",
   "execution_count": null,
   "id": "e1ca6e35-b401-4338-a218-2b01cd04091b",
   "metadata": {},
   "outputs": [],
   "source": []
  },
  {
   "cell_type": "code",
   "execution_count": 7,
   "id": "705bd6b6-7abf-4cf0-92a8-0991b40974c0",
   "metadata": {},
   "outputs": [
    {
     "name": "stdout",
     "output_type": "stream",
     "text": [
      "This is called before Constructor !!!\n"
     ]
    }
   ],
   "source": [
    "class Firstclass:\n",
    "    def __new__(self):\n",
    "        print(f'This is called before Constructor !!!')\n",
    "    def __init__(self):\n",
    "        print(f'This is constructor !!!')\n",
    "\n",
    "FC = Firstclass()"
   ]
  },
  {
   "cell_type": "code",
   "execution_count": null,
   "id": "b1476b9b-856f-4a15-8c44-6ba053615ebc",
   "metadata": {},
   "outputs": [],
   "source": []
  }
 ],
 "metadata": {
  "kernelspec": {
   "display_name": "Python 3 (ipykernel)",
   "language": "python",
   "name": "python3"
  },
  "language_info": {
   "codemirror_mode": {
    "name": "ipython",
    "version": 3
   },
   "file_extension": ".py",
   "mimetype": "text/x-python",
   "name": "python",
   "nbconvert_exporter": "python",
   "pygments_lexer": "ipython3",
   "version": "3.10.8"
  }
 },
 "nbformat": 4,
 "nbformat_minor": 5
}
