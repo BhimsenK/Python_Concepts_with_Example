{
 "cells": [
  {
   "cell_type": "code",
   "execution_count": 1,
   "id": "c312d80f-b478-4996-8aee-339e866cee49",
   "metadata": {},
   "outputs": [],
   "source": [
    "#Function Nesting"
   ]
  },
  {
   "cell_type": "code",
   "execution_count": null,
   "id": "368a1860-2741-4e2b-ac5c-b74aa632f6fd",
   "metadata": {},
   "outputs": [],
   "source": []
  },
  {
   "cell_type": "code",
   "execution_count": 26,
   "id": "3ee0896a-e5ce-42ee-8849-1143bd6be72a",
   "metadata": {},
   "outputs": [],
   "source": [
    "def outer():\n",
    "    \n",
    "    print(f'This is outer function !!!')\n",
    "    \n",
    "    def inner():\n",
    "        print(f'This is inner function !!!')\n",
    "        \n",
    "    return inner"
   ]
  },
  {
   "cell_type": "code",
   "execution_count": 27,
   "id": "62177f64-ced5-439b-80cd-29ccd7515a9b",
   "metadata": {},
   "outputs": [
    {
     "name": "stdout",
     "output_type": "stream",
     "text": [
      "This is outer function !!!\n"
     ]
    }
   ],
   "source": [
    "obj = outer()"
   ]
  },
  {
   "cell_type": "code",
   "execution_count": null,
   "id": "8a2c33e2-abed-4203-9d8b-67fdcbbfc51b",
   "metadata": {},
   "outputs": [],
   "source": []
  },
  {
   "cell_type": "code",
   "execution_count": 28,
   "id": "893c20f2-a5fe-4dbf-a9f6-0769d1c27c4c",
   "metadata": {},
   "outputs": [],
   "source": [
    "def outer():\n",
    "  print(\"Hello from the outer\")\n",
    "\n",
    "  def inner():\n",
    "    print(\"Hello from the inner\")\n",
    "\n",
    "  return inner"
   ]
  },
  {
   "cell_type": "code",
   "execution_count": 29,
   "id": "6fd1ee20-0cb7-4705-a8fc-ea81b977854d",
   "metadata": {},
   "outputs": [
    {
     "name": "stdout",
     "output_type": "stream",
     "text": [
      "Hello from the outer\n"
     ]
    }
   ],
   "source": [
    "fn = outer()"
   ]
  },
  {
   "cell_type": "code",
   "execution_count": 30,
   "id": "290e6cd2-bd2b-48bf-9e05-9ed522ac0a75",
   "metadata": {},
   "outputs": [
    {
     "name": "stdout",
     "output_type": "stream",
     "text": [
      "Hello from the inner\n"
     ]
    }
   ],
   "source": [
    "fn()"
   ]
  },
  {
   "cell_type": "code",
   "execution_count": null,
   "id": "69f0fa35-08c3-4d21-ba26-6cc35551880c",
   "metadata": {},
   "outputs": [],
   "source": []
  }
 ],
 "metadata": {
  "kernelspec": {
   "display_name": "Python 3 (ipykernel)",
   "language": "python",
   "name": "python3"
  },
  "language_info": {
   "codemirror_mode": {
    "name": "ipython",
    "version": 3
   },
   "file_extension": ".py",
   "mimetype": "text/x-python",
   "name": "python",
   "nbconvert_exporter": "python",
   "pygments_lexer": "ipython3",
   "version": "3.10.8"
  }
 },
 "nbformat": 4,
 "nbformat_minor": 5
}
