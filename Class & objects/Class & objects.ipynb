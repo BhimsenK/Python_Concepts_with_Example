{
 "cells": [
  {
   "cell_type": "code",
   "execution_count": 1,
   "id": "5e8ebc62-357d-40ee-8a65-f210a27c0aa2",
   "metadata": {},
   "outputs": [],
   "source": []
  },
  {
   "cell_type": "code",
   "execution_count": 3,
   "id": "a91ba08f-3dea-458c-80de-5848c947f48c",
   "metadata": {},
   "outputs": [
    {
     "name": "stdout",
     "output_type": "stream",
     "text": [
      "<class '__main__.Person'>\n",
      "<__main__.Person object at 0x7f0cf39b6d70>\n"
     ]
    }
   ],
   "source": [
    "#creating a class\n",
    "class Person:\n",
    "    pass  #(class boday)\n",
    "\n",
    "\n",
    "#creating objec\n",
    "obj = Person()  \n",
    "\n",
    "print(type(obj))\n",
    "print(obj)"
   ]
  },
  {
   "cell_type": "code",
   "execution_count": null,
   "id": "8059749a-530c-401e-a928-586bea45e274",
   "metadata": {},
   "outputs": [],
   "source": []
  },
  {
   "cell_type": "raw",
   "id": "c923e1b8-6be4-40d7-ac62-7e3c9f954255",
   "metadata": {},
   "source": []
  },
  {
   "cell_type": "code",
   "execution_count": 4,
   "id": "01059e92-7201-49e4-8799-959ce1090bba",
   "metadata": {},
   "outputs": [
    {
     "name": "stdout",
     "output_type": "stream",
     "text": [
      "Madara\n",
      "99\n"
     ]
    }
   ],
   "source": [
    "class Person:\n",
    "    name = \"Madara\"\n",
    "    age  = 99\n",
    "    \n",
    "per = Person()\n",
    "\n",
    "print(per.name)\n",
    "print(per.age)"
   ]
  },
  {
   "cell_type": "code",
   "execution_count": 6,
   "id": "e7a23a72-6ff3-4f85-8928-542f6d8c0eb4",
   "metadata": {},
   "outputs": [
    {
     "name": "stdout",
     "output_type": "stream",
     "text": [
      "Ghost of the Uchihas ...\n"
     ]
    }
   ],
   "source": [
    "per.hobby = \"creating Jutsus ... \"\n",
    "per.lovename = \"Ghost of the Uchihas ...\"\n",
    "\n",
    "print(per.lovename)"
   ]
  },
  {
   "cell_type": "raw",
   "id": "a4a4434c-b9c7-4195-91e0-bd5741597254",
   "metadata": {},
   "source": []
  },
  {
   "cell_type": "code",
   "execution_count": 12,
   "id": "e054f2a8-3069-4c58-a7d2-f8ac38442123",
   "metadata": {},
   "outputs": [
    {
     "name": "stdout",
     "output_type": "stream",
     "text": [
      "creating Jutsus ... \n",
      "- - - - - - - - - - - -\n"
     ]
    }
   ],
   "source": [
    "print(per.hobby)\n",
    "print(\"- - - - - - - - - - - -\")"
   ]
  },
  {
   "cell_type": "code",
   "execution_count": 14,
   "id": "7f7e970d-a23e-46ce-a094-f4b681733e48",
   "metadata": {},
   "outputs": [
    {
     "name": "stdout",
     "output_type": "stream",
     "text": [
      "'Person' object has no attribute 'hobby'\n"
     ]
    }
   ],
   "source": [
    "new_obj = Person() #creating new object to see whether we can access hobby & lovename.\n",
    "try:\n",
    "    print(new_obj.hobby)\n",
    "except Exception as e:\n",
    "    print(e)"
   ]
  },
  {
   "cell_type": "code",
   "execution_count": null,
   "id": "4c9d374c-bd39-4781-8c7b-100324741a6c",
   "metadata": {},
   "outputs": [],
   "source": []
  },
  {
   "cell_type": "code",
   "execution_count": null,
   "id": "51baf8b0-669f-4035-b3e8-5729f2b8beab",
   "metadata": {},
   "outputs": [],
   "source": []
  },
  {
   "cell_type": "code",
   "execution_count": 4,
   "id": "39374467-d996-428f-a645-c93de9983923",
   "metadata": {},
   "outputs": [],
   "source": [
    "#defining variable at class level. That's why even after creating 3 diff. objects we are getting same name."
   ]
  },
  {
   "cell_type": "code",
   "execution_count": 5,
   "id": "66f653fa-9cd2-4c9f-be4e-c9808e2249d1",
   "metadata": {},
   "outputs": [
    {
     "name": "stdout",
     "output_type": "stream",
     "text": [
      "Lofy\n",
      "Lofy\n",
      "Lofy\n"
     ]
    }
   ],
   "source": [
    "class Person :\n",
    "    name = \"Lofy\"\n",
    "    age  = 24\n",
    "    \n",
    "p1 = Person()\n",
    "p2 = Person()\n",
    "p3 = Person()\n",
    "  \n",
    "print(f'{p1.name}\\n{p2.name}\\n{p3.name}')"
   ]
  },
  {
   "cell_type": "code",
   "execution_count": null,
   "id": "d22f9b98-736b-423a-835f-bc9c0fe9db99",
   "metadata": {},
   "outputs": [],
   "source": []
  },
  {
   "cell_type": "code",
   "execution_count": 6,
   "id": "449d4785-6da7-433e-9f0c-b55672449d65",
   "metadata": {},
   "outputs": [],
   "source": [
    "#if want to have different name for each object."
   ]
  },
  {
   "cell_type": "code",
   "execution_count": 8,
   "id": "ef7aa1f2-9458-41c4-b1ff-a5a447cbd627",
   "metadata": {},
   "outputs": [],
   "source": [
    "class Person:\n",
    "    def __init__(self, name, age): #Constructor/ initializer.\n",
    "        self.name = name\n",
    "        self.age = age\n",
    "        \n",
    "    def display_name(self):\n",
    "        print(self.name)"
   ]
  },
  {
   "cell_type": "code",
   "execution_count": 12,
   "id": "d914d9a8-91d5-4a96-b351-5b68bef893b0",
   "metadata": {},
   "outputs": [
    {
     "name": "stdout",
     "output_type": "stream",
     "text": [
      "Saif\n",
      "Kareena\n",
      "Akshay\n"
     ]
    }
   ],
   "source": [
    "P1 = Person('Saif', 57)\n",
    "P2 = Person('Kareena', 47)\n",
    "P3 = Person('Akshay', 47)\n",
    "\n",
    "P1.display_name()\n",
    "P2.display_name()\n",
    "P3.display_name()"
   ]
  },
  {
   "cell_type": "code",
   "execution_count": null,
   "id": "74c00fc0-5552-42fa-8864-fa8f0721b16c",
   "metadata": {},
   "outputs": [],
   "source": []
  },
  {
   "cell_type": "code",
   "execution_count": null,
   "id": "c7f99c44-af4d-443f-a651-f7d92426600d",
   "metadata": {},
   "outputs": [],
   "source": []
  },
  {
   "cell_type": "code",
   "execution_count": 13,
   "id": "1ddbae95-e7dd-4a03-98da-4152f60b8c74",
   "metadata": {},
   "outputs": [],
   "source": [
    "# Q. Can we have multiple init methods ? >> NO !!!"
   ]
  },
  {
   "cell_type": "code",
   "execution_count": null,
   "id": "c7d098ba-ac8e-4cff-bf5e-c0ce06b7a7ea",
   "metadata": {},
   "outputs": [],
   "source": [
    "'''\n",
    "In the below example, we can see that we are having multiple init() methods and still its giving us output without exception.\n",
    "Thats because, when we have multiple init() methods then it consider only the last init().\n",
    "\n",
    "And in last init(), we are initialized only \"name\" variable. \n",
    "'''"
   ]
  },
  {
   "cell_type": "code",
   "execution_count": 18,
   "id": "bec96c67-620e-43d6-a920-e114ade01531",
   "metadata": {},
   "outputs": [
    {
     "data": {
      "text/plain": [
       "'Shree'"
      ]
     },
     "execution_count": 18,
     "metadata": {},
     "output_type": "execute_result"
    }
   ],
   "source": [
    "class Person:\n",
    "    def __init__(self, name, age): #Constructor/ initializer - (1)\n",
    "        self.name = name\n",
    "        self.age = age\n",
    "        \n",
    "    def __init__(self, name): #Constructor/ initializer.     - (2)\n",
    "        self.name = name\n",
    "        \n",
    "        \n",
    "p1 = Person('Shree')\n",
    "p1.name"
   ]
  },
  {
   "cell_type": "code",
   "execution_count": null,
   "id": "c56a25b5-7a1c-444c-80f2-eadb5baf9345",
   "metadata": {},
   "outputs": [],
   "source": []
  },
  {
   "cell_type": "code",
   "execution_count": 19,
   "id": "ae1c62e6-ddf6-4538-be95-b77133bfd95c",
   "metadata": {},
   "outputs": [],
   "source": [
    "# default/ optional parameters"
   ]
  },
  {
   "cell_type": "code",
   "execution_count": 24,
   "id": "c2a8b33c-c822-49c0-b294-1c9a5da3bd73",
   "metadata": {},
   "outputs": [
    {
     "name": "stdout",
     "output_type": "stream",
     "text": [
      "badminton\n",
      "bla bla bla...\n"
     ]
    }
   ],
   "source": [
    "class Person:\n",
    "    def __init__(self, name, age = 99, hobby = \"badminton\"): #Constructor/ initializer \n",
    "        self.name = name\n",
    "        self.age = age\n",
    "        self.hobby = hobby\n",
    "        \n",
    "p1 = Person('Shree')\n",
    "p2 = Person('bhimsen', 25)\n",
    "p3 = Person('shiru', 27, 'bla bla bla...')\n",
    "\n",
    "\n",
    "print(p1.hobby) #without given hobby\n",
    "print(p3.hobby) #with given hobby"
   ]
  },
  {
   "cell_type": "code",
   "execution_count": null,
   "id": "98d68753-a66e-46d7-ba39-4f4f3958f396",
   "metadata": {},
   "outputs": [],
   "source": []
  },
  {
   "cell_type": "code",
   "execution_count": 25,
   "id": "404a6d30-5082-4bbb-843e-ffc87a480c04",
   "metadata": {},
   "outputs": [],
   "source": [
    "# class Vs Instance"
   ]
  },
  {
   "cell_type": "code",
   "execution_count": 27,
   "id": "63ab0fbd-e650-4cb0-8b45-6a426e22af1e",
   "metadata": {},
   "outputs": [
    {
     "name": "stdout",
     "output_type": "stream",
     "text": [
      "Arav Bharat\n",
      "Arvi Bharat\n"
     ]
    }
   ],
   "source": [
    "class Person:\n",
    "    country = \"Bharat\"   # Class level variable.\n",
    "    \n",
    "    def __init__(self, name , age):\n",
    "        self.name = name    # } Instance variables.\n",
    "        self.age  = age\n",
    "        \n",
    "p1 = Person('Arav', 23)\n",
    "p2 = Person('Arvi', 25)\n",
    "\n",
    "print(p1.name, p1.country)\n",
    "print(p2.name, p2.country)"
   ]
  },
  {
   "cell_type": "code",
   "execution_count": null,
   "id": "108222b0-52fc-457a-bc1b-a22359d7c057",
   "metadata": {},
   "outputs": [],
   "source": []
  },
  {
   "cell_type": "code",
   "execution_count": null,
   "id": "492dafe3-ba71-4f32-860d-95db0a8a3a70",
   "metadata": {},
   "outputs": [],
   "source": []
  }
 ],
 "metadata": {
  "kernelspec": {
   "display_name": "Python 3 (ipykernel)",
   "language": "python",
   "name": "python3"
  },
  "language_info": {
   "codemirror_mode": {
    "name": "ipython",
    "version": 3
   },
   "file_extension": ".py",
   "mimetype": "text/x-python",
   "name": "python",
   "nbconvert_exporter": "python",
   "pygments_lexer": "ipython3",
   "version": "3.10.8"
  }
 },
 "nbformat": 4,
 "nbformat_minor": 5
}
