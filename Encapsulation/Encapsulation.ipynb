{
 "cells": [
  {
   "cell_type": "code",
   "execution_count": 1,
   "id": "815b2e61-f358-4ea4-a52d-3d115c623312",
   "metadata": {},
   "outputs": [],
   "source": [
    "#Encapsulation"
   ]
  },
  {
   "cell_type": "code",
   "execution_count": null,
   "id": "175cdc2f-81d3-4cb0-a4b0-e6320459341b",
   "metadata": {},
   "outputs": [],
   "source": [
    "#Public -------------- "
   ]
  },
  {
   "cell_type": "code",
   "execution_count": 11,
   "id": "4666ff8f-afe9-418a-9b18-0b119c5c7a55",
   "metadata": {},
   "outputs": [],
   "source": [
    "class My_Vehical:\n",
    "    def __init__(self, Access):\n",
    "        self.Access = Access\n",
    "    \n",
    "    def Average(self):\n",
    "        print(f'Its having Average of 50 KM/L')"
   ]
  },
  {
   "cell_type": "code",
   "execution_count": 12,
   "id": "2081dc8b-eeef-49c9-a567-ba38643e6243",
   "metadata": {},
   "outputs": [],
   "source": [
    "keys = My_Vehical(\"Yes\")"
   ]
  },
  {
   "cell_type": "code",
   "execution_count": 13,
   "id": "9fbae816-2db9-4216-a8c9-b3ef1b82d679",
   "metadata": {},
   "outputs": [
    {
     "data": {
      "text/plain": [
       "'Yes'"
      ]
     },
     "execution_count": 13,
     "metadata": {},
     "output_type": "execute_result"
    }
   ],
   "source": [
    "keys.Access"
   ]
  },
  {
   "cell_type": "code",
   "execution_count": 14,
   "id": "219aac2f-6d8a-4de7-aee1-b3e73f149cd1",
   "metadata": {},
   "outputs": [
    {
     "name": "stdout",
     "output_type": "stream",
     "text": [
      "Its having Average of 50 KM/L\n"
     ]
    }
   ],
   "source": [
    "keys.Average()"
   ]
  },
  {
   "cell_type": "code",
   "execution_count": null,
   "id": "417fae7b-b1e5-4b9d-a9ad-7786cf1ca534",
   "metadata": {},
   "outputs": [],
   "source": []
  },
  {
   "cell_type": "code",
   "execution_count": null,
   "id": "bd5c38ed-30a7-4f43-a9b3-37cc75d212a9",
   "metadata": {},
   "outputs": [],
   "source": []
  },
  {
   "cell_type": "code",
   "execution_count": 15,
   "id": "3fcac8ab-04f8-4a48-bf14-a347cec7ea3d",
   "metadata": {},
   "outputs": [],
   "source": [
    "#Private ------------------"
   ]
  },
  {
   "cell_type": "code",
   "execution_count": 16,
   "id": "714c1e62-35e3-4588-b21c-e62bcb8f83cc",
   "metadata": {},
   "outputs": [],
   "source": [
    "class My_Instagram:\n",
    "    def __init__(self, username, password):\n",
    "        self.username = username\n",
    "        self.__password = password"
   ]
  },
  {
   "cell_type": "code",
   "execution_count": 17,
   "id": "13b284b5-6280-4717-9b0b-7843a51ded25",
   "metadata": {},
   "outputs": [],
   "source": [
    "Request = My_Instagram('shri', 'shri@123')"
   ]
  },
  {
   "cell_type": "code",
   "execution_count": 18,
   "id": "fa3200d9-8462-4f49-873d-3e9df5d3f153",
   "metadata": {},
   "outputs": [
    {
     "data": {
      "text/plain": [
       "'shri'"
      ]
     },
     "execution_count": 18,
     "metadata": {},
     "output_type": "execute_result"
    }
   ],
   "source": [
    "Request.username"
   ]
  },
  {
   "cell_type": "code",
   "execution_count": 19,
   "id": "cc63061c-c14b-4d70-87eb-2c3aad5f53bc",
   "metadata": {},
   "outputs": [
    {
     "ename": "AttributeError",
     "evalue": "'My_Instagram' object has no attribute 'password'",
     "output_type": "error",
     "traceback": [
      "\u001b[0;31m---------------------------------------------------------------------------\u001b[0m",
      "\u001b[0;31mAttributeError\u001b[0m                            Traceback (most recent call last)",
      "Cell \u001b[0;32mIn[19], line 1\u001b[0m\n\u001b[0;32m----> 1\u001b[0m \u001b[43mRequest\u001b[49m\u001b[38;5;241;43m.\u001b[39;49m\u001b[43mpassword\u001b[49m\n",
      "\u001b[0;31mAttributeError\u001b[0m: 'My_Instagram' object has no attribute 'password'"
     ]
    }
   ],
   "source": [
    "Request.password #as the password is private so we cant be able to access it."
   ]
  },
  {
   "cell_type": "code",
   "execution_count": 21,
   "id": "ed159a3f-4e65-406f-9dd1-b2f8b3e1c0a3",
   "metadata": {},
   "outputs": [
    {
     "data": {
      "text/plain": [
       "'shri@123'"
      ]
     },
     "execution_count": 21,
     "metadata": {},
     "output_type": "execute_result"
    }
   ],
   "source": [
    "Request._My_Instagram__password   #For accessing private variables we need to call be below syntax.\n",
    "\n",
    "#obj._className__privatevariablename\n"
   ]
  },
  {
   "cell_type": "code",
   "execution_count": null,
   "id": "fe058502-0137-41b9-a142-9930b39f3fac",
   "metadata": {},
   "outputs": [],
   "source": []
  },
  {
   "cell_type": "code",
   "execution_count": 22,
   "id": "2161ca27-e56f-4a48-90ad-4edcc7e6cf00",
   "metadata": {},
   "outputs": [],
   "source": [
    "#To show which are the all parameters in the class including private, we can print in one function"
   ]
  },
  {
   "cell_type": "code",
   "execution_count": 26,
   "id": "2d26b342-975e-482a-9d9f-3e5d3ba665a1",
   "metadata": {},
   "outputs": [],
   "source": [
    "class My_Instagram:\n",
    "    def __init__(self, username, password):\n",
    "        self.username = username\n",
    "        self.__password = password\n",
    "    \n",
    "    def show(self):\n",
    "        print(f'username : {self.username}\\npassword : {self.__password}')"
   ]
  },
  {
   "cell_type": "code",
   "execution_count": 27,
   "id": "acf46e96-3851-4bad-81a7-a268f4b6fcee",
   "metadata": {},
   "outputs": [],
   "source": [
    "Request = My_Instagram('shree', 'shree@123')"
   ]
  },
  {
   "cell_type": "code",
   "execution_count": 28,
   "id": "7e44ff33-4d87-475a-909a-e454dabee310",
   "metadata": {},
   "outputs": [
    {
     "name": "stdout",
     "output_type": "stream",
     "text": [
      "username : shree\n",
      "password : shree@123\n"
     ]
    }
   ],
   "source": [
    "Request.show()"
   ]
  },
  {
   "cell_type": "code",
   "execution_count": null,
   "id": "dc5bb24e-aa88-42cc-8fb5-e74148fa952a",
   "metadata": {},
   "outputs": [],
   "source": []
  },
  {
   "cell_type": "code",
   "execution_count": 29,
   "id": "f92fc79c-aacf-4983-89e8-d7793d913e21",
   "metadata": {},
   "outputs": [],
   "source": [
    "#set new values to private/ public variables"
   ]
  },
  {
   "cell_type": "code",
   "execution_count": 30,
   "id": "ebb4b6d0-b456-4bdc-a7c6-ecf41537b1af",
   "metadata": {},
   "outputs": [],
   "source": [
    "class My_Instagram:\n",
    "    def __init__(self, username, password):\n",
    "        self.username = username\n",
    "        self.__password = password\n",
    "    \n",
    "    def show(self):\n",
    "        print(f'username : {self.username}\\npassword : {self.__password}')\n",
    "        \n",
    "    def set_password(self, password):\n",
    "        self.__password = password\n",
    "    \n",
    "    def get_password(self):\n",
    "        print(self.__password)"
   ]
  },
  {
   "cell_type": "code",
   "execution_count": 31,
   "id": "7e54d3a2-4246-4fb7-8866-6fc05d3f7aa0",
   "metadata": {},
   "outputs": [],
   "source": [
    "Request = My_Instagram('shree', 'shree@12345')"
   ]
  },
  {
   "cell_type": "code",
   "execution_count": 32,
   "id": "946d1066-1c29-4496-841b-7b1080b6fe6b",
   "metadata": {},
   "outputs": [
    {
     "name": "stdout",
     "output_type": "stream",
     "text": [
      "shree@12345\n"
     ]
    }
   ],
   "source": [
    "Request.get_password()"
   ]
  },
  {
   "cell_type": "code",
   "execution_count": 33,
   "id": "1a159414-7e86-44ce-acb1-2c952baa0ed7",
   "metadata": {},
   "outputs": [],
   "source": [
    "Request.set_password(\"Bhim@69\")"
   ]
  },
  {
   "cell_type": "code",
   "execution_count": 34,
   "id": "e7abebb5-3c04-4262-956c-3453b0f2bdee",
   "metadata": {},
   "outputs": [
    {
     "name": "stdout",
     "output_type": "stream",
     "text": [
      "Bhim@69\n"
     ]
    }
   ],
   "source": [
    "Request.get_password()"
   ]
  },
  {
   "cell_type": "code",
   "execution_count": 35,
   "id": "b3171362-8292-4210-b1d7-25c4a9a2d5a8",
   "metadata": {},
   "outputs": [
    {
     "name": "stdout",
     "output_type": "stream",
     "text": [
      "username : shree\n",
      "password : Bhim@69\n"
     ]
    }
   ],
   "source": [
    "Request.show()"
   ]
  },
  {
   "cell_type": "code",
   "execution_count": null,
   "id": "76d2f021-9e38-478e-a1d7-5057ab532c54",
   "metadata": {},
   "outputs": [],
   "source": []
  },
  {
   "cell_type": "code",
   "execution_count": 36,
   "id": "42fcabcf-6db3-4718-b077-37c5a9fca1ea",
   "metadata": {},
   "outputs": [],
   "source": [
    "#small coding project on Encapusalation "
   ]
  },
  {
   "cell_type": "code",
   "execution_count": 37,
   "id": "1bd7757b-3104-4dc3-bccd-11ec3ea0d63b",
   "metadata": {},
   "outputs": [],
   "source": [
    "#project : Banking methods"
   ]
  },
  {
   "cell_type": "code",
   "execution_count": 45,
   "id": "8554dbe9-3010-423d-a1f1-e9f0266b255e",
   "metadata": {},
   "outputs": [],
   "source": [
    "class Bank:\n",
    "    def __init__(self, balance):\n",
    "        self.__balance = balance\n",
    "        \n",
    "    def deposite(self, amount):\n",
    "        self.__balance += amount\n",
    "        \n",
    "    def withdraw(self, amount):\n",
    "        if self.__balance >= amount:\n",
    "            self.__balance -= amount\n",
    "            return True\n",
    "        else:\n",
    "            return False\n",
    "    \n",
    "    def show(self):\n",
    "        print(f'Current Balance : {self.__balance} !!!')"
   ]
  },
  {
   "cell_type": "code",
   "execution_count": 46,
   "id": "d345f73d-b3d7-4d6c-89d7-36e4a6e1a03e",
   "metadata": {},
   "outputs": [],
   "source": [
    "PJB = Bank(23000)"
   ]
  },
  {
   "cell_type": "code",
   "execution_count": 47,
   "id": "5e7dddf0-d245-44bd-8ce4-b1b82175323d",
   "metadata": {},
   "outputs": [
    {
     "name": "stdout",
     "output_type": "stream",
     "text": [
      "Current Balance : 23000 !!!\n"
     ]
    }
   ],
   "source": [
    "PJB.show()"
   ]
  },
  {
   "cell_type": "code",
   "execution_count": 48,
   "id": "5da4bf9d-111d-497c-aa51-ab4ae7432a83",
   "metadata": {},
   "outputs": [],
   "source": [
    "PJB.deposite(5000)"
   ]
  },
  {
   "cell_type": "code",
   "execution_count": 49,
   "id": "eb043e5c-48f1-4db0-880d-b0da0ea41339",
   "metadata": {},
   "outputs": [
    {
     "name": "stdout",
     "output_type": "stream",
     "text": [
      "Current Balance : 28000 !!!\n"
     ]
    }
   ],
   "source": [
    "PJB.show()"
   ]
  },
  {
   "cell_type": "code",
   "execution_count": 50,
   "id": "11df3a43-564a-479e-9486-dd5a095d04b0",
   "metadata": {},
   "outputs": [
    {
     "data": {
      "text/plain": [
       "True"
      ]
     },
     "execution_count": 50,
     "metadata": {},
     "output_type": "execute_result"
    }
   ],
   "source": [
    "PJB.withdraw(12000)"
   ]
  },
  {
   "cell_type": "code",
   "execution_count": 51,
   "id": "0e494092-9db4-4f75-b347-94c2a2a142de",
   "metadata": {},
   "outputs": [
    {
     "name": "stdout",
     "output_type": "stream",
     "text": [
      "Current Balance : 16000 !!!\n"
     ]
    }
   ],
   "source": [
    "PJB.show()"
   ]
  },
  {
   "cell_type": "code",
   "execution_count": null,
   "id": "038b958c-7411-4a0f-b24d-deab13dffada",
   "metadata": {},
   "outputs": [],
   "source": []
  },
  {
   "cell_type": "code",
   "execution_count": null,
   "id": "d927b4d9-0f72-4c50-956d-f012f0ca5d66",
   "metadata": {},
   "outputs": [],
   "source": []
  },
  {
   "cell_type": "code",
   "execution_count": 52,
   "id": "c4a5c5ce-1d56-479d-bc24-7c70638dfcfe",
   "metadata": {},
   "outputs": [],
   "source": [
    "#Protected ------------------"
   ]
  },
  {
   "cell_type": "code",
   "execution_count": null,
   "id": "6a4f3275-caf3-428b-96d2-63533406a023",
   "metadata": {},
   "outputs": [],
   "source": [
    "  #using Class name"
   ]
  },
  {
   "cell_type": "code",
   "execution_count": 122,
   "id": "ffeb6565-2d22-4f6d-ac68-c54fa59cd68d",
   "metadata": {},
   "outputs": [],
   "source": [
    "class Family:\n",
    "    def __init__(self):\n",
    "        self._status = \"Well Educated\" #protected  (not accessible)\n",
    "\n",
    "class grandchildren(Family):\n",
    "    def __init__(self, business):\n",
    "        self.business = business\n",
    "        Family.__init__(self)   \n",
    "    \n",
    "    def show(self): #accessing protected variables within inherited class.\n",
    "        print(f'Son is working as {self.business} and his family status is {self._status}')"
   ]
  },
  {
   "cell_type": "code",
   "execution_count": 123,
   "id": "35bd87be-9a58-4546-a8f7-5e386e846246",
   "metadata": {},
   "outputs": [],
   "source": [
    "GC = grandchildren('Software Developer')"
   ]
  },
  {
   "cell_type": "code",
   "execution_count": 124,
   "id": "33b7c74a-6cc1-453a-a0c4-9a89eeaf1438",
   "metadata": {},
   "outputs": [
    {
     "data": {
      "text/plain": [
       "'Software Developer'"
      ]
     },
     "execution_count": 124,
     "metadata": {},
     "output_type": "execute_result"
    }
   ],
   "source": [
    "GC.business"
   ]
  },
  {
   "cell_type": "code",
   "execution_count": 125,
   "id": "ff75ee7e-a3c7-4b30-aa46-290898929abf",
   "metadata": {},
   "outputs": [
    {
     "name": "stdout",
     "output_type": "stream",
     "text": [
      "Son is working as Software Developer and his family status is Well Educated\n"
     ]
    }
   ],
   "source": [
    "GC.show()"
   ]
  },
  {
   "cell_type": "code",
   "execution_count": 126,
   "id": "4d185692-a6eb-41cd-9cb9-d11a43c3a3ce",
   "metadata": {},
   "outputs": [],
   "source": [
    "#accessing protected variables "
   ]
  },
  {
   "cell_type": "code",
   "execution_count": 127,
   "id": "7e16f28e-cb4b-4e76-957f-e8fc3bba6495",
   "metadata": {},
   "outputs": [],
   "source": [
    "ghar = Family()"
   ]
  },
  {
   "cell_type": "code",
   "execution_count": 128,
   "id": "c6876dff-6059-4931-8506-2c7b15c53310",
   "metadata": {},
   "outputs": [
    {
     "data": {
      "text/plain": [
       "'Well Educated'"
      ]
     },
     "execution_count": 128,
     "metadata": {},
     "output_type": "execute_result"
    }
   ],
   "source": [
    "ghar._status  "
   ]
  },
  {
   "cell_type": "code",
   "execution_count": null,
   "id": "92592711-5e8b-45ef-9f0d-0fcb8253790a",
   "metadata": {},
   "outputs": [],
   "source": [
    "   "
   ]
  },
  {
   "cell_type": "code",
   "execution_count": 135,
   "id": "c213574a-5fcb-4d91-8ae6-841cf3bb0800",
   "metadata": {},
   "outputs": [],
   "source": [
    "   #using super() --- Preffered way to call constructor of parent class."
   ]
  },
  {
   "cell_type": "code",
   "execution_count": 136,
   "id": "d6c62b55-8b19-47b0-8fd4-311fd6ca2109",
   "metadata": {},
   "outputs": [],
   "source": [
    "class Family:\n",
    "    def __init__(self):\n",
    "        self._status = \"Well Educated\" #protected  (not accessible)\n",
    "\n",
    "class grandchildren(Family):\n",
    "    def __init__(self, business):\n",
    "        self.business = business\n",
    "        super().__init__() #no need to give self keyword when we are using super()  \n",
    "    \n",
    "    def show(self): #accessing protected variables within inherited class.\n",
    "        print(f'Son is working as {self.business} and his family status is {self._status}')"
   ]
  },
  {
   "cell_type": "code",
   "execution_count": 137,
   "id": "b1b1930f-75ec-413b-b90e-82c22793c393",
   "metadata": {},
   "outputs": [],
   "source": [
    "GC = grandchildren('Software Developer')"
   ]
  },
  {
   "cell_type": "code",
   "execution_count": 138,
   "id": "e8e81f5f-e546-471a-afbd-fe4891ba9c09",
   "metadata": {},
   "outputs": [
    {
     "data": {
      "text/plain": [
       "'Software Developer'"
      ]
     },
     "execution_count": 138,
     "metadata": {},
     "output_type": "execute_result"
    }
   ],
   "source": [
    "GC.business"
   ]
  },
  {
   "cell_type": "code",
   "execution_count": 139,
   "id": "0186f839-cff5-43b7-b69a-892759e9e419",
   "metadata": {},
   "outputs": [
    {
     "name": "stdout",
     "output_type": "stream",
     "text": [
      "Son is working as Software Developer and his family status is Well Educated\n"
     ]
    }
   ],
   "source": [
    "GC.show()"
   ]
  },
  {
   "cell_type": "code",
   "execution_count": null,
   "id": "052623c3-ea99-4e98-b5bc-164027473997",
   "metadata": {},
   "outputs": [],
   "source": []
  },
  {
   "cell_type": "code",
   "execution_count": null,
   "id": "aeb79c64-4b0b-497d-af6b-82d26cbd8d33",
   "metadata": {},
   "outputs": [],
   "source": []
  }
 ],
 "metadata": {
  "kernelspec": {
   "display_name": "Python 3 (ipykernel)",
   "language": "python",
   "name": "python3"
  },
  "language_info": {
   "codemirror_mode": {
    "name": "ipython",
    "version": 3
   },
   "file_extension": ".py",
   "mimetype": "text/x-python",
   "name": "python",
   "nbconvert_exporter": "python",
   "pygments_lexer": "ipython3",
   "version": "3.10.8"
  }
 },
 "nbformat": 4,
 "nbformat_minor": 5
}
