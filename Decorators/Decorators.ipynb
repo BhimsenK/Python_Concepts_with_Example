{
 "cells": [
  {
   "cell_type": "code",
   "execution_count": 1,
   "id": "d96c41a6-c426-4b1a-adc5-7819cf69dc04",
   "metadata": {},
   "outputs": [],
   "source": [
    "#Decorators"
   ]
  },
  {
   "cell_type": "code",
   "execution_count": 2,
   "id": "d5df7c47-6d7d-437a-8dfb-08252e20dec3",
   "metadata": {},
   "outputs": [],
   "source": [
    "#will see 2 examples which elaborates why Decorators are important."
   ]
  },
  {
   "cell_type": "code",
   "execution_count": 3,
   "id": "edecbb6e-5319-44ca-9f79-b46597266f41",
   "metadata": {},
   "outputs": [],
   "source": [
    "def calculation(a, b):\n",
    "    print(f'This is before addition !!!')\n",
    "    print(a + b)\n",
    "    print(f'This is after addition !!!')"
   ]
  },
  {
   "cell_type": "code",
   "execution_count": 4,
   "id": "575e9196-d6f2-4cf3-9972-dc4c2ede90a9",
   "metadata": {},
   "outputs": [
    {
     "name": "stdout",
     "output_type": "stream",
     "text": [
      "This is before addition !!!\n",
      "10\n",
      "This is after addition !!!\n"
     ]
    }
   ],
   "source": [
    "calculation(4, 6)"
   ]
  },
  {
   "cell_type": "code",
   "execution_count": null,
   "id": "eae70e80-33d3-42e5-a21d-9188d26f03f9",
   "metadata": {},
   "outputs": [],
   "source": []
  },
  {
   "cell_type": "code",
   "execution_count": 5,
   "id": "2b81f8a2-aaa9-484a-b5d3-68659ceb7c0a",
   "metadata": {},
   "outputs": [],
   "source": [
    "#Now what happen if you want to print the print statements before & after the execution on every function ?"
   ]
  },
  {
   "cell_type": "code",
   "execution_count": 6,
   "id": "48905e89-090f-40b4-b0dc-b77ff1755138",
   "metadata": {},
   "outputs": [],
   "source": [
    "#We need to use Decorator in this case."
   ]
  },
  {
   "cell_type": "code",
   "execution_count": null,
   "id": "9c36bfd9-857b-4682-b34b-2f9ed332b39b",
   "metadata": {},
   "outputs": [],
   "source": []
  },
  {
   "cell_type": "code",
   "execution_count": 23,
   "id": "6e3f71b2-9516-48b0-8800-de4f6269000f",
   "metadata": {},
   "outputs": [],
   "source": [
    "def my_decorator(func):\n",
    "    def wrapper():\n",
    "        print(f'This is before addition !!!')\n",
    "        func(4, 6)\n",
    "        print(f'This is after addition !!!')\n",
    "    return wrapper"
   ]
  },
  {
   "cell_type": "code",
   "execution_count": 24,
   "id": "41380906-89c5-44e9-b714-5afcb7650869",
   "metadata": {},
   "outputs": [],
   "source": [
    "@my_decorator\n",
    "def calculation(a,b):\n",
    "    print (a + b)"
   ]
  },
  {
   "cell_type": "code",
   "execution_count": 25,
   "id": "058e585e-7585-47c0-b397-c26faa950686",
   "metadata": {},
   "outputs": [
    {
     "name": "stdout",
     "output_type": "stream",
     "text": [
      "This is before addition !!!\n",
      "10\n",
      "This is after addition !!!\n"
     ]
    }
   ],
   "source": [
    "calculation()"
   ]
  },
  {
   "cell_type": "code",
   "execution_count": null,
   "id": "f368598a-1f96-4d23-bfd1-71f8cc16fb13",
   "metadata": {},
   "outputs": [],
   "source": []
  },
  {
   "cell_type": "code",
   "execution_count": null,
   "id": "0bdd6c35-a6a4-4797-9b63-6ac631836df2",
   "metadata": {},
   "outputs": [],
   "source": []
  },
  {
   "cell_type": "code",
   "execution_count": 37,
   "id": "d05b02db-196c-4409-b005-ee8d360b1e86",
   "metadata": {},
   "outputs": [],
   "source": [
    "import time\n",
    "def timer_decorator(func):\n",
    "    def wrapper():\n",
    "        start = time.time()\n",
    "        func(4, 6)\n",
    "        end = time.time()\n",
    "        print(end - start)\n",
    "    return wrapper"
   ]
  },
  {
   "cell_type": "code",
   "execution_count": 38,
   "id": "345a1e88-6cdc-4d3f-a81a-fb9f8d34b37f",
   "metadata": {},
   "outputs": [],
   "source": [
    "@timer_decorator\n",
    "def calculation(a,b):\n",
    "    print (a + b)"
   ]
  },
  {
   "cell_type": "code",
   "execution_count": 39,
   "id": "2d4559d8-2f1c-41e7-b742-0014c42c54bc",
   "metadata": {},
   "outputs": [
    {
     "name": "stdout",
     "output_type": "stream",
     "text": [
      "10\n",
      "4.935264587402344e-05\n"
     ]
    }
   ],
   "source": [
    "calculation()"
   ]
  },
  {
   "cell_type": "code",
   "execution_count": null,
   "id": "2aafc0d4-351c-443b-a0e0-506fc614d3ee",
   "metadata": {},
   "outputs": [],
   "source": []
  },
  {
   "cell_type": "code",
   "execution_count": null,
   "id": "be0d2e05-ff9d-4336-92ed-5ad8282e0741",
   "metadata": {},
   "outputs": [],
   "source": []
  },
  {
   "cell_type": "code",
   "execution_count": null,
   "id": "1d73e9a5-175f-486d-bef8-8ce216be14bc",
   "metadata": {},
   "outputs": [],
   "source": []
  },
  {
   "cell_type": "code",
   "execution_count": null,
   "id": "4deb4534-f5ca-4e2f-a5fd-3d55112f7ac9",
   "metadata": {},
   "outputs": [],
   "source": []
  },
  {
   "cell_type": "code",
   "execution_count": 40,
   "id": "de06b5a1-fc19-4b9c-bbb1-e7337ae1c5e9",
   "metadata": {},
   "outputs": [],
   "source": [
    "#Static Method"
   ]
  },
  {
   "cell_type": "code",
   "execution_count": 44,
   "id": "7f989fa7-0dd0-4a7b-96b8-4c92bcdbac9c",
   "metadata": {},
   "outputs": [],
   "source": [
    "   #without static"
   ]
  },
  {
   "cell_type": "code",
   "execution_count": 45,
   "id": "c1f821b6-b669-4d90-b4a1-fe80768268eb",
   "metadata": {},
   "outputs": [],
   "source": [
    "class Friend:\n",
    "    def name(self, name):\n",
    "        self.name = name"
   ]
  },
  {
   "cell_type": "code",
   "execution_count": 46,
   "id": "5048349e-e412-4584-ab30-cd59e68d97d5",
   "metadata": {},
   "outputs": [],
   "source": [
    "mitra = Friend()\n",
    "mitra.name('Aditi')"
   ]
  },
  {
   "cell_type": "code",
   "execution_count": 47,
   "id": "7f399c21-aba9-4371-96df-9f02e708dd94",
   "metadata": {},
   "outputs": [
    {
     "data": {
      "text/plain": [
       "'Aditi'"
      ]
     },
     "execution_count": 47,
     "metadata": {},
     "output_type": "execute_result"
    }
   ],
   "source": [
    "mitra.name"
   ]
  },
  {
   "cell_type": "code",
   "execution_count": null,
   "id": "8a57bd21-ff61-4214-80c6-f44848c4bf7a",
   "metadata": {},
   "outputs": [],
   "source": []
  },
  {
   "cell_type": "code",
   "execution_count": 48,
   "id": "3f8ee978-b530-4e85-9655-0d890bd5c1fd",
   "metadata": {},
   "outputs": [],
   "source": [
    "    #with Static"
   ]
  },
  {
   "cell_type": "code",
   "execution_count": 58,
   "id": "8c577c00-ec2c-4324-bb6b-3f1d79262806",
   "metadata": {},
   "outputs": [],
   "source": [
    "class Friend:\n",
    "    @staticmethod\n",
    "    def name(naav): #no need to use \"self\" keyword if the method is Static\n",
    "        return naav"
   ]
  },
  {
   "cell_type": "code",
   "execution_count": 59,
   "id": "ad43249b-020e-4f4f-b3b6-6c1d5e4df53e",
   "metadata": {},
   "outputs": [
    {
     "data": {
      "text/plain": [
       "'Akshay'"
      ]
     },
     "execution_count": 59,
     "metadata": {},
     "output_type": "execute_result"
    }
   ],
   "source": [
    "Friend.name('Akshay')"
   ]
  },
  {
   "cell_type": "code",
   "execution_count": null,
   "id": "54a0cc09-ec06-425e-9195-db25a8092a48",
   "metadata": {},
   "outputs": [],
   "source": []
  }
 ],
 "metadata": {
  "kernelspec": {
   "display_name": "Python 3 (ipykernel)",
   "language": "python",
   "name": "python3"
  },
  "language_info": {
   "codemirror_mode": {
    "name": "ipython",
    "version": 3
   },
   "file_extension": ".py",
   "mimetype": "text/x-python",
   "name": "python",
   "nbconvert_exporter": "python",
   "pygments_lexer": "ipython3",
   "version": "3.10.8"
  }
 },
 "nbformat": 4,
 "nbformat_minor": 5
}
