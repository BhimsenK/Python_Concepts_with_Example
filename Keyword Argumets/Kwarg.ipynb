{
 "cells": [
  {
   "cell_type": "code",
   "execution_count": 1,
   "id": "bc2cb223-bb8f-4fda-b37a-bcb07059ccfc",
   "metadata": {},
   "outputs": [],
   "source": [
    "#kwargs"
   ]
  },
  {
   "cell_type": "code",
   "execution_count": null,
   "id": "3f25d298-b914-47a7-8887-7fece7c6afb1",
   "metadata": {},
   "outputs": [],
   "source": []
  },
  {
   "cell_type": "code",
   "execution_count": 6,
   "id": "d6e1163c-329a-4497-8e08-350e4fba2e2e",
   "metadata": {},
   "outputs": [],
   "source": [
    "def multiple_key_values(**kwargs):\n",
    "    for i, j in kwargs.items():\n",
    "        print(f'{i} : {j}')"
   ]
  },
  {
   "cell_type": "code",
   "execution_count": 7,
   "id": "72044db8-bdaf-4453-93d7-f3176b78c6e1",
   "metadata": {},
   "outputs": [
    {
     "name": "stdout",
     "output_type": "stream",
     "text": [
      "name : bhimsen\n",
      "age : 25\n"
     ]
    }
   ],
   "source": [
    "multiple_key_values(name = \"bhimsen\", age = 25)"
   ]
  },
  {
   "cell_type": "code",
   "execution_count": 9,
   "id": "b0c399b5-2505-4cd9-b6f6-0daa64fc1a86",
   "metadata": {},
   "outputs": [
    {
     "name": "stdout",
     "output_type": "stream",
     "text": [
      "name : bhimsen\n",
      "age : 25\n",
      "language : Marathi\n"
     ]
    }
   ],
   "source": [
    "multiple_key_values(name = \"bhimsen\", age = 25, language = \"Marathi\")"
   ]
  },
  {
   "cell_type": "code",
   "execution_count": 10,
   "id": "998170af-6504-4c7b-8d6f-8f70d8e1cf7c",
   "metadata": {},
   "outputs": [
    {
     "name": "stdout",
     "output_type": "stream",
     "text": [
      "name : bhimsen\n",
      "age : 25\n",
      "language : Marathi\n",
      "Fav_actor : Thalapathy\n"
     ]
    }
   ],
   "source": [
    "multiple_key_values(name = \"bhimsen\", age = 25, language = \"Marathi\", Fav_actor = \"Thalapathy\")"
   ]
  },
  {
   "cell_type": "code",
   "execution_count": null,
   "id": "63ab4e11-47e5-4266-9dab-18b57054d8eb",
   "metadata": {},
   "outputs": [],
   "source": []
  }
 ],
 "metadata": {
  "kernelspec": {
   "display_name": "Python 3 (ipykernel)",
   "language": "python",
   "name": "python3"
  },
  "language_info": {
   "codemirror_mode": {
    "name": "ipython",
    "version": 3
   },
   "file_extension": ".py",
   "mimetype": "text/x-python",
   "name": "python",
   "nbconvert_exporter": "python",
   "pygments_lexer": "ipython3",
   "version": "3.10.8"
  }
 },
 "nbformat": 4,
 "nbformat_minor": 5
}
