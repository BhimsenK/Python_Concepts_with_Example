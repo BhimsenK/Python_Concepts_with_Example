{
 "cells": [
  {
   "cell_type": "code",
   "execution_count": 1,
   "id": "2ff12fae-2328-47f8-b856-6f172aafd044",
   "metadata": {},
   "outputs": [],
   "source": [
    "# Return Types & Function Nesting"
   ]
  },
  {
   "cell_type": "code",
   "execution_count": null,
   "id": "1d051eca-5280-4747-88e2-006f4b08b6b1",
   "metadata": {},
   "outputs": [],
   "source": []
  },
  {
   "cell_type": "code",
   "execution_count": 2,
   "id": "4d249ebd-b51d-4d13-b61f-5b16bbb0d99e",
   "metadata": {},
   "outputs": [],
   "source": [
    "def addition(a, b):\n",
    "    return a + b"
   ]
  },
  {
   "cell_type": "code",
   "execution_count": 3,
   "id": "3decfb54-34d7-4f55-bf59-3debc14a9202",
   "metadata": {},
   "outputs": [
    {
     "ename": "TypeError",
     "evalue": "can only concatenate str (not \"int\") to str",
     "output_type": "error",
     "traceback": [
      "\u001b[0;31m---------------------------------------------------------------------------\u001b[0m",
      "\u001b[0;31mTypeError\u001b[0m                                 Traceback (most recent call last)",
      "Cell \u001b[0;32mIn[3], line 1\u001b[0m\n\u001b[0;32m----> 1\u001b[0m \u001b[43maddition\u001b[49m\u001b[43m(\u001b[49m\u001b[38;5;124;43m'\u001b[39;49m\u001b[38;5;124;43mshree\u001b[39;49m\u001b[38;5;124;43m'\u001b[39;49m\u001b[43m,\u001b[49m\u001b[43m \u001b[49m\u001b[38;5;241;43m6\u001b[39;49m\u001b[43m)\u001b[49m\n",
      "Cell \u001b[0;32mIn[2], line 2\u001b[0m, in \u001b[0;36maddition\u001b[0;34m(a, b)\u001b[0m\n\u001b[1;32m      1\u001b[0m \u001b[38;5;28;01mdef\u001b[39;00m \u001b[38;5;21maddition\u001b[39m(a, b):\n\u001b[0;32m----> 2\u001b[0m     \u001b[38;5;28;01mreturn\u001b[39;00m \u001b[43ma\u001b[49m\u001b[43m \u001b[49m\u001b[38;5;241;43m+\u001b[39;49m\u001b[43m \u001b[49m\u001b[43mb\u001b[49m\n",
      "\u001b[0;31mTypeError\u001b[0m: can only concatenate str (not \"int\") to str"
     ]
    }
   ],
   "source": [
    "addition('shree', 6) #this will give error as in return we are adding the data to return int value."
   ]
  },
  {
   "cell_type": "code",
   "execution_count": null,
   "id": "85c5d228-6a43-4f74-b772-beea23d89008",
   "metadata": {},
   "outputs": [],
   "source": []
  },
  {
   "cell_type": "code",
   "execution_count": 4,
   "id": "58924ff9-02b5-431b-84b3-b1cadbf6deab",
   "metadata": {},
   "outputs": [],
   "source": [
    "def addition(a : int, b : int) -> int:\n",
    "    return a + b"
   ]
  },
  {
   "cell_type": "code",
   "execution_count": 5,
   "id": "0ed13463-843a-497e-bace-5c1d75ea45c1",
   "metadata": {},
   "outputs": [
    {
     "data": {
      "text/plain": [
       "10"
      ]
     },
     "execution_count": 5,
     "metadata": {},
     "output_type": "execute_result"
    }
   ],
   "source": [
    "addition(4, 6)"
   ]
  },
  {
   "cell_type": "code",
   "execution_count": null,
   "id": "20df016d-d39b-415d-bf39-88c54f1c6629",
   "metadata": {},
   "outputs": [],
   "source": []
  },
  {
   "cell_type": "code",
   "execution_count": null,
   "id": "e189aceb-0536-48b8-a6d5-81d939029ffd",
   "metadata": {},
   "outputs": [],
   "source": []
  },
  {
   "cell_type": "code",
   "execution_count": 6,
   "id": "c2212c5c-71d7-4e21-a095-345505fe6286",
   "metadata": {},
   "outputs": [],
   "source": [
    "#even though, we are saying it for int type, if we given values of same type then also its will accept."
   ]
  },
  {
   "cell_type": "code",
   "execution_count": 8,
   "id": "61607fc8-bc43-4179-86dc-0a12ad47de74",
   "metadata": {},
   "outputs": [
    {
     "data": {
      "text/plain": [
       "'Thalapathy'"
      ]
     },
     "execution_count": 8,
     "metadata": {},
     "output_type": "execute_result"
    }
   ],
   "source": [
    "addition('Thala','pathy')"
   ]
  },
  {
   "cell_type": "code",
   "execution_count": 9,
   "id": "e07f204d-eb05-4f58-9d8a-4123afe25cca",
   "metadata": {},
   "outputs": [
    {
     "data": {
      "text/plain": [
       "8"
      ]
     },
     "execution_count": 9,
     "metadata": {},
     "output_type": "execute_result"
    }
   ],
   "source": [
    "addition(6,2)"
   ]
  },
  {
   "cell_type": "code",
   "execution_count": 10,
   "id": "94b648c2-e9ce-4a41-8d65-19fd749536e9",
   "metadata": {},
   "outputs": [
    {
     "data": {
      "text/plain": [
       "8.464"
      ]
     },
     "execution_count": 10,
     "metadata": {},
     "output_type": "execute_result"
    }
   ],
   "source": [
    "addition(6.23, 2.234)"
   ]
  },
  {
   "cell_type": "code",
   "execution_count": null,
   "id": "3cbcd90a-933c-411f-9f0d-fc48551a802e",
   "metadata": {},
   "outputs": [],
   "source": []
  }
 ],
 "metadata": {
  "kernelspec": {
   "display_name": "Python 3 (ipykernel)",
   "language": "python",
   "name": "python3"
  },
  "language_info": {
   "codemirror_mode": {
    "name": "ipython",
    "version": 3
   },
   "file_extension": ".py",
   "mimetype": "text/x-python",
   "name": "python",
   "nbconvert_exporter": "python",
   "pygments_lexer": "ipython3",
   "version": "3.10.8"
  }
 },
 "nbformat": 4,
 "nbformat_minor": 5
}
