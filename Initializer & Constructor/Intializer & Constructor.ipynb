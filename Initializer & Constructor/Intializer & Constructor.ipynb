{
 "cells": [
  {
   "cell_type": "code",
   "execution_count": 1,
   "id": "fce50978-877f-4d75-a369-5e5d83438e9a",
   "metadata": {},
   "outputs": [],
   "source": [
    "#Initializer and Constructors"
   ]
  },
  {
   "cell_type": "code",
   "execution_count": 8,
   "id": "04484a74-36b7-4a10-8795-ab2eff217d06",
   "metadata": {},
   "outputs": [
    {
     "name": "stdout",
     "output_type": "stream",
     "text": [
      "Madara\t Madara\t Madara\n",
      "99\t 99\t 99\n"
     ]
    }
   ],
   "source": [
    "class Person:\n",
    "    name = \"Madara\"\n",
    "    age  = 99\n",
    "    \n",
    "per1 = Person()\n",
    "per2 = Person()\n",
    "per3 = Person()\n",
    "\n",
    "\n",
    "print(f'{per1.name}\\t {per2.name}\\t {per3.name}')\n",
    "print(f'{per1.age}\\t {per2.age}\\t {per3.age}')"
   ]
  },
  {
   "cell_type": "code",
   "execution_count": null,
   "id": "d71d8c39-a62e-476d-aab5-7357e0a3b931",
   "metadata": {},
   "outputs": [],
   "source": [
    "'''\n",
    "Above you can see, every object has the same values. Here comes the concept of initializer & constructor to have \n",
    "the different values for different objects. \n",
    "'''"
   ]
  },
  {
   "cell_type": "code",
   "execution_count": null,
   "id": "49691f9f-cb7a-40ff-87ca-a6b8f63aece7",
   "metadata": {},
   "outputs": [],
   "source": []
  },
  {
   "cell_type": "code",
   "execution_count": null,
   "id": "5e6c1a1b-fcd5-4d04-a1d7-8b62d8959773",
   "metadata": {},
   "outputs": [],
   "source": [
    "#Constructor"
   ]
  },
  {
   "cell_type": "code",
   "execution_count": 12,
   "id": "87d08177-8ab4-4728-bc37-ff91eb416b82",
   "metadata": {},
   "outputs": [
    {
     "name": "stdout",
     "output_type": "stream",
     "text": [
      "Madara\t Hashirama\t Jiraya\n",
      "99\t 98\t\t 58\n"
     ]
    }
   ],
   "source": [
    "class Person:\n",
    "    def __init__(self, name, age): #constructor\n",
    "        self.name = name\n",
    "        self.age  = age\n",
    "\n",
    "per1 = Person(\"Madara\", 99)\n",
    "per2 = Person(\"Hashirama\", 98)\n",
    "per3 = Person(\"Jiraya\", 58)\n",
    "\n",
    "\n",
    "print(f'{per1.name}\\t {per2.name}\\t {per3.name}')\n",
    "print(f'{per1.age}\\t {per2.age}\\t\\t {per3.age}')"
   ]
  },
  {
   "cell_type": "code",
   "execution_count": null,
   "id": "79cf85cf-529f-44cc-b62d-27d66731a964",
   "metadata": {},
   "outputs": [],
   "source": []
  },
  {
   "cell_type": "code",
   "execution_count": null,
   "id": "b886984a-e56c-4896-9ba8-f679c907233b",
   "metadata": {},
   "outputs": [],
   "source": [
    "## Q. Can we have multiple init methods ? >> NO !!!"
   ]
  },
  {
   "cell_type": "code",
   "execution_count": null,
   "id": "432a778e-f222-4208-9d39-72ea9a6aa55d",
   "metadata": {},
   "outputs": [],
   "source": [
    "'''\n",
    "In the below example, we can see that we are having multiple init() methods and still its giving us output without exception.\n",
    "Thats because, when we have multiple init() methods then it consider only the last init().\n",
    "\n",
    "And in last init(), we are initialized only \"name\" variable. \n",
    "'''"
   ]
  },
  {
   "cell_type": "code",
   "execution_count": 13,
   "id": "93e883fc-44a6-4ddc-a73b-2f9747fbc6f2",
   "metadata": {},
   "outputs": [
    {
     "data": {
      "text/plain": [
       "'Shree'"
      ]
     },
     "execution_count": 13,
     "metadata": {},
     "output_type": "execute_result"
    }
   ],
   "source": [
    "class Person:\n",
    "    def __init__(self, name, age): #Constructor/ initializer - (1)\n",
    "        self.name = name\n",
    "        self.age = age\n",
    "        \n",
    "    def __init__(self, name): #Constructor/ initializer.     - (2)\n",
    "        self.name = name\n",
    "        \n",
    "        \n",
    "p1 = Person('Shree')\n",
    "p1.name"
   ]
  },
  {
   "cell_type": "code",
   "execution_count": null,
   "id": "0a674ecf-b792-400d-87ea-df7b03412c41",
   "metadata": {},
   "outputs": [],
   "source": []
  },
  {
   "cell_type": "code",
   "execution_count": null,
   "id": "0061aeab-deb2-4302-a831-3125e41d11e4",
   "metadata": {},
   "outputs": [],
   "source": []
  },
  {
   "cell_type": "code",
   "execution_count": 16,
   "id": "fc2828bc-77d6-487c-b23f-da8ed0aa41ce",
   "metadata": {},
   "outputs": [],
   "source": [
    "# default/ optional parameters"
   ]
  },
  {
   "cell_type": "code",
   "execution_count": null,
   "id": "81de4ad9-f82c-4b5c-9c91-e055ab8c9473",
   "metadata": {},
   "outputs": [],
   "source": [
    "'''\n",
    "If we define the default parameters in constructor, then if you didn't give any value to that parameter while\n",
    "creating the object, then it will take that default value that time.\n",
    "'''"
   ]
  },
  {
   "cell_type": "code",
   "execution_count": 15,
   "id": "80c3246d-e2eb-4599-af20-47dd2b75abdd",
   "metadata": {},
   "outputs": [
    {
     "name": "stdout",
     "output_type": "stream",
     "text": [
      "badminton\n",
      "bla bla bla...\n"
     ]
    }
   ],
   "source": [
    "class Person:\n",
    "    def __init__(self, name, age = 99, hobby = \"badminton\"): #Constructor/ initializer \n",
    "        self.name = name\n",
    "        self.age = age\n",
    "        self.hobby = hobby\n",
    "        \n",
    "p1 = Person('Shree')\n",
    "p2 = Person('bhimsen', 25)\n",
    "p3 = Person('shiru', 27, 'bla bla bla...')\n",
    "\n",
    "\n",
    "print(p1.hobby) #without given hobby\n",
    "print(p3.hobby) #with given hobby"
   ]
  },
  {
   "cell_type": "code",
   "execution_count": null,
   "id": "5a5623bb-6388-456b-8f13-bf02d548200c",
   "metadata": {},
   "outputs": [],
   "source": []
  },
  {
   "cell_type": "code",
   "execution_count": 17,
   "id": "7f3fe647-bafa-4b4e-9236-20475bdc1437",
   "metadata": {},
   "outputs": [],
   "source": [
    "#class Vs Instance"
   ]
  },
  {
   "cell_type": "code",
   "execution_count": 22,
   "id": "0bdf859d-bff5-4bc6-b088-11bb845e6e95",
   "metadata": {},
   "outputs": [
    {
     "name": "stdout",
     "output_type": "stream",
     "text": [
      "Arav Bharat\n",
      "Arvi Bharat\n",
      "Calling class level variable using class name : Bharat\n"
     ]
    }
   ],
   "source": [
    "class Person:\n",
    "    country = \"Bharat\"   # Class level variable.\n",
    "    \n",
    "    def __init__(self, name , age):\n",
    "        self.name = name    # } Instance variables.\n",
    "        self.age  = age\n",
    "        \n",
    "p1 = Person('Arav', 23)\n",
    "p2 = Person('Arvi', 25)\n",
    "\n",
    "print(p1.name, p1.country)\n",
    "print(p2.name, p2.country)\n",
    "\n",
    "\n",
    "#for class level varialbles/ methods we don't even need to use object. Directly using class name we can call them.\n",
    "\n",
    "print(f'Calling class level variable using class name : {Person.country}')"
   ]
  },
  {
   "cell_type": "code",
   "execution_count": null,
   "id": "7bf91bac-ba8f-4d02-ba1c-ca6c2e7a79bb",
   "metadata": {},
   "outputs": [],
   "source": []
  }
 ],
 "metadata": {
  "kernelspec": {
   "display_name": "Python 3 (ipykernel)",
   "language": "python",
   "name": "python3"
  },
  "language_info": {
   "codemirror_mode": {
    "name": "ipython",
    "version": 3
   },
   "file_extension": ".py",
   "mimetype": "text/x-python",
   "name": "python",
   "nbconvert_exporter": "python",
   "pygments_lexer": "ipython3",
   "version": "3.10.8"
  }
 },
 "nbformat": 4,
 "nbformat_minor": 5
}
