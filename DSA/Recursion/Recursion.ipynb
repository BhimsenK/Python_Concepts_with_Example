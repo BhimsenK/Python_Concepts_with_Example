{
 "cells": [
  {
   "cell_type": "code",
   "execution_count": null,
   "id": "04007505-1ebe-48eb-b2f4-30c4ee86ce8b",
   "metadata": {},
   "outputs": [],
   "source": [
    "#Recursion"
   ]
  },
  {
   "cell_type": "code",
   "execution_count": null,
   "id": "8212575d-848e-46d7-bbba-e6fd36a1fe7a",
   "metadata": {},
   "outputs": [],
   "source": []
  },
  {
   "cell_type": "code",
   "execution_count": 5,
   "id": "9b79e95e-4db3-4c13-ad4b-8cd9aba4598a",
   "metadata": {},
   "outputs": [
    {
     "name": "stdout",
     "output_type": "stream",
     "text": [
      "2 3 5 "
     ]
    }
   ],
   "source": [
    "def printNum(arr, SI):\n",
    "    #base condition \n",
    "    if(SI >= len(arr)):\n",
    "        return\n",
    "    \n",
    "    #logic\n",
    "    print(arr[SI], end = \" \")\n",
    "    \n",
    "    #recursion\n",
    "    printNum(arr, SI+1)\n",
    "    \n",
    "printNum([2,3,5], 0)"
   ]
  },
  {
   "cell_type": "code",
   "execution_count": null,
   "id": "2d4f190a-3297-4b55-a1f0-83460bded5d2",
   "metadata": {},
   "outputs": [],
   "source": []
  },
  {
   "cell_type": "code",
   "execution_count": null,
   "id": "893fd576-3c22-4d0e-aad0-33710bccedde",
   "metadata": {},
   "outputs": [],
   "source": []
  },
  {
   "cell_type": "code",
   "execution_count": 23,
   "id": "fb041254-fb9b-49ae-86fa-9c982177bb48",
   "metadata": {},
   "outputs": [
    {
     "name": "stdout",
     "output_type": "stream",
     "text": [
      "SI : 0\n",
      "SI : 1\n",
      "SI : 2\n",
      "\n",
      "After the function\n",
      "SI : 2\n",
      "5 \n",
      "After the function\n",
      "SI : 1\n",
      "3 \n",
      "After the function\n",
      "SI : 0\n",
      "2 "
     ]
    }
   ],
   "source": [
    "def printRev(arr, SI):\n",
    "    #base condition \n",
    "    if(SI >= len(arr)):\n",
    "        return\n",
    "    \n",
    "    print(f'SI : {SI}')\n",
    "    #logic\n",
    "    \n",
    "    #recursion\n",
    "    printRev(arr, SI+1)\n",
    "    print(f'\\nAfter the function')\n",
    "    print(f'SI : {SI}')\n",
    "    print(arr[SI], end = \" \")\n",
    "    \n",
    "    # #recursion\n",
    "    # printRev(arr, SI+1)\n",
    "    \n",
    "printRev([2,3,5], 0)"
   ]
  },
  {
   "cell_type": "code",
   "execution_count": null,
   "id": "ed16c7b8-1169-408f-b2a7-9fbd78d40975",
   "metadata": {},
   "outputs": [],
   "source": []
  },
  {
   "cell_type": "code",
   "execution_count": null,
   "id": "ac8f967b-c6f8-4b56-a916-020c458b6810",
   "metadata": {},
   "outputs": [],
   "source": []
  },
  {
   "cell_type": "code",
   "execution_count": 34,
   "id": "352c198c-7664-4415-892a-f253dced0871",
   "metadata": {},
   "outputs": [
    {
     "name": "stdout",
     "output_type": "stream",
     "text": [
      "SI : 0\n",
      "SI : 1\n",
      "SI : 2\n",
      "\n",
      "After the function\n",
      "SI > : 2\n",
      "5 \n",
      "\n",
      "After the function\n",
      "SI > : 1\n",
      "3 \n",
      "\n",
      "After the function\n",
      "SI > : 0\n",
      "2 \n"
     ]
    }
   ],
   "source": [
    "def printRev(arr, SI):\n",
    "    #base condition \n",
    "    if(SI >= len(arr)):\n",
    "        return\n",
    "    \n",
    "    #logic\n",
    "    print(f'SI : {SI}')\n",
    "    \n",
    "    \n",
    "    #recursion\n",
    "    printRev(arr, SI+1)\n",
    "    \n",
    "\n",
    "    print(f'\\nAfter the function')\n",
    "    print(f'SI > : {SI}')\n",
    "    print(arr[SI], end = \" \")\n",
    "    print()\n",
    "    \n",
    "printRev([2,3,5], 0)"
   ]
  },
  {
   "cell_type": "code",
   "execution_count": null,
   "id": "b3f34429-b03a-48a8-9d96-f0d442d4b9bb",
   "metadata": {},
   "outputs": [],
   "source": [
    "'''\n",
    "The beauty of Recurrsion :\n",
    "\n",
    "   You can see that first its calling the function unless & untill its matching the coondition given. \n",
    "   i.e till \"SI < len(arr)\". \n",
    "   So its printing \n",
    "   \n",
    "   SI : 0\n",
    "   calling the function\n",
    "   SI : 1\n",
    "   calling the function\n",
    "   SI : 2\n",
    "   calling the function\n",
    "   \n",
    "   (here SI becomes 3 which is satisfying the condition so it return means will come out of the code.\n",
    "   Here is the beuty of Recurssion.)\n",
    "   \n",
    "   Before coming outof the loop, it already had executed 3 times so now before coming outof the loop it will go back there\n",
    "   i.e {1>2>3 ... process of coming out of code ... 3>2>1}\n",
    "   \n",
    "   thats why it will print it 3 times with respective values. i.e \n",
    "   \n",
    "'''"
   ]
  },
  {
   "cell_type": "code",
   "execution_count": null,
   "id": "2c07afa5-65ab-49b1-9c0e-8d84b15b5a89",
   "metadata": {},
   "outputs": [],
   "source": []
  },
  {
   "cell_type": "code",
   "execution_count": null,
   "id": "a7b65040-e2a6-4364-9a7f-02948f03144e",
   "metadata": {},
   "outputs": [],
   "source": []
  }
 ],
 "metadata": {
  "kernelspec": {
   "display_name": "Python 3 (ipykernel)",
   "language": "python",
   "name": "python3"
  },
  "language_info": {
   "codemirror_mode": {
    "name": "ipython",
    "version": 3
   },
   "file_extension": ".py",
   "mimetype": "text/x-python",
   "name": "python",
   "nbconvert_exporter": "python",
   "pygments_lexer": "ipython3",
   "version": "3.10.8"
  }
 },
 "nbformat": 4,
 "nbformat_minor": 5
}
