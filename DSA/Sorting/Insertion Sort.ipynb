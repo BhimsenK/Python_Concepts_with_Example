{
 "cells": [
  {
   "cell_type": "code",
   "execution_count": 1,
   "id": "b5b62330-9bda-42e6-a834-e73c85a7afc5",
   "metadata": {},
   "outputs": [],
   "source": [
    "#Insertion Sort"
   ]
  },
  {
   "cell_type": "code",
   "execution_count": null,
   "id": "1d334797-c4e7-490f-b5bb-33985ffd9493",
   "metadata": {},
   "outputs": [],
   "source": []
  },
  {
   "cell_type": "code",
   "execution_count": null,
   "id": "9f285acc-4af2-4a6e-a496-8124c75c6187",
   "metadata": {},
   "outputs": [],
   "source": [
    "#CODE"
   ]
  },
  {
   "cell_type": "code",
   "execution_count": 4,
   "id": "bc7572b0-cad2-4738-a70a-0dae88610130",
   "metadata": {},
   "outputs": [
    {
     "data": {
      "text/plain": [
       "[-11, 5, 6, 12, 136]"
      ]
     },
     "execution_count": 4,
     "metadata": {},
     "output_type": "execute_result"
    }
   ],
   "source": [
    "def insertion_sort(arr):\n",
    "    \n",
    "    for i in range(1, len(arr)):\n",
    "        \n",
    "        key = arr[i]\n",
    "        \n",
    "        j = i - 1\n",
    "        \n",
    "        while j >= 0 and key < arr[j]:\n",
    "            \n",
    "            arr[j + 1] = arr[j]\n",
    "            \n",
    "            j -= 1\n",
    "            \n",
    "        arr[j + 1] = key\n",
    "        \n",
    "    return arr\n",
    "\n",
    "arr = [12, -11, 136, 5, 6]\n",
    "sort = insertion_sort(arr)\n",
    "\n",
    "sort"
   ]
  },
  {
   "cell_type": "code",
   "execution_count": null,
   "id": "7fa82fe9-e5a2-4eb4-a24a-a6a3d2a391d9",
   "metadata": {},
   "outputs": [],
   "source": []
  },
  {
   "cell_type": "code",
   "execution_count": null,
   "id": "45207218-61dd-405f-a422-04139e27adbe",
   "metadata": {},
   "outputs": [],
   "source": []
  },
  {
   "cell_type": "code",
   "execution_count": null,
   "id": "9fcb9e99-00c1-4c06-9c11-7770c181be90",
   "metadata": {},
   "outputs": [],
   "source": []
  },
  {
   "cell_type": "code",
   "execution_count": null,
   "id": "0f1e6fff-7e7f-4885-b378-056fd52eaef1",
   "metadata": {},
   "outputs": [],
   "source": []
  },
  {
   "cell_type": "code",
   "execution_count": null,
   "id": "7ebf2d88-f6b3-4184-8eb5-caad199e57e7",
   "metadata": {},
   "outputs": [],
   "source": [
    "#Dry RUN"
   ]
  },
  {
   "cell_type": "code",
   "execution_count": 17,
   "id": "409e1e3d-23bc-4c30-90e6-9c0e6f524958",
   "metadata": {},
   "outputs": [
    {
     "name": "stdout",
     "output_type": "stream",
     "text": [
      "arr : [12, -11, 136, 5, 6]\n",
      "\n",
      "i : 1\t-11 \t key : -11\n",
      "j : 0 --->\t\t12\n",
      "satisfied\n",
      "\n",
      "Old : arr[j + 1] > -11\n",
      "New : arr[j + 1] > 12\n",
      "---------------\n",
      "J : 0\n",
      "J : -1\n",
      "\n",
      "---------------\n",
      "i : 2\t136 \t key : 136\n",
      "j : 1 --->\t\t12\n",
      "i : 3\t5 \t key : 5\n",
      "j : 2 --->\t\t136\n",
      "satisfied\n",
      "\n",
      "Old : arr[j + 1] > 5\n",
      "New : arr[j + 1] > 136\n",
      "---------------\n",
      "J : 2\n",
      "J : 1\n",
      "\n",
      "---------------\n",
      "satisfied\n",
      "\n",
      "Old : arr[j + 1] > 136\n",
      "New : arr[j + 1] > 12\n",
      "---------------\n",
      "J : 1\n",
      "J : 0\n",
      "\n",
      "---------------\n",
      "i : 4\t6 \t key : 6\n",
      "j : 3 --->\t\t136\n",
      "satisfied\n",
      "\n",
      "Old : arr[j + 1] > 6\n",
      "New : arr[j + 1] > 136\n",
      "---------------\n",
      "J : 3\n",
      "J : 2\n",
      "\n",
      "---------------\n",
      "satisfied\n",
      "\n",
      "Old : arr[j + 1] > 136\n",
      "New : arr[j + 1] > 12\n",
      "---------------\n",
      "J : 2\n",
      "J : 1\n",
      "\n",
      "---------------\n"
     ]
    },
    {
     "data": {
      "text/plain": [
       "[-11, 5, 6, 12, 136]"
      ]
     },
     "execution_count": 17,
     "metadata": {},
     "output_type": "execute_result"
    }
   ],
   "source": [
    "def insertion_sort(arr):\n",
    "    \n",
    "    for i in range(1, len(arr)):\n",
    "        print(f'i : {i}\\t{arr[i]}', end = \" \")\n",
    "        key = arr[i]\n",
    "        \n",
    "        \n",
    "        j = i - 1\n",
    "        #print(f'\\t\\tj = {i} - 1 : {i - 1} ')\n",
    "        print(f'\\t key : {key}\\nj : {j} --->\\t\\t{arr[j]}')\n",
    "        \n",
    "        while j >= 0 and key < arr[j]:\n",
    "            print(f'satisfied\\n')\n",
    "            print(f'Old : arr[j + 1] > {arr[j + 1]}')\n",
    "            arr[j + 1] = arr[j]\n",
    "            print(f'New : arr[j + 1] > {arr[j + 1]}')\n",
    "            print(\"-\"*15)\n",
    "            print(f'J : {j}')\n",
    "            j -= 1\n",
    "            print(f'J : {j}\\n')\n",
    "            print(\"-\"*15)\n",
    "            \n",
    "        arr[j + 1] = key\n",
    "        \n",
    "    return arr\n",
    "\n",
    "arr = [12, -11, 136, 5, 6]\n",
    "print(f'arr : {arr}\\n')\n",
    "sort = insertion_sort(arr)\n",
    "\n",
    "sort"
   ]
  },
  {
   "cell_type": "code",
   "execution_count": null,
   "id": "df3b6d25-c161-42bd-bf31-f5f7891c16cc",
   "metadata": {},
   "outputs": [],
   "source": []
  },
  {
   "cell_type": "code",
   "execution_count": null,
   "id": "b2791a09-08d9-49fa-9790-1f732d9e760b",
   "metadata": {},
   "outputs": [],
   "source": []
  },
  {
   "cell_type": "code",
   "execution_count": null,
   "id": "cd7bf2e8-5e24-466f-833a-f8c00fa24d7c",
   "metadata": {},
   "outputs": [],
   "source": []
  },
  {
   "cell_type": "code",
   "execution_count": null,
   "id": "30501057-17da-42d1-8f0d-37441a873a58",
   "metadata": {},
   "outputs": [],
   "source": []
  },
  {
   "cell_type": "code",
   "execution_count": 34,
   "id": "faf04676-fa3d-4397-a133-e33d6a87de2d",
   "metadata": {},
   "outputs": [
    {
     "name": "stdout",
     "output_type": "stream",
     "text": [
      "arr : [12, -11, 136, 5, 6]\n",
      "\n",
      "[12, -11, 136, 5, 6]\n",
      "Key : -11\n",
      "\n",
      "Current J : 0\n",
      "value of j: 12\n",
      "\n",
      "[-11, 12, 136, 5, 6]\n",
      "********************\n",
      "Key : 136\n",
      "\n",
      "Current J : 1\n",
      "value of j: 12\n",
      "\n",
      "[-11, 12, 136, 5, 6]\n",
      "********************\n",
      "Key : 5\n",
      "\n",
      "Current J : 2\n",
      "value of j: 136\n",
      "\n",
      "[-11, 5, 12, 136, 6]\n",
      "********************\n",
      "Key : 6\n",
      "\n",
      "Current J : 3\n",
      "value of j: 136\n",
      "\n",
      "[-11, 5, 6, 12, 136]\n",
      "********************\n"
     ]
    }
   ],
   "source": [
    "def insertion(arr):\n",
    "    \n",
    "    print(arr)\n",
    "    n = len(arr)\n",
    "    for i in range(1, n):\n",
    "        \n",
    "        key = arr[i]\n",
    "        print(f'Key : {key}\\n')\n",
    "        \n",
    "        j = i -1\n",
    "        print(f'Current J : {j}')\n",
    "        print(f'value of j: {arr[j]}\\n')\n",
    "        \n",
    "        \n",
    "        while j >= 0 and key <= arr[j]:\n",
    "            arr[j+1] = arr[j]\n",
    "            j -= 1\n",
    "        arr[j+1] = key\n",
    "        print(arr)\n",
    "        print(\"*\"*20)\n",
    "\n",
    "arr = [12, -11, 136, 5, 6]\n",
    "print(f'arr : {arr}\\n')\n",
    "insertion(arr)\n"
   ]
  },
  {
   "cell_type": "code",
   "execution_count": null,
   "id": "7c37a03f-b084-4f06-a3b3-3cee5960272c",
   "metadata": {},
   "outputs": [],
   "source": []
  }
 ],
 "metadata": {
  "kernelspec": {
   "display_name": "Python 3 (ipykernel)",
   "language": "python",
   "name": "python3"
  },
  "language_info": {
   "codemirror_mode": {
    "name": "ipython",
    "version": 3
   },
   "file_extension": ".py",
   "mimetype": "text/x-python",
   "name": "python",
   "nbconvert_exporter": "python",
   "pygments_lexer": "ipython3",
   "version": "3.10.8"
  }
 },
 "nbformat": 4,
 "nbformat_minor": 5
}
