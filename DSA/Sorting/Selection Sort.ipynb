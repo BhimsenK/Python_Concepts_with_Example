{
 "cells": [
  {
   "cell_type": "code",
   "execution_count": 1,
   "id": "7ca37aca-1883-4645-8b3a-31547f4e9044",
   "metadata": {},
   "outputs": [],
   "source": [
    "#selection sort"
   ]
  },
  {
   "cell_type": "code",
   "execution_count": null,
   "id": "ae8b51f2-6a25-46c6-b2fc-4b5400d67688",
   "metadata": {},
   "outputs": [],
   "source": []
  },
  {
   "cell_type": "code",
   "execution_count": null,
   "id": "5fba0fc2-ec30-4d34-93ba-63407e2731a8",
   "metadata": {},
   "outputs": [],
   "source": [
    "#CODE"
   ]
  },
  {
   "cell_type": "code",
   "execution_count": 3,
   "id": "b9ef5511-e672-4772-92ee-9746f23c0e6d",
   "metadata": {},
   "outputs": [
    {
     "data": {
      "text/plain": [
       "[22, 25, 64, 101, 172]"
      ]
     },
     "execution_count": 3,
     "metadata": {},
     "output_type": "execute_result"
    }
   ],
   "source": [
    "def selection_sort(arr):\n",
    "    \n",
    "    n = len(arr)\n",
    "    \n",
    "    for i in range(n):\n",
    "        #assume the current element is min\n",
    "        \n",
    "        min_index = i  #starting from 0\n",
    "        \n",
    "        for j in range(i + 1, n):\n",
    "            \n",
    "            if  arr[j] < arr[min_index]:\n",
    "                min_index = j\n",
    "                \n",
    "        \n",
    "        arr[i], arr[min_index] = arr[min_index], arr[i]\n",
    "        \n",
    "    return arr\n",
    "\n",
    "\n",
    "arr = [64, 25, 172, 22, 101]\n",
    "\n",
    "sorted_arr = selection_sort(arr)\n",
    "sorted_arr\n",
    "        "
   ]
  },
  {
   "cell_type": "code",
   "execution_count": null,
   "id": "a21cf708-0a00-4f41-8817-8abb62fcca52",
   "metadata": {},
   "outputs": [],
   "source": []
  },
  {
   "cell_type": "code",
   "execution_count": null,
   "id": "f2d2f5a8-8ed3-4764-94eb-880556fa0e14",
   "metadata": {},
   "outputs": [],
   "source": []
  },
  {
   "cell_type": "code",
   "execution_count": null,
   "id": "529dc475-258a-4732-9f0f-43fe89312c3f",
   "metadata": {},
   "outputs": [],
   "source": [
    "def selection_sort(arr):\n",
    "    \n",
    "    n = len(arr)\n",
    "    \n",
    "    for i in range(n):\n",
    "        #assume the current element is min\n",
    "        \n",
    "        min_index = i  #starting from 0\n",
    "        \n",
    "        for j in range(i + 1, n):\n",
    "            \n",
    "            if  arr[j] < arr[min_index]:\n",
    "                min_index = j\n",
    "                \n",
    "        \n",
    "        arr[i], arr[min_index] = arr[min_index], arr[i]\n",
    "        \n",
    "    return arr\n",
    "\n",
    "\n",
    "arr = [64, 25, 172, 22, 101]\n",
    "\n",
    "sorted_arr = selection_sort(arr)\n",
    "sorted_arr\n",
    "        "
   ]
  },
  {
   "cell_type": "code",
   "execution_count": null,
   "id": "a8566b1e-64a9-400e-ba37-28be4435d5b5",
   "metadata": {},
   "outputs": [],
   "source": []
  },
  {
   "cell_type": "code",
   "execution_count": 19,
   "id": "45d7631b-6efd-44ba-803d-07bd7097ad73",
   "metadata": {},
   "outputs": [
    {
     "name": "stdout",
     "output_type": "stream",
     "text": [
      "Arr = [64, 25, 172, 22, 101]\n",
      "min index = 0\n",
      "arr[j] : 25\t arr[min_index] : 64\n",
      "  >> new Min_index : 1\n",
      "arr[j] : 172\t arr[min_index] : 25\n",
      "arr[j] : 22\t arr[min_index] : 25\n",
      "  >> new Min_index : 3\n",
      "arr[j] : 101\t arr[min_index] : 22\n",
      "\n",
      "arr old : [64, 25, 172, 22, 101]\n",
      "arr[i] : 64\t arr[min_index] : 22\n",
      "arr[i] : 0\t arr[min_index] : 3\n",
      "arr new : [22, 25, 172, 64, 101]\n",
      "********************\n",
      "min index = 1\n",
      "arr[j] : 172\t arr[min_index] : 25\n",
      "arr[j] : 64\t arr[min_index] : 25\n",
      "arr[j] : 101\t arr[min_index] : 25\n",
      "\n",
      "arr old : [22, 25, 172, 64, 101]\n",
      "arr[i] : 25\t arr[min_index] : 25\n",
      "arr[i] : 1\t arr[min_index] : 1\n",
      "arr new : [22, 25, 172, 64, 101]\n",
      "********************\n",
      "min index = 2\n",
      "arr[j] : 64\t arr[min_index] : 172\n",
      "  >> new Min_index : 3\n",
      "arr[j] : 101\t arr[min_index] : 64\n",
      "\n",
      "arr old : [22, 25, 172, 64, 101]\n",
      "arr[i] : 172\t arr[min_index] : 64\n",
      "arr[i] : 2\t arr[min_index] : 3\n",
      "arr new : [22, 25, 64, 172, 101]\n",
      "********************\n",
      "min index = 3\n",
      "arr[j] : 101\t arr[min_index] : 172\n",
      "  >> new Min_index : 4\n",
      "\n",
      "arr old : [22, 25, 64, 172, 101]\n",
      "arr[i] : 172\t arr[min_index] : 101\n",
      "arr[i] : 3\t arr[min_index] : 4\n",
      "arr new : [22, 25, 64, 101, 172]\n",
      "********************\n",
      "min index = 4\n",
      "\n",
      "arr old : [22, 25, 64, 101, 172]\n",
      "arr[i] : 172\t arr[min_index] : 172\n",
      "arr[i] : 4\t arr[min_index] : 4\n",
      "arr new : [22, 25, 64, 101, 172]\n",
      "********************\n"
     ]
    },
    {
     "data": {
      "text/plain": [
       "[22, 25, 64, 101, 172]"
      ]
     },
     "execution_count": 19,
     "metadata": {},
     "output_type": "execute_result"
    }
   ],
   "source": [
    "def selection_sort(arr):\n",
    "    \n",
    "    n = len(arr)\n",
    "    \n",
    "    for i in range(n):\n",
    "        #print(f'i : {i}')\n",
    "        #assume the current element is min\n",
    "        \n",
    "        min_index = i  #starting from 0\n",
    "        print(f'min index = {i}')\n",
    "        \n",
    "        for j in range(i + 1, n):\n",
    "            #print(f'     j : {j}')\n",
    "            \n",
    "            print(f'arr[j] : {arr[j]}\\t arr[min_index] : {arr[min_index]}')\n",
    "            if  arr[j] < arr[min_index]:\n",
    "                min_index = j\n",
    "                print(f'  >> new Min_index : {j}')\n",
    "                \n",
    "#                 min_index = j\n",
    "        print(f'\\narr old : {arr}') \n",
    "        \n",
    "        print(f'arr[i] : {arr[i]}\\t arr[min_index] : {arr[min_index]}')\n",
    "        print(f'arr[i] : {i}\\t arr[min_index] : {min_index}')\n",
    "        \n",
    "        arr[i], arr[min_index] = arr[min_index], arr[i]\n",
    "        print(f'arr new : {arr}') \n",
    "        print(\"*\"*20)\n",
    "        \n",
    "    return arr\n",
    "\n",
    "\n",
    "arr = [64, 25, 172, 22, 101]\n",
    "print(f'Arr = {arr}')\n",
    "sorted_arr = selection_sort(arr)\n",
    "sorted_arr\n",
    "        "
   ]
  },
  {
   "cell_type": "code",
   "execution_count": null,
   "id": "bc24b2a4-91e9-4109-a0fa-de9aed2fed51",
   "metadata": {},
   "outputs": [],
   "source": []
  },
  {
   "cell_type": "code",
   "execution_count": null,
   "id": "975bec7c-f85a-4e65-a647-39dfac3b5330",
   "metadata": {},
   "outputs": [],
   "source": []
  },
  {
   "cell_type": "code",
   "execution_count": null,
   "id": "317a96f0-0873-40fa-b68e-a8be580f1011",
   "metadata": {},
   "outputs": [],
   "source": []
  },
  {
   "cell_type": "code",
   "execution_count": null,
   "id": "8a446c39-1265-475a-bc88-d5c265abff40",
   "metadata": {},
   "outputs": [],
   "source": []
  },
  {
   "cell_type": "code",
   "execution_count": 20,
   "id": "e23a2965-d03d-49c6-960d-06cf4bb55406",
   "metadata": {},
   "outputs": [
    {
     "name": "stdout",
     "output_type": "stream",
     "text": [
      "Arr = [23, 2, 16, 7]\n",
      "min index = 0\n",
      "arr[j] : 2\t arr[min_index] : 23\n",
      "  >> new Min_index : 1\n",
      "arr[j] : 16\t arr[min_index] : 2\n",
      "arr[j] : 7\t arr[min_index] : 2\n",
      "\n",
      "arr old : [23, 2, 16, 7]\n",
      "arr[i] : 23\t arr[min_index] : 2\n",
      "arr[i] : 0\t arr[min_index] : 1\n",
      "arr new : [2, 23, 16, 7]\n",
      "********************\n",
      "min index = 1\n",
      "arr[j] : 16\t arr[min_index] : 23\n",
      "  >> new Min_index : 2\n",
      "arr[j] : 7\t arr[min_index] : 16\n",
      "  >> new Min_index : 3\n",
      "\n",
      "arr old : [2, 23, 16, 7]\n",
      "arr[i] : 23\t arr[min_index] : 7\n",
      "arr[i] : 1\t arr[min_index] : 3\n",
      "arr new : [2, 7, 16, 23]\n",
      "********************\n",
      "min index = 2\n",
      "arr[j] : 23\t arr[min_index] : 16\n",
      "\n",
      "arr old : [2, 7, 16, 23]\n",
      "arr[i] : 16\t arr[min_index] : 16\n",
      "arr[i] : 2\t arr[min_index] : 2\n",
      "arr new : [2, 7, 16, 23]\n",
      "********************\n",
      "min index = 3\n",
      "\n",
      "arr old : [2, 7, 16, 23]\n",
      "arr[i] : 23\t arr[min_index] : 23\n",
      "arr[i] : 3\t arr[min_index] : 3\n",
      "arr new : [2, 7, 16, 23]\n",
      "********************\n"
     ]
    },
    {
     "data": {
      "text/plain": [
       "[2, 7, 16, 23]"
      ]
     },
     "execution_count": 20,
     "metadata": {},
     "output_type": "execute_result"
    }
   ],
   "source": [
    "def selection_sort(arr):\n",
    "    \n",
    "    n = len(arr)\n",
    "    \n",
    "    for i in range(n):\n",
    "    \n",
    "        min_index = i  #starting from 0\n",
    "        print(f'min index = {i}')\n",
    "        \n",
    "        for j in range(i + 1, n):\n",
    "            #print(f'     j : {j}')\n",
    "            \n",
    "            print(f'arr[j] : {arr[j]}\\t arr[min_index] : {arr[min_index]}')\n",
    "            if  arr[j] < arr[min_index]:\n",
    "                min_index = j\n",
    "                print(f'  >> new Min_index : {j}')\n",
    "                \n",
    "#                 min_index = j\n",
    "        print(f'\\narr old : {arr}') \n",
    "        \n",
    "        print(f'arr[i] : {arr[i]}\\t arr[min_index] : {arr[min_index]}')\n",
    "        print(f'arr[i] : {i}\\t arr[min_index] : {min_index}')\n",
    "        \n",
    "        arr[i], arr[min_index] = arr[min_index], arr[i]\n",
    "        print(f'arr new : {arr}') \n",
    "        print(\"*\"*20)\n",
    "        \n",
    "    return arr\n",
    "\n",
    "\n",
    "arr = [23, 2, 16, 7]\n",
    "print(f'Arr = {arr}')\n",
    "sorted_arr = selection_sort(arr)\n",
    "sorted_arr\n",
    "        "
   ]
  },
  {
   "cell_type": "code",
   "execution_count": null,
   "id": "610e5f5a-89d0-40f1-9831-0a6947bc8a0b",
   "metadata": {},
   "outputs": [],
   "source": []
  }
 ],
 "metadata": {
  "kernelspec": {
   "display_name": "Python 3 (ipykernel)",
   "language": "python",
   "name": "python3"
  },
  "language_info": {
   "codemirror_mode": {
    "name": "ipython",
    "version": 3
   },
   "file_extension": ".py",
   "mimetype": "text/x-python",
   "name": "python",
   "nbconvert_exporter": "python",
   "pygments_lexer": "ipython3",
   "version": "3.10.8"
  }
 },
 "nbformat": 4,
 "nbformat_minor": 5
}
