{
 "cells": [
  {
   "cell_type": "code",
   "execution_count": 1,
   "id": "957d76e0-29c6-4af1-a65d-05603193b4d1",
   "metadata": {},
   "outputs": [],
   "source": [
    "#Bubble sort"
   ]
  },
  {
   "cell_type": "code",
   "execution_count": null,
   "id": "3fa2709b-d92e-4fce-8c20-098e7071ab29",
   "metadata": {},
   "outputs": [],
   "source": []
  },
  {
   "cell_type": "code",
   "execution_count": 30,
   "id": "8a15f0ad-2aa5-414d-90f3-a426702037a1",
   "metadata": {},
   "outputs": [],
   "source": [
    "def bubble_sort(arr):\n",
    "    n = len(arr)\n",
    "    \n",
    "    #for i in range(n-1):\n",
    "    for i in range(n):\n",
    "        \n",
    "        for j in range(n-i-1):\n",
    "            \n",
    "            if (arr[j] > arr[j+1]):\n",
    "                \n",
    "                #left is > right, swap\n",
    "                arr[j], arr[j+1] = arr[j+1], arr[j]\n",
    "\n"
   ]
  },
  {
   "cell_type": "code",
   "execution_count": null,
   "id": "e8090722-721c-4773-881e-89067442f931",
   "metadata": {},
   "outputs": [],
   "source": []
  },
  {
   "cell_type": "code",
   "execution_count": 31,
   "id": "e76d8f99-fc5e-4ba1-91b6-2a6656ae987c",
   "metadata": {},
   "outputs": [
    {
     "name": "stdout",
     "output_type": "stream",
     "text": [
      "Original : [5, 1, 3, 4, 2]\n",
      "Modified : [1, 2, 3, 4, 5]\n"
     ]
    }
   ],
   "source": [
    "arr = [5,1,3,4,2]\n",
    "print(f'Original : {arr}')\n",
    "bubble_sort(arr)\n",
    "print(f'Modified : {arr}')"
   ]
  },
  {
   "cell_type": "code",
   "execution_count": null,
   "id": "ef8e0dac-ea54-4ad8-b184-cce7644da0b2",
   "metadata": {},
   "outputs": [],
   "source": []
  },
  {
   "cell_type": "code",
   "execution_count": 32,
   "id": "213a2bee-70bf-47cf-a290-2281ec61294b",
   "metadata": {},
   "outputs": [
    {
     "name": "stdout",
     "output_type": "stream",
     "text": [
      "Original : [64, 34, 55, 67, 89, 12, 34, 64, 13]\n",
      "Modified : [12, 13, 34, 34, 55, 64, 64, 67, 89]\n"
     ]
    }
   ],
   "source": [
    "arr1 = [64, 34,55,67,89,12,34,64,13]\n",
    "print(f'Original : {arr1}')\n",
    "bubble_sort(arr1)\n",
    "print(f'Modified : {arr1}')"
   ]
  },
  {
   "cell_type": "code",
   "execution_count": null,
   "id": "b0054fe9-ec57-4d17-bacb-4baeefa4a06c",
   "metadata": {},
   "outputs": [],
   "source": []
  },
  {
   "cell_type": "code",
   "execution_count": null,
   "id": "66ee1047-e58e-4fb2-894c-c1c62c23ddd5",
   "metadata": {},
   "outputs": [],
   "source": []
  },
  {
   "cell_type": "code",
   "execution_count": null,
   "id": "9ffb66f9-c0ed-47b1-ae98-3da9bf241738",
   "metadata": {},
   "outputs": [],
   "source": [
    "#below output can show how exactly the bubble sort is working step by step."
   ]
  },
  {
   "cell_type": "code",
   "execution_count": 50,
   "id": "6bb90539-6769-46c3-a9f4-26c195d07e14",
   "metadata": {},
   "outputs": [
    {
     "name": "stdout",
     "output_type": "stream",
     "text": [
      "j = 0\n",
      "       5 > 1\n",
      "Arr : [1, 5, 3, 4, 2]\n",
      "j = 1\n",
      "       5 > 3\n",
      "Arr : [1, 3, 5, 4, 2]\n",
      "j = 2\n",
      "       5 > 4\n",
      "Arr : [1, 3, 4, 5, 2]\n",
      "j = 3\n",
      "       5 > 2\n",
      "Arr : [1, 3, 4, 2, 5]\n",
      "********************\n",
      "j = 0\n",
      "       1 > 3\n",
      "Arr : [1, 3, 4, 2, 5]\n",
      "j = 1\n",
      "       3 > 4\n",
      "Arr : [1, 3, 4, 2, 5]\n",
      "j = 2\n",
      "       4 > 2\n",
      "Arr : [1, 3, 2, 4, 5]\n",
      "********************\n",
      "j = 0\n",
      "       1 > 3\n",
      "Arr : [1, 3, 2, 4, 5]\n",
      "j = 1\n",
      "       3 > 2\n",
      "Arr : [1, 2, 3, 4, 5]\n",
      "********************\n",
      "j = 0\n",
      "       1 > 2\n",
      "Arr : [1, 2, 3, 4, 5]\n",
      "********************\n",
      "********************\n"
     ]
    }
   ],
   "source": [
    "def bubble_sort(arr):\n",
    "    n = len(arr)\n",
    "    \n",
    "    #for i in range(n-1):\n",
    "    for i in range(n):\n",
    "        # print(f'i : {arr[i]}')\n",
    "        for j in range(n-i-1):\n",
    "            print(f'j = {j}')\n",
    "            print(f'       {arr[j]} > {arr[j+1]}')\n",
    "            if (arr[j] > arr[j+1]):\n",
    "                arr[j], arr[j+1] = arr[j+1], arr[j]\n",
    "            print(f'Arr : {arr}')\n",
    "        print(\"*\"*20)\n",
    "\n",
    "arr = [5,1,3,4,2]              \n",
    "bubble_sort(arr)"
   ]
  },
  {
   "cell_type": "code",
   "execution_count": null,
   "id": "87a65f8b-5f46-4d0d-80a8-46977202dbeb",
   "metadata": {},
   "outputs": [],
   "source": []
  },
  {
   "cell_type": "code",
   "execution_count": null,
   "id": "faca4b96-20c7-493e-bc3f-f3acf2884d20",
   "metadata": {},
   "outputs": [],
   "source": []
  },
  {
   "cell_type": "code",
   "execution_count": 52,
   "id": "e28cc8e1-4a4c-4129-a76f-563babaa3795",
   "metadata": {},
   "outputs": [],
   "source": [
    "#practice"
   ]
  },
  {
   "cell_type": "code",
   "execution_count": 53,
   "id": "c2c5cbf2-386d-45d9-98aa-c1fbe4732f8c",
   "metadata": {},
   "outputs": [
    {
     "name": "stdout",
     "output_type": "stream",
     "text": [
      "Ori : [3, 2, 4, 6, 3, 1, 2, 4]\n",
      "Mod : [1, 2, 2, 3, 3, 4, 4, 6]\n"
     ]
    }
   ],
   "source": [
    "def bubble_sort_test(arr):\n",
    "    n = len(arr)\n",
    "    \n",
    "    for i in range(n):\n",
    "        for j in range(n-i-1):\n",
    "            if (arr[j] > arr[j+1]):\n",
    "                arr[j], arr[j+1] = arr[j+1], arr[j]\n",
    "\n",
    "arr1 = [3,2,4,6,3,1,2,4]\n",
    "print(f'Ori : {arr1}')\n",
    "bubble_sort_test(arr1)\n",
    "print(f'Mod : {arr1}')"
   ]
  },
  {
   "cell_type": "code",
   "execution_count": null,
   "id": "a9674a12-1b23-40c9-a093-1ab4fde9209b",
   "metadata": {},
   "outputs": [],
   "source": []
  },
  {
   "cell_type": "code",
   "execution_count": null,
   "id": "8f3664d9-02ac-42cd-af3d-f33325e15d3e",
   "metadata": {},
   "outputs": [],
   "source": []
  }
 ],
 "metadata": {
  "kernelspec": {
   "display_name": "Python 3 (ipykernel)",
   "language": "python",
   "name": "python3"
  },
  "language_info": {
   "codemirror_mode": {
    "name": "ipython",
    "version": 3
   },
   "file_extension": ".py",
   "mimetype": "text/x-python",
   "name": "python",
   "nbconvert_exporter": "python",
   "pygments_lexer": "ipython3",
   "version": "3.10.8"
  }
 },
 "nbformat": 4,
 "nbformat_minor": 5
}
