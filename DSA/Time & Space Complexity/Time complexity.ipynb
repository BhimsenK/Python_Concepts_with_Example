{
 "cells": [
  {
   "cell_type": "code",
   "execution_count": 1,
   "id": "d3fe3850-1fcd-49da-9463-4cf8820c7442",
   "metadata": {},
   "outputs": [],
   "source": [
    "# What is Data Structure ?"
   ]
  },
  {
   "cell_type": "code",
   "execution_count": null,
   "id": "01fa78fc-37e7-41e8-9e25-c3c4eaef9539",
   "metadata": {},
   "outputs": [],
   "source": [
    "'''\n",
    "Data Structure is nothing but structuring the data. \n",
    "but why ? its for effiecient storage & fast computation.\n",
    "\n",
    "e.g Bag packing.\n",
    "\n",
    "Son : Packing bag in the last moment, just throwing cloths for fitting. There will be for e.g just say 2 jeans and 3 shirts.\n",
    "Mom : Packing bag by folding shirts/ jeans in it. As a result, there will be more space in the bag even after the\n",
    "      required cloths. Also if need any shirt, will know where exactly we have kept.\n",
    "      \n",
    "So like this, we can staructre the data for faster computation and for efficient storage.\n",
    "'''"
   ]
  },
  {
   "cell_type": "code",
   "execution_count": null,
   "id": "d1d2f973-fd69-411e-8fee-9a1f26bb4253",
   "metadata": {},
   "outputs": [],
   "source": []
  },
  {
   "cell_type": "code",
   "execution_count": null,
   "id": "9dcf5bd8-ce8d-46b8-822c-9caca3fc2f11",
   "metadata": {},
   "outputs": [],
   "source": []
  },
  {
   "cell_type": "code",
   "execution_count": 2,
   "id": "60ea3ca3-f855-4629-a33b-7a91b37a9ac9",
   "metadata": {},
   "outputs": [],
   "source": [
    "#Types"
   ]
  },
  {
   "cell_type": "raw",
   "id": "a796358e-7ede-4a6d-b20e-3132bab17860",
   "metadata": {},
   "source": [
    "Linear :\n",
    "---------------------\n",
    "\n",
    "Array, Linkedlist, Queue, Stack\n",
    "\n",
    "\n",
    "Non - Linear :\n",
    "---------------------\n",
    "\n",
    "Tree, Priority Queue, Graph, Map/ Dictionary"
   ]
  },
  {
   "cell_type": "code",
   "execution_count": null,
   "id": "fca7c254-0fcb-4e7c-b951-9f19f89997d9",
   "metadata": {},
   "outputs": [],
   "source": []
  },
  {
   "cell_type": "code",
   "execution_count": null,
   "id": "ad34c435-cd36-4c95-8a0a-05c985dd3a8e",
   "metadata": {},
   "outputs": [],
   "source": []
  },
  {
   "cell_type": "code",
   "execution_count": 3,
   "id": "a4c639d8-d50c-4cb3-a8e5-7ed58df424ef",
   "metadata": {},
   "outputs": [],
   "source": [
    "#what is Alogirithm?"
   ]
  },
  {
   "cell_type": "raw",
   "id": "dc2a4c44-0231-492a-832b-61275e253977",
   "metadata": {},
   "source": [
    "\"Steps to solve the Problem\"\n",
    "----------------------------\n",
    "\n",
    "\n",
    "e.g : Making a Tea\n",
    "\n",
    "Steps : Getting inside the Kitchen > finding Tea Poweder/ sugar/ cups/ pots etc > Boiling the Milk > Adding sugar,\n",
    "        tea powder etc. > Taking Chain inside the cups through filter etc.\n",
    "        \n",
    "\n",
    "So for the problem statement of \"making a Tea\" above mentioned steps are the Algorithm. This is just an example to under-\n",
    "stand what Algorithm means."
   ]
  },
  {
   "cell_type": "code",
   "execution_count": null,
   "id": "1057fc99-cadb-4c83-9dec-c3047e66b504",
   "metadata": {},
   "outputs": [],
   "source": []
  },
  {
   "cell_type": "code",
   "execution_count": null,
   "id": "4c6baac0-7aaa-4eab-8341-ade7d09116e3",
   "metadata": {},
   "outputs": [],
   "source": []
  },
  {
   "cell_type": "code",
   "execution_count": 4,
   "id": "268712df-3339-491f-b42b-3b72101f91b6",
   "metadata": {},
   "outputs": [],
   "source": [
    "#What is Time Complexity ?"
   ]
  },
  {
   "cell_type": "raw",
   "id": "71d6c397-0d68-4528-bee8-86847a0ba8bd",
   "metadata": {},
   "source": [
    "Its definetly not >> \"Time taken by an algorithm to solve a problem :) \"\n",
    "----------------------------------------------------------------------------\n",
    "\n",
    "' Its nothing but a tool to findout the best suitable Algorithm for a problem statement. '\n",
    "\n",
    "As we saw a step to make a Tea. \n",
    "But there will be multiple ways of preparing the Tea.\n",
    "Suppose there are A1, A2, A3 & A4 algorightms (steps of making tea). So here to findout which Algorithm is OR which way is faster and suitable for making a Tea there, we can use a tool we called it as \"Time Complexity\"."
   ]
  },
  {
   "cell_type": "code",
   "execution_count": null,
   "id": "90ce3355-ad76-479d-b74b-21743134b2b1",
   "metadata": {},
   "outputs": [],
   "source": []
  },
  {
   "cell_type": "code",
   "execution_count": null,
   "id": "14952b8b-62a6-44ad-a101-dfd53c77e27a",
   "metadata": {},
   "outputs": [],
   "source": []
  },
  {
   "cell_type": "code",
   "execution_count": null,
   "id": "ce895640-5eb1-40b2-8bb7-6b1e16081413",
   "metadata": {},
   "outputs": [],
   "source": []
  },
  {
   "cell_type": "code",
   "execution_count": 5,
   "id": "4ae82816-a698-4bb7-a595-4016cc29c2d0",
   "metadata": {},
   "outputs": [],
   "source": [
    "#Lets find some Time Complexities of codes."
   ]
  },
  {
   "cell_type": "code",
   "execution_count": null,
   "id": "9ed143f2-4e73-43f1-82c2-352f4f3538bb",
   "metadata": {},
   "outputs": [],
   "source": []
  },
  {
   "cell_type": "code",
   "execution_count": 7,
   "id": "ee53a299-2907-44f6-9aff-f1980d5a5729",
   "metadata": {},
   "outputs": [],
   "source": [
    "#1 : O(n)"
   ]
  },
  {
   "cell_type": "code",
   "execution_count": 10,
   "id": "63f573aa-3c5c-48de-ae17-9be991f718a5",
   "metadata": {},
   "outputs": [
    {
     "name": "stdout",
     "output_type": "stream",
     "text": [
      "Hii...\n",
      "Hii...\n",
      "Hii...\n",
      "Hii...\n",
      "Hii...\n"
     ]
    }
   ],
   "source": [
    "#code :\n",
    "\n",
    "\n",
    "def whats_your_name(n):\n",
    "    for i in range(n):\n",
    "        print('Hii...')\n",
    "        \n",
    "whats_your_name(5)"
   ]
  },
  {
   "cell_type": "raw",
   "id": "bfb8d58f-b0d1-4486-98d4-3e8f79fd6a19",
   "metadata": {},
   "source": [
    "In the above code, \n",
    "n is no. of Inputs and 'print('Hi...')' is the operation.\n",
    "\n",
    "Q. What is Number of Operations ?\n",
    ">> Its the number of time 'Hi...' will get printed.\n",
    "\n",
    "To find the Time Complexity, we need to find the what is the proportion of the Operations to the num. of inputs.\n",
    "\n",
    "Here, Operations will be performed based on the Input number directly.\n",
    "So here the Time complexity will be \"O(n)\" or \"Order of n\""
   ]
  },
  {
   "cell_type": "code",
   "execution_count": null,
   "id": "e60dc395-82ad-4124-9295-34b812dfb222",
   "metadata": {},
   "outputs": [],
   "source": []
  },
  {
   "cell_type": "code",
   "execution_count": null,
   "id": "e0d6f80b-b0a9-446f-8619-d9ab1abf7437",
   "metadata": {},
   "outputs": [],
   "source": []
  },
  {
   "cell_type": "code",
   "execution_count": 11,
   "id": "943613ed-cc26-40d2-9fd1-9ee494d1837e",
   "metadata": {},
   "outputs": [],
   "source": [
    "#2 : O(n2)"
   ]
  },
  {
   "cell_type": "code",
   "execution_count": 16,
   "id": "d1b0381e-3794-4a1e-b472-bb2f29720bda",
   "metadata": {},
   "outputs": [
    {
     "name": "stdout",
     "output_type": "stream",
     "text": [
      "Hii... Hii... \n",
      "Hii... Hii... \n"
     ]
    }
   ],
   "source": [
    "#code :\n",
    "\n",
    "\n",
    "def whats_your_name(n):\n",
    "    for i in range(n):\n",
    "        for j in range(n):\n",
    "            print('Hii...',end = \" \")\n",
    "        print()\n",
    "        \n",
    "whats_your_name(2)"
   ]
  },
  {
   "cell_type": "raw",
   "id": "08872870-636d-4e94-9af0-0389724f78fa",
   "metadata": {},
   "source": [
    "here we can see that if n=2 then it will print 4 times. if its 4 then will print for 16 times.\n",
    "So here we can say that the Time Complexity of the code will be \"O(n2)\" OR \"Order of n square\"."
   ]
  },
  {
   "cell_type": "code",
   "execution_count": null,
   "id": "9754e9b9-e5c3-4e1b-b7e8-721c6e7808c9",
   "metadata": {},
   "outputs": [],
   "source": []
  },
  {
   "cell_type": "code",
   "execution_count": null,
   "id": "038211a9-0a5b-4ade-83b3-07a333381049",
   "metadata": {},
   "outputs": [],
   "source": []
  },
  {
   "cell_type": "code",
   "execution_count": 17,
   "id": "d01ede1a-bc69-426a-8c08-083761bf5f1c",
   "metadata": {},
   "outputs": [],
   "source": [
    "#2 : O(n3)"
   ]
  },
  {
   "cell_type": "code",
   "execution_count": 19,
   "id": "558ff23c-408e-4510-9cca-ea87ad84b7f4",
   "metadata": {},
   "outputs": [
    {
     "name": "stdout",
     "output_type": "stream",
     "text": [
      "Hii... Hii... Hii... Hii... Hii... Hii... Hii... Hii... Hii... Hii... Hii... Hii... Hii... Hii... Hii... Hii... \n",
      "Hii... Hii... Hii... Hii... Hii... Hii... Hii... Hii... Hii... Hii... Hii... Hii... Hii... Hii... Hii... Hii... \n",
      "Hii... Hii... Hii... Hii... Hii... Hii... Hii... Hii... Hii... Hii... Hii... Hii... Hii... Hii... Hii... Hii... \n",
      "Hii... Hii... Hii... Hii... Hii... Hii... Hii... Hii... Hii... Hii... Hii... Hii... Hii... Hii... Hii... Hii... \n"
     ]
    }
   ],
   "source": [
    "#code :\n",
    "\n",
    "\n",
    "def whats_your_name(n):\n",
    "    for i in range(n):\n",
    "        for j in range(n):\n",
    "            for k in range(n):\n",
    "                print('Hii...',end = \" \")\n",
    "        print()\n",
    "        \n",
    "whats_your_name(4)"
   ]
  },
  {
   "cell_type": "raw",
   "id": "90f1f586-b41e-4da0-a255-7376ca8de556",
   "metadata": {},
   "source": [
    "here we can see that \n",
    "if n=2 > 8 times. \n",
    "if n=4 > 64 times.\n",
    ".\n",
    ".\n",
    ".\n",
    "So here we can say that the Time Complexity of the code will be \"O(n3)\" OR \"Order of n cube\"."
   ]
  },
  {
   "cell_type": "code",
   "execution_count": null,
   "id": "fbbdf0c5-4220-4929-b147-c3c08b620bf2",
   "metadata": {},
   "outputs": [],
   "source": []
  },
  {
   "cell_type": "code",
   "execution_count": null,
   "id": "6ec81a17-cdd9-40b4-83fd-4badb4b0768b",
   "metadata": {},
   "outputs": [],
   "source": []
  },
  {
   "cell_type": "code",
   "execution_count": 20,
   "id": "b370d2bd-512f-46bf-a109-da632ffd27ee",
   "metadata": {},
   "outputs": [],
   "source": [
    "#3 : O(log n)"
   ]
  },
  {
   "cell_type": "code",
   "execution_count": 23,
   "id": "ac50b125-c2f1-4321-884e-55687473eae0",
   "metadata": {},
   "outputs": [
    {
     "name": "stdout",
     "output_type": "stream",
     "text": [
      "n : 10\n",
      "\n",
      "Inside while loop\n",
      "i : 1\n",
      "i * 2 = 2\n",
      "\n",
      "Inside while loop\n",
      "i : 2\n",
      "i * 2 = 4\n",
      "\n",
      "Inside while loop\n",
      "i : 4\n",
      "i * 2 = 8\n",
      "\n",
      "Inside while loop\n",
      "i : 8\n",
      "i * 2 = 16\n",
      "\n"
     ]
    },
    {
     "data": {
      "text/plain": [
       "'\\nTime Complexity : How number of times the operation will perform and that is in what proportional to the Input size. \\ni.e print() in this case.\\n'"
      ]
     },
     "execution_count": 23,
     "metadata": {},
     "output_type": "execute_result"
    }
   ],
   "source": [
    "def Ajith(n):\n",
    "    print(f'n : {n}\\n')\n",
    "    i = 1\n",
    "    while (i < n):\n",
    "        print(f'Inside while loop')\n",
    "        print(f'i : {i}')\n",
    "        i = i * 2\n",
    "        print(f'i * 2 = {i}\\n')\n",
    "\n",
    "        \n",
    "        \n",
    "Ajith(10)\n",
    "\n",
    "\n",
    "'''\n",
    "Time Complexity : How number of times the operation will perform and that is in what proportional to the Input size. \n",
    "i.e print() in this case.\n",
    "'''"
   ]
  },
  {
   "cell_type": "raw",
   "id": "edc11b84-0d65-4aa4-baf2-d13b0a193091",
   "metadata": {},
   "source": [
    "What is a Logarithm?\n",
    "A logarithm is a mathematical function that helps us determine how many times one number must be multiplied by itself to get another number.\n",
    "\n",
    "The logarithm function is written as log b (a) which means \"the exponent to which the base \n",
    "𝑏 must be raised to produce a\".\n",
    "\n",
    "log 2(8)=3 because 2^3 = 8\n",
    "\n",
    "This means you have to multiply 2 by itself 3 times to get 8.\n",
    "\n",
    "To find out how many times we need to double 1 to get at least  𝑛, we solve for 𝑘\n",
    "k = log 2^(n)"
   ]
  },
  {
   "cell_type": "raw",
   "id": "b004742f-b29a-468c-91e2-b690afd377fb",
   "metadata": {},
   "source": [
    "Why Use Logarithms?\n",
    "We use logarithms because they directly answer the question of how many times a number must be multiplied by itself to reach another number. In the context of your code:"
   ]
  },
  {
   "cell_type": "raw",
   "id": "13cc5d71-5728-4e60-ae7e-07c9fd0357eb",
   "metadata": {},
   "source": [
    "log b(a) is read as \"log base b of 𝑎\".\n",
    "\n",
    "Visual Example\n",
    "Let's visualize this with n=16:\n",
    "\n",
    "Initial Value: 𝑖=1\n",
    "\n",
    "First Iteration: i=2 (doubled)\n",
    "Second Iteration: i=4 (doubled)\n",
    "Third Iteration: i=8 (doubled)\n",
    "Fourth Iteration: i=16 (doubled)\n",
    "\n",
    "We doubled 'i' 4 times to reach 16. So: log 2(16)=4"
   ]
  },
  {
   "cell_type": "raw",
   "id": "da0a4905-374d-4144-b593-6dfeed77bb6b",
   "metadata": {},
   "source": [
    "so the time complexity is O(log n)"
   ]
  },
  {
   "cell_type": "code",
   "execution_count": null,
   "id": "9f0146f1-6ab7-499b-ab82-90f9a44efbfa",
   "metadata": {},
   "outputs": [],
   "source": []
  },
  {
   "cell_type": "code",
   "execution_count": null,
   "id": "b7962b0e-eeb1-445a-8d1b-0363f42aa5a4",
   "metadata": {},
   "outputs": [],
   "source": [
    "#4 : O( n log n)"
   ]
  },
  {
   "cell_type": "code",
   "execution_count": 16,
   "id": "3c044002-3d1a-4f40-bf49-5a801f9cd521",
   "metadata": {},
   "outputs": [],
   "source": [
    "def punnet(n):\n",
    "    for i in range(n):\n",
    "        j = 1\n",
    "        print(f'i : {i} & j : {j}\\n')\n",
    "        while (j < n):\n",
    "            j = j * 2\n",
    "            print(f'j * 2 = {j}')\n",
    "            # print(\"Hello\", end = \" \")\n",
    "        print(\"*\"*10)\n",
    "\n",
    "# punnet(5)"
   ]
  },
  {
   "cell_type": "raw",
   "id": "570d12ce-8644-4d5f-b312-5303f547c004",
   "metadata": {},
   "source": [
    "# So here, how can we calculate the time complexity if there is nested loops ?\n",
    "\n",
    "> Here, first find the time complexity of eachh loop. \n",
    "i.e 1st is for loop and 2nd is while loop.\n",
    "\n",
    "*1st loop time complexity (for loop) :\n",
    "-----------------------------\n",
    "Its just a for loop, so its completly dependant on user input. so O(n)\n",
    "\n",
    "\n",
    "*2nd loops time complexity (while loop):\n",
    "-----------------------------\n",
    "As we saw in the previous example, in this while loop its doubling the value. \n",
    "So its O(log n)\n",
    "\n",
    "\n",
    "========================================================\n",
    "So the time complexity of this code will be O(n x log n)\n",
    "========================================================\n",
    "\n",
    "\n",
    "\n",
    "\n",
    "Note : \n",
    "\n",
    "# Nested Loop\n",
    "- - - - - - - -\n",
    "If there are 3 loops (Loop 1, then inside that Loop 2 and inside that Loop 3rd.) i.e L1, L2, L3. and their TC is t1, t2 & t3. \n",
    "Suppose their time complexities are like O(n), O(log n) & O(n2) so the\n",
    "\n",
    "effective TC = (t1 x t2 x t3)\n",
    "\n",
    "\n",
    "\n",
    "# Separate Loops \n",
    "- - - - - - - - -\n",
    "Loop 1 > TC = t1\n",
    "Loop 2 > TC = t2\n",
    "Loop 3 > TC = t3\n",
    "\n",
    "\n",
    "then for this,\n",
    "\n",
    "effective TC = max (t1, t2, t3)\n",
    "\n",
    "\n",
    "{\n",
    "suppose its t1 = O(n), t2 = O(log n) & t3 = O(n2) then \"effective TC = max (O(n), O(log n), O(n2)) \n",
    "i.e O(n2)\"\n",
    "}\n",
    "\n"
   ]
  },
  {
   "cell_type": "code",
   "execution_count": null,
   "id": "7aa17f5c-e98b-4d3c-85bb-c6be2f6dec63",
   "metadata": {},
   "outputs": [],
   "source": []
  },
  {
   "cell_type": "code",
   "execution_count": null,
   "id": "eefda57e-a803-4ab2-ad5e-58db35abf0d6",
   "metadata": {},
   "outputs": [],
   "source": [
    "#5 : O(n)"
   ]
  },
  {
   "cell_type": "code",
   "execution_count": 21,
   "id": "c6ba4a2b-0181-4fb6-af1e-41f9b19bc9d8",
   "metadata": {},
   "outputs": [
    {
     "name": "stdout",
     "output_type": "stream",
     "text": [
      "hello hello hello hello hello hello hello hello "
     ]
    }
   ],
   "source": [
    "def vijay(n):\n",
    "    for i in range(n):\n",
    "        for j in range(n):\n",
    "            print(\"hello\", end = \" \")\n",
    "            break   \n",
    "vijay(8)"
   ]
  },
  {
   "cell_type": "raw",
   "id": "8d812859-7af5-4b84-b7a0-f6d4e6e4b9e3",
   "metadata": {},
   "source": [
    "# How can we find the time complexity for this code ?\n",
    "\n",
    "> \n",
    "1. How many loops are there ?\n",
    "  >> 2\n",
    "  \n",
    "2. TC for each loop ?\n",
    "  >> 1st for loop  \n",
    "        > TC = O(n)\n",
    "        > Because its completly depends on the user input.\n",
    "  >> 2nd for loop \n",
    "        > TC = O(1)\n",
    "        > Because, even if its for loop but after printing 'hello' it will break that loop. So only 1 time it will execute.\n",
    "        \n",
    "3. Is this nested loop or Separate ?\n",
    "    >> Nested.\n",
    "    >> e.g     effective TC = (t1 x t2 x t3)\n",
    "    >> i.e     effective TC = O(n x 1) =    \"O(n)\""
   ]
  },
  {
   "cell_type": "code",
   "execution_count": null,
   "id": "6670fee6-6b7c-4ce7-b95c-590c18a82b76",
   "metadata": {},
   "outputs": [],
   "source": []
  },
  {
   "cell_type": "code",
   "execution_count": null,
   "id": "dcceb396-aa7d-4991-a7e8-2e6bd13f6377",
   "metadata": {},
   "outputs": [],
   "source": []
  },
  {
   "cell_type": "code",
   "execution_count": null,
   "id": "b66fb165-3966-4b09-8eef-9520d8ef6d3f",
   "metadata": {},
   "outputs": [],
   "source": [
    "#7 : O(log n)"
   ]
  },
  {
   "cell_type": "code",
   "execution_count": 34,
   "id": "d23a45e6-949e-4c4a-8e6a-c992455bebec",
   "metadata": {},
   "outputs": [
    {
     "name": "stdout",
     "output_type": "stream",
     "text": [
      "5\n",
      "\n",
      "i : 5\n",
      "5 / 2 = 2\n",
      "\n",
      "i : 2\n",
      "2 / 2 = 1\n",
      "\n",
      "i : 1\n",
      "1 / 2 = 0\n",
      "\n"
     ]
    }
   ],
   "source": [
    "def dhanush(n):\n",
    "    i = n\n",
    "    print(i)\n",
    "    print()\n",
    "    while (i > 0):\n",
    "        print(f'i : {i}')\n",
    "        print(f'{i} / 2 = ', end= \"\")\n",
    "        i = int( i / 2)\n",
    "        print(i)\n",
    "        print()\n",
    "        # print(\"hello\")\n",
    "        \n",
    "dhanush(5)"
   ]
  },
  {
   "cell_type": "raw",
   "id": "064b3ab2-f2a1-4f11-a313-316d61ec0f2e",
   "metadata": {},
   "source": [
    "In each iteration, i is divided by 2. To determine the number of iterations, we need to find how many \n",
    "times we can divide n by 2 before i becomes 0.\n",
    "\n",
    "This process of repeatedly dividing by 2 is related to the logarithm base 2.\n",
    "\n",
    "\n",
    "\n",
    "so the time complexity = O(log n)"
   ]
  },
  {
   "cell_type": "code",
   "execution_count": null,
   "id": "ae54020e-4695-40d6-b5f4-05347acaf181",
   "metadata": {},
   "outputs": [],
   "source": []
  },
  {
   "cell_type": "code",
   "execution_count": null,
   "id": "fc0ca14f-cfc3-4fcd-a80a-57b385bdb265",
   "metadata": {},
   "outputs": [],
   "source": [
    "#8 : O(log (log n))"
   ]
  },
  {
   "cell_type": "code",
   "execution_count": 40,
   "id": "a1e37f26-a204-48ed-b2b1-fc4003323e89",
   "metadata": {},
   "outputs": [
    {
     "name": "stdout",
     "output_type": "stream",
     "text": [
      "i : 2\n",
      "2 = 2 * 2 = 4\n",
      "Hello\n",
      "\n",
      "4 = 4 * 4 = 16\n",
      "Hello\n",
      "\n",
      "16 = 16 * 16 = 256\n",
      "Hello\n",
      "\n"
     ]
    }
   ],
   "source": [
    "def rajini(n):\n",
    "    i = 2\n",
    "    print(f'i : {i}')\n",
    "    while (i < n):\n",
    "        print(f'{i} = {i} * {i} = ', end = \"\")\n",
    "        i = i * i\n",
    "        print(f'{i}')\n",
    "        print(f'Hello')\n",
    "        print()\n",
    "        \n",
    "        \n",
    "rajini(100)"
   ]
  },
  {
   "cell_type": "code",
   "execution_count": null,
   "id": "6de3af27-e23f-4fce-9b60-4ffd51d3826a",
   "metadata": {},
   "outputs": [],
   "source": []
  },
  {
   "cell_type": "code",
   "execution_count": 17,
   "id": "7ef38534-4163-4160-bde3-76b90aeb424f",
   "metadata": {},
   "outputs": [],
   "source": [
    "#9 : O(root of n)    *Intresting"
   ]
  },
  {
   "cell_type": "code",
   "execution_count": 18,
   "id": "726bf346-7ce7-472c-978d-cab7367dd6d3",
   "metadata": {},
   "outputs": [
    {
     "name": "stdout",
     "output_type": "stream",
     "text": [
      "i : 1\n",
      "\n",
      "1 * 1 = 1\n",
      "i = 1 + 1 =  2\n",
      "\n",
      "hello\n",
      "\n",
      "2 * 2 = 4\n",
      "i = 2 + 1 =  3\n",
      "\n",
      "hello\n",
      "\n",
      "3 * 3 = 9\n",
      "i = 3 + 1 =  4\n",
      "\n",
      "hello\n",
      "\n",
      "4 * 4 = 16\n",
      "i = 4 + 1 =  5\n",
      "\n",
      "hello\n",
      "\n",
      "5 * 5 = 25\n",
      "i = 5 + 1 =  6\n",
      "\n",
      "hello\n",
      "\n"
     ]
    }
   ],
   "source": [
    "def hello(n):\n",
    "    i = 1\n",
    "    print(f'i : {i}\\n')\n",
    "    \n",
    "    while(i*i < n):\n",
    "        print(f'{i} * {i} = {i*i}')\n",
    "        print(f'i = {i} + 1 = ', end = \" \")\n",
    "        i = i + 1\n",
    "        print(f'{i}\\n')\n",
    "        print(\"hello\\n\")\n",
    "        \n",
    "hello(30)"
   ]
  },
  {
   "cell_type": "raw",
   "id": "bc406ab9-ab82-42cf-a9ab-57e9b8bb975f",
   "metadata": {},
   "source": [
    "Q. How to find the time complexity for this code ?\n",
    "\n",
    ">> \n",
    "1. How many loops are there ?\n",
    "   - 1\n",
    "   \n",
    "> 'i' is incrementing by 1 until \"square of i\" is greater than n i.e 30.\n",
    "> here, till 5 its satisfying the condition.\n",
    "> suppose 'k' as the number of operations needed.\n",
    "> 'n' is the input value.\n",
    "\n",
    "> Now here, till K'th value, its near to the 'n'. But k+1'th value i.e i*i will be greater than n.\n",
    "> e.g till 5th value its ( 5 * 5 = 25 ) which is near to 'n' i.e 30.\n",
    "> But (5 + 1) square will be greater than 'n'.\n",
    "\n",
    "> So, (k + 1)th square ~ approximate to 'n' i.e 30.\n",
    "\n",
    "(k + 1)square = n\n",
    "k + 1 = root n. (after removing square from LHS )\n",
    "\n",
    "i.e 'k' = No. Of Operations\n",
    "    'n' = Input.\n",
    "\n",
    "So the Time complexity of this case will be \"Root of n\"."
   ]
  },
  {
   "cell_type": "code",
   "execution_count": null,
   "id": "235b75f8-1d46-44a6-bbd5-353cd8afd0ac",
   "metadata": {},
   "outputs": [],
   "source": []
  },
  {
   "cell_type": "code",
   "execution_count": null,
   "id": "d0ed7480-cb09-4ace-a543-ae9c6208e22a",
   "metadata": {},
   "outputs": [],
   "source": []
  },
  {
   "cell_type": "code",
   "execution_count": null,
   "id": "60b35a62-25d9-4277-a454-8f78bf4ae16a",
   "metadata": {},
   "outputs": [],
   "source": []
  },
  {
   "cell_type": "code",
   "execution_count": 19,
   "id": "e45b15d5-ba9b-455a-a4cf-64c88ce7aff8",
   "metadata": {},
   "outputs": [],
   "source": [
    "#10. O(n^2)"
   ]
  },
  {
   "cell_type": "code",
   "execution_count": null,
   "id": "a961f46b-0bce-41bb-8578-00bac4a4215d",
   "metadata": {},
   "outputs": [],
   "source": []
  },
  {
   "cell_type": "code",
   "execution_count": 8,
   "id": "82106657-de01-4602-b7cd-1a7b539d0269",
   "metadata": {},
   "outputs": [
    {
     "name": "stdout",
     "output_type": "stream",
     "text": [
      "i : 1\n",
      "\n",
      "1 < 5\n",
      "j : 0\n",
      "0 < 5\n",
      "1 < 5\n",
      "2 < 5\n",
      "3 < 5\n",
      "4 < 5\n",
      "\n",
      "\n",
      "\n",
      "\n",
      "i : 2\n",
      "\n",
      "2 < 5\n",
      "j : 0\n",
      "0 < 5\n",
      "1 < 5\n",
      "2 < 5\n",
      "3 < 5\n",
      "4 < 5\n",
      "\n",
      "\n",
      "\n",
      "\n",
      "i : 3\n",
      "\n",
      "3 < 5\n",
      "j : 0\n",
      "0 < 5\n",
      "1 < 5\n",
      "2 < 5\n",
      "3 < 5\n",
      "4 < 5\n",
      "\n",
      "\n",
      "\n",
      "\n",
      "i : 4\n",
      "\n",
      "4 < 5\n",
      "j : 0\n",
      "0 < 5\n",
      "1 < 5\n",
      "2 < 5\n",
      "3 < 5\n",
      "4 < 5\n",
      "\n",
      "\n",
      "\n",
      "\n"
     ]
    }
   ],
   "source": [
    "def RRR(n):\n",
    "    i = 1\n",
    "    \n",
    "    while (i < n):\n",
    "        print(f'i : {i}\\n')\n",
    "        print(f'{i} < {n}')\n",
    "        j = 0\n",
    "        print(f'j : {j}')\n",
    "        while (j < n):\n",
    "            print(f'{j} < {n}')\n",
    "            j += 1\n",
    "            # print(f'hello', end = \" \")\n",
    "        print(\"\\n\\n\\n\")\n",
    "        i += 1\n",
    "RRR(5)"
   ]
  },
  {
   "cell_type": "code",
   "execution_count": null,
   "id": "27fe2bc6-9ad1-4390-be85-9140096b7a2b",
   "metadata": {},
   "outputs": [],
   "source": []
  }
 ],
 "metadata": {
  "kernelspec": {
   "display_name": "Python 3 (ipykernel)",
   "language": "python",
   "name": "python3"
  },
  "language_info": {
   "codemirror_mode": {
    "name": "ipython",
    "version": 3
   },
   "file_extension": ".py",
   "mimetype": "text/x-python",
   "name": "python",
   "nbconvert_exporter": "python",
   "pygments_lexer": "ipython3",
   "version": "3.10.8"
  }
 },
 "nbformat": 4,
 "nbformat_minor": 5
}
