{
 "cells": [
  {
   "cell_type": "code",
   "execution_count": 1,
   "id": "40c2c992-25df-404c-998e-50f018c6cc73",
   "metadata": {},
   "outputs": [],
   "source": [
    "#Statistics Basics"
   ]
  },
  {
   "cell_type": "code",
   "execution_count": null,
   "id": "8aa4634f-d516-44e4-b6df-7f802faed7f1",
   "metadata": {},
   "outputs": [],
   "source": []
  },
  {
   "cell_type": "code",
   "execution_count": null,
   "id": "be325ec6-36a8-4ac1-8892-83b7e3ea092c",
   "metadata": {},
   "outputs": [],
   "source": []
  },
  {
   "cell_type": "code",
   "execution_count": null,
   "id": "9e8a3c07-6fb3-4299-b8ff-03a21434ff73",
   "metadata": {},
   "outputs": [],
   "source": []
  },
  {
   "cell_type": "code",
   "execution_count": null,
   "id": "7c32f0c6-d583-405e-ab6d-c57eb1c2b74b",
   "metadata": {},
   "outputs": [],
   "source": []
  },
  {
   "cell_type": "code",
   "execution_count": null,
   "id": "f4705a69-7b9b-4950-8979-a88e9d838462",
   "metadata": {},
   "outputs": [],
   "source": []
  },
  {
   "cell_type": "code",
   "execution_count": null,
   "id": "8c8b274e-5359-435e-9a5e-6f0a2bd5fe4d",
   "metadata": {},
   "outputs": [],
   "source": []
  },
  {
   "cell_type": "code",
   "execution_count": 2,
   "id": "87671bcc-6051-4f3b-aaba-9a1983c3d362",
   "metadata": {},
   "outputs": [],
   "source": [
    "#Types of Data"
   ]
  },
  {
   "cell_type": "raw",
   "id": "7e831845-cf03-41e3-acf4-2cf72fadfd37",
   "metadata": {},
   "source": [
    "1. Quantitative. (Numerical variable) (+, -, /, *   for mathematical operations)\n",
    "2. Qualitative."
   ]
  },
  {
   "cell_type": "code",
   "execution_count": null,
   "id": "bdb2a890-56e3-4b58-aa95-945c49cfda51",
   "metadata": {},
   "outputs": [],
   "source": []
  },
  {
   "cell_type": "raw",
   "id": "92b23789-e0ea-467d-8847-8621a5985067",
   "metadata": {},
   "source": [
    "1. Quantitative\n",
    "    - Its numerical Data.\n",
    "\n",
    "i. Discrete\n",
    "    - \"Its always a whole number\".\n",
    "    - e.g No. of Bank accounts, Members in Family. (We didn't say we have 7.3 members in family. we say we have 8 or 7         members in family.)\n",
    "    \n",
    "ii. Continuous\n",
    "    - \"It can be any value\".\n",
    "    - e.g Weight, height, Temperature, speed, distance etc.\n",
    "    - 70.5 Kg, 175 cm, 56 C, 100 km/hr, 56.3 Km etc.\n",
    "-------------------------------------------------------------------------\n",
    "2. Qualitative\n",
    "    - Its a Categorical data.\n",
    "\n",
    "i. Nominal\n",
    "    - Its a categorical data having Categories but not rank assigned to it like A > B, B < C etc.\n",
    "    - e.g Gender, Blood Group, pincode etc. \n",
    "    - We don't say Female > Male or A+ > O- etc.\n",
    "    \n",
    "ii. Ordinal\n",
    "    - Rank is there in this Category.\n",
    "    - E.g Customer Feedback.\n",
    "    - like Best > Good > not good."
   ]
  },
  {
   "cell_type": "code",
   "execution_count": null,
   "id": "6cb0cc95-55fe-48c1-ba27-0f6491b06379",
   "metadata": {},
   "outputs": [],
   "source": []
  },
  {
   "cell_type": "code",
   "execution_count": 1,
   "id": "41bf9788-2482-421e-941d-4a2cecf71a7e",
   "metadata": {},
   "outputs": [],
   "source": [
    "#Level of Measurement"
   ]
  },
  {
   "cell_type": "raw",
   "id": "daa61379-5769-4bbf-b5c8-2726540cddb7",
   "metadata": {},
   "source": [
    "1. Nomimal\n",
    "------------------------------------------------------------------\n",
    "Below types of data lies in Nomimal data :\n",
    "\n",
    "i. Qualitative/ categorical data.\n",
    "ii. E.g Gender, colors\n",
    "iii. Order does not matter.\n",
    "\n",
    "\n",
    "\n",
    "\n",
    "2. Ordinal Scale Data\n",
    "------------------------------------------------------------------\n",
    "\n",
    "i. Ranking is important.\n",
    "ii. Order is important.\n",
    "iii. Difference can't be measured.\n",
    "\n",
    "e.g  i)\n",
    "We have an app, and it gave the feedback. \n",
    "so in \n",
    "1st -> Best\n",
    "2nd -> Good\n",
    "3rd -> Bad\n",
    "\n",
    "e.g ii)\n",
    "Suppose there is a race. and we got in 1st position.\n",
    "\n",
    "So here, we can't measure the difference between 1st, 2nd and 3rd runner up.  Like if we have their timings, then we can take the difference between them like 1:20sec, 1:40 s & 1:41 s. But if we only know that 1st, 2nd & 3rd then how can we calculate it right so.\n",
    "\n",
    "\n",
    "\n",
    "Note : When ever, you are having some data and there is a ranking/ ordering in it. Boom.... its \"ordinal data\".\n",
    "\n",
    "\n",
    "\n",
    "\n",
    "3) Interval Scale Data:\n",
    "------------------------------------------------------------------\n",
    "\n",
    "i) Order matters.\n",
    "ii) Diference can be measure.\n",
    "iii) Ratio can't be measure.\n",
    "iv) No True \"0\" starting point.\n",
    "\n",
    "\n",
    "e.g ii) Diference can be measure.\n",
    "\n",
    "Temperature variable\n",
    "\n",
    "30* F\n",
    "60* F\n",
    "90* F\n",
    "120* F\n",
    "\n",
    "\n",
    "So the difference can be measure here as there is a difference of 30, 30, 30, 30 respectively.\n",
    "\n",
    "\n",
    "e.g iii) Ratio can't be measure.\n",
    "\n",
    "In the above example, there is a ratio of 2:1 in 60* F & 30* F. But it doesn't mean that we got double the heat what we got in where the ratio is 2.\n",
    "\n",
    "\n",
    "\n",
    "e.g iv) No True \"0\" starting point.\n",
    "\n",
    "In the above e.g, the temperature will not be only above 0* F. It can be -1* F as well. So we are not staying on '0' as static.\n",
    "\n",
    "\n",
    "\n",
    "\n",
    "\n",
    "\n",
    "\n",
    "4) Ratio Scale Of Data.\n",
    "------------------------------------------------------------------\n",
    "\n",
    "i) Order Matters.\n",
    "ii) Differences are measured (including ratio)\n",
    "iii) Contain a \"0\" starting point.\n",
    "\n",
    "\n",
    "\n",
    "e.g  i) Order Matters.\n",
    "\n",
    "Students Marks in a class.\n",
    "90, 60, 50, 40, 34\n",
    "\n",
    "ASCE = 34, 40, 50, 60, 90\n",
    "\n",
    "\n",
    "e.g  ii) Differences are measured (including ratio)\n",
    "\n",
    "We can calculate the difference between the marks.\n",
    "\n",
    "\n",
    "\n",
    "e.g  iii) Contain a \"0\" starting point.\n",
    "We can say that if\n",
    "A = 30 Marks\n",
    "B = 90 Marks\n",
    "\n",
    "Ratio = 1: 3\n",
    "Its stating that the marks of B is 3 times of A.\n",
    "\n",
    "\n",
    "Also the marks starts only from 0. It can't be -ve.\n"
   ]
  },
  {
   "cell_type": "code",
   "execution_count": null,
   "id": "3c336925-aa0f-4879-9a16-2d22fa02f4f0",
   "metadata": {},
   "outputs": [],
   "source": []
  },
  {
   "cell_type": "code",
   "execution_count": null,
   "id": "b4b3f834-6dff-489a-a6c0-14f3ff0d8721",
   "metadata": {},
   "outputs": [],
   "source": [
    "#Measure of Central Tendency."
   ]
  },
  {
   "cell_type": "raw",
   "id": "f6a96354-c43d-4490-a1f2-aff46a2d8f66",
   "metadata": {},
   "source": [
    "Below comes under Measure of Central Tendency.\n",
    "\n",
    "1) Mean\n",
    "2) Median\n",
    "3) Mode\n",
    "===================\n",
    "\n",
    "\n",
    "1) Mean :\n",
    "- - - - - - - - - - - - - - - - - - - - - - - - - - - - - - - \n",
    "* Population (N) *\n",
    " \n",
    " X = {1,1,2,3,3,4,4,4,5,6}\n",
    " \n",
    "\n",
    "       n\n",
    "(μ)=  Σ   Xi    \n",
    "       i=1 ----\n",
    "            N\n",
    "            \n",
    "          {1,1,2,3,3,4,4,4,5,6}\n",
    "    =   --------------------------\n",
    "                   10\n",
    "\n",
    "    =  33 / 10 \n",
    " \n",
    " Mean   =  3.3\n",
    "\n",
    "\n",
    "\n",
    "\n",
    "\n",
    "2) Median :\n",
    "- - - - - - - - - - - - - - - - - - - - - - - - - - - - - - - \n",
    "\n",
    "X = {2,5,4,1,6}\n",
    "\n",
    "i. Sort the X\n",
    "> X = {1,2,4,5,6}\n",
    "\n",
    "\n",
    "ii. No. of elements.\n",
    "> 5\n",
    "\n",
    "iii. If \"No. of elements\" is Odd\n",
    "> No. of elements + 1\n",
    " ----------------------\n",
    "            2\n",
    "\n",
    "iii. If \"No. of elements\" is Even.\n",
    "\n",
    "e.g X = {1,2,3,4,5,6}\n",
    "\n",
    ">              (No. of elements)\n",
    "    Mid1 =     -----------------\n",
    "                      2\n",
    "                      \n",
    "                 Mid + 1\n",
    "    Mid2 =      -----------\n",
    "                    2\n",
    "                    \n",
    "                Value[Mid1] + Value[Mid2]\n",
    "    Median =   -----------------------------\n",
    "                            2\n",
    "                            \n",
    "\n",
    "IMP : \n",
    "\n",
    "# Why to Use Median ?\n",
    "---------------------\n",
    "            \n",
    "Suppose we have a sample data i.e \n",
    "\n",
    ">>\n",
    "\n",
    "Sample Mean = {1,2,3,4,5}\n",
    "\n",
    "then what will be the sample mean ?\n",
    "\n",
    "                 1 + 2 + 3 + 4 + 5         15\n",
    "  Sample Mean = --------------------- =  ------  = 3\n",
    "                        5                  5\n",
    "                        \n",
    "\n",
    "But what if we have\n",
    "Sample Mean = {1,2,3,4,5,100} ?\n",
    "\n",
    "\n",
    "                 1 + 2 + 3 + 4 + 5 + 100         115\n",
    "  Sample Mean = ---------------------        =  ------  = 19.**\n",
    "                        6                         6\n",
    "                        \n",
    "\n",
    "So here, this much difference is there i.e 3 to 19. That because '100' we have added. So here, we can say this value i.e '100' as an \"OUTLIER\".\n",
    "\n",
    "\n",
    "That's why when we take the \"Median\", \n",
    "\n",
    "            3 + 4        7\n",
    "Median =   -------   = ------ = 3.5\n",
    "             2           2\n",
    "             \n",
    "\n",
    "\n",
    "Note : You can see the difference that how it affected after eliminating the outlier. That's why Median is important.\n",
    "\n",
    "\n",
    "\n",
    "3) Mode : Frequency Maximum\n",
    "- - - - - - - - - - - - - - - - - - - - - - - - - - - - - - - \n",
    "\n",
    "Its the maximum occuring element.\n",
    "\n",
    "e.g x = {1,2,3,4,2,3,4,5,6,2,3,3,4}\n",
    "\n",
    "1 = 1\n",
    "2 = 3\n",
    "3 = 4\n",
    "4 = 3\n",
    "5 = 1\n",
    "6 = 1\n",
    "\n",
    "So the maximum occuring element is '3' which comes 4 times. \n",
    "so Mode = 3.\n",
    "\n",
    "\n",
    "\n",
    "# where we need to use Mode ?\n",
    "> \n",
    "\n",
    "Supoose we have 3 columns.\n",
    "\n",
    "Age  Gender  salary\n",
    "12    M       12000\n",
    "34    -       12000\n",
    "54    F       12000\n",
    "14    M       12000\n",
    "17    -       12000\n",
    "24    M       12000\n",
    "78    M       12000\n",
    "\n",
    "\n",
    "\n",
    "so here, there are missing values in Gender column. so by using MOde we can replace it.\n",
    "like \n",
    "M = 3\n",
    "F = 1\n",
    "\n",
    "So we can replace those spaces with 'M'. This is just for example."
   ]
  },
  {
   "cell_type": "code",
   "execution_count": null,
   "id": "4ed5f932-8990-4bf3-bc58-3a665dd1a0cd",
   "metadata": {},
   "outputs": [],
   "source": []
  },
  {
   "cell_type": "code",
   "execution_count": 1,
   "id": "f1a6c600-d5bb-4447-b19c-eaa0d8e843cd",
   "metadata": {},
   "outputs": [],
   "source": [
    "#Measure of Central Tendency using Python"
   ]
  },
  {
   "cell_type": "code",
   "execution_count": 9,
   "id": "c70905f8-5ad7-4319-b644-1e63d2d196f5",
   "metadata": {},
   "outputs": [
    {
     "data": {
      "text/plain": [
       "42.27272727272727"
      ]
     },
     "execution_count": 9,
     "metadata": {},
     "output_type": "execute_result"
    }
   ],
   "source": [
    "#1. Mean\n",
    "\n",
    "age = [12,21,24,45,65,43,56,64,45,67,23]\n",
    "\n",
    "import numpy as np\n",
    "\n",
    "#to calculate Mean\n",
    "np.mean(age)"
   ]
  },
  {
   "cell_type": "code",
   "execution_count": null,
   "id": "00bde3f4-713f-42a0-b29c-e875f5e24036",
   "metadata": {},
   "outputs": [],
   "source": []
  },
  {
   "cell_type": "code",
   "execution_count": 10,
   "id": "069a4dc4-dc05-4909-821d-6ad8b0ce29c0",
   "metadata": {},
   "outputs": [
    {
     "data": {
      "text/plain": [
       "71.83333333333333"
      ]
     },
     "execution_count": 10,
     "metadata": {},
     "output_type": "execute_result"
    }
   ],
   "source": [
    "weights = [56,76,77,57,97,68]\n",
    "\n",
    "np.mean(weights)"
   ]
  },
  {
   "cell_type": "code",
   "execution_count": null,
   "id": "d6222a14-30e4-4118-ac44-f69b85db2369",
   "metadata": {},
   "outputs": [],
   "source": []
  },
  {
   "cell_type": "code",
   "execution_count": null,
   "id": "b74e6059-af95-402d-b66a-9cbd507078d8",
   "metadata": {},
   "outputs": [],
   "source": [
    "#calculating mean from data set."
   ]
  },
  {
   "cell_type": "code",
   "execution_count": 11,
   "id": "ce2f0013-af38-44cb-ae4f-f547d1a022af",
   "metadata": {},
   "outputs": [
    {
     "data": {
      "text/html": [
       "<div>\n",
       "<style scoped>\n",
       "    .dataframe tbody tr th:only-of-type {\n",
       "        vertical-align: middle;\n",
       "    }\n",
       "\n",
       "    .dataframe tbody tr th {\n",
       "        vertical-align: top;\n",
       "    }\n",
       "\n",
       "    .dataframe thead th {\n",
       "        text-align: right;\n",
       "    }\n",
       "</style>\n",
       "<table border=\"1\" class=\"dataframe\">\n",
       "  <thead>\n",
       "    <tr style=\"text-align: right;\">\n",
       "      <th></th>\n",
       "      <th>total_bill</th>\n",
       "      <th>tip</th>\n",
       "      <th>sex</th>\n",
       "      <th>smoker</th>\n",
       "      <th>day</th>\n",
       "      <th>time</th>\n",
       "      <th>size</th>\n",
       "    </tr>\n",
       "  </thead>\n",
       "  <tbody>\n",
       "    <tr>\n",
       "      <th>0</th>\n",
       "      <td>16.99</td>\n",
       "      <td>1.01</td>\n",
       "      <td>Female</td>\n",
       "      <td>No</td>\n",
       "      <td>Sun</td>\n",
       "      <td>Dinner</td>\n",
       "      <td>2</td>\n",
       "    </tr>\n",
       "    <tr>\n",
       "      <th>1</th>\n",
       "      <td>10.34</td>\n",
       "      <td>1.66</td>\n",
       "      <td>Male</td>\n",
       "      <td>No</td>\n",
       "      <td>Sun</td>\n",
       "      <td>Dinner</td>\n",
       "      <td>3</td>\n",
       "    </tr>\n",
       "    <tr>\n",
       "      <th>2</th>\n",
       "      <td>21.01</td>\n",
       "      <td>3.50</td>\n",
       "      <td>Male</td>\n",
       "      <td>No</td>\n",
       "      <td>Sun</td>\n",
       "      <td>Dinner</td>\n",
       "      <td>3</td>\n",
       "    </tr>\n",
       "    <tr>\n",
       "      <th>3</th>\n",
       "      <td>23.68</td>\n",
       "      <td>3.31</td>\n",
       "      <td>Male</td>\n",
       "      <td>No</td>\n",
       "      <td>Sun</td>\n",
       "      <td>Dinner</td>\n",
       "      <td>2</td>\n",
       "    </tr>\n",
       "    <tr>\n",
       "      <th>4</th>\n",
       "      <td>24.59</td>\n",
       "      <td>3.61</td>\n",
       "      <td>Female</td>\n",
       "      <td>No</td>\n",
       "      <td>Sun</td>\n",
       "      <td>Dinner</td>\n",
       "      <td>4</td>\n",
       "    </tr>\n",
       "  </tbody>\n",
       "</table>\n",
       "</div>"
      ],
      "text/plain": [
       "   total_bill   tip     sex smoker  day    time  size\n",
       "0       16.99  1.01  Female     No  Sun  Dinner     2\n",
       "1       10.34  1.66    Male     No  Sun  Dinner     3\n",
       "2       21.01  3.50    Male     No  Sun  Dinner     3\n",
       "3       23.68  3.31    Male     No  Sun  Dinner     2\n",
       "4       24.59  3.61  Female     No  Sun  Dinner     4"
      ]
     },
     "execution_count": 11,
     "metadata": {},
     "output_type": "execute_result"
    }
   ],
   "source": [
    "import seaborn as sns\n",
    "\n",
    "df = sns.load_dataset('tips')  #this is inbuild data set in Seaborn.\n",
    "df.head()"
   ]
  },
  {
   "cell_type": "code",
   "execution_count": 12,
   "id": "65eca1b2-0988-455f-bb23-7e0cae299542",
   "metadata": {},
   "outputs": [
    {
     "data": {
      "text/plain": [
       "19.78594262295082"
      ]
     },
     "execution_count": 12,
     "metadata": {},
     "output_type": "execute_result"
    }
   ],
   "source": [
    "np.mean(df['total_bill'])"
   ]
  },
  {
   "cell_type": "code",
   "execution_count": null,
   "id": "dcea49d1-2c6f-4db7-9af9-c46441a078ae",
   "metadata": {},
   "outputs": [],
   "source": []
  },
  {
   "cell_type": "code",
   "execution_count": null,
   "id": "ee3cc2e5-bf04-4b11-93e9-01f81275a63a",
   "metadata": {},
   "outputs": [],
   "source": []
  },
  {
   "cell_type": "code",
   "execution_count": 13,
   "id": "96affcf6-d050-4236-abc7-be6d1eaa06a1",
   "metadata": {},
   "outputs": [],
   "source": [
    "#Median\n",
    "#--------"
   ]
  },
  {
   "cell_type": "code",
   "execution_count": 14,
   "id": "1be9d150-5c1f-4524-b5a4-2462f1d9f00e",
   "metadata": {},
   "outputs": [
    {
     "data": {
      "text/plain": [
       "45.0"
      ]
     },
     "execution_count": 14,
     "metadata": {},
     "output_type": "execute_result"
    }
   ],
   "source": [
    "np.median(age)"
   ]
  },
  {
   "cell_type": "code",
   "execution_count": null,
   "id": "e4a1fd9b-95d8-43c2-a720-866b30c9b165",
   "metadata": {},
   "outputs": [],
   "source": []
  },
  {
   "cell_type": "code",
   "execution_count": null,
   "id": "d638fed7-67b5-4f0f-8558-cc4ea3085ffc",
   "metadata": {},
   "outputs": [],
   "source": [
    "#outlier in Mean 1"
   ]
  },
  {
   "cell_type": "code",
   "execution_count": 15,
   "id": "eaf6eda3-f1ce-436d-9a45-b9d66057148e",
   "metadata": {},
   "outputs": [],
   "source": [
    "age = [12,21,24,45,65,43,56,64,45,67,23, 144] #144 is an outlier."
   ]
  },
  {
   "cell_type": "code",
   "execution_count": 16,
   "id": "d05a0b2f-7e18-49e4-9a1c-416b0505188f",
   "metadata": {},
   "outputs": [
    {
     "data": {
      "text/plain": [
       "50.75"
      ]
     },
     "execution_count": 16,
     "metadata": {},
     "output_type": "execute_result"
    }
   ],
   "source": [
    "np.mean(age) #major change 1"
   ]
  },
  {
   "cell_type": "code",
   "execution_count": 17,
   "id": "75ea3af4-f362-45dc-943c-7ba9d514602a",
   "metadata": {},
   "outputs": [],
   "source": [
    "#outlier in Mean 2"
   ]
  },
  {
   "cell_type": "code",
   "execution_count": 18,
   "id": "45dbaa62-e30a-4e52-8d4f-7ae4b1799bae",
   "metadata": {},
   "outputs": [],
   "source": [
    "age = [12,21,24,45,65,43,56,64,45,67,23, 200] #200 is an outlier."
   ]
  },
  {
   "cell_type": "code",
   "execution_count": 19,
   "id": "d9b13233-aa0a-4433-a547-04de1c10636f",
   "metadata": {},
   "outputs": [
    {
     "data": {
      "text/plain": [
       "55.416666666666664"
      ]
     },
     "execution_count": 19,
     "metadata": {},
     "output_type": "execute_result"
    }
   ],
   "source": [
    "np.mean(age)  #major change 2"
   ]
  },
  {
   "cell_type": "code",
   "execution_count": 21,
   "id": "056b0f99-de5c-4fda-8dc1-2ac4eb308c28",
   "metadata": {},
   "outputs": [
    {
     "data": {
      "text/plain": [
       "45.0"
      ]
     },
     "execution_count": 21,
     "metadata": {},
     "output_type": "execute_result"
    }
   ],
   "source": [
    "np.median(age) #thats why we use Median."
   ]
  },
  {
   "cell_type": "code",
   "execution_count": null,
   "id": "90053de2-1c45-4403-bc52-ef058a8f4d18",
   "metadata": {},
   "outputs": [],
   "source": []
  },
  {
   "cell_type": "code",
   "execution_count": null,
   "id": "a448eabf-5063-453f-b594-260dcdbd6c35",
   "metadata": {},
   "outputs": [],
   "source": []
  },
  {
   "cell_type": "code",
   "execution_count": 22,
   "id": "df5304a3-548f-43df-995f-9bf47f6339db",
   "metadata": {},
   "outputs": [],
   "source": [
    "#Mode"
   ]
  },
  {
   "cell_type": "code",
   "execution_count": 25,
   "id": "65b55c83-182d-4828-bac6-927825775e57",
   "metadata": {},
   "outputs": [],
   "source": [
    "from scipy import stats"
   ]
  },
  {
   "cell_type": "code",
   "execution_count": 26,
   "id": "7467b230-45e1-4ad3-b957-2d81e2d8f4da",
   "metadata": {},
   "outputs": [],
   "source": [
    "age = [12,21,24,45,65,43,56,64,45,67,23]"
   ]
  },
  {
   "cell_type": "code",
   "execution_count": 28,
   "id": "cb297523-582b-48c9-9d90-8b1a83a70f86",
   "metadata": {},
   "outputs": [
    {
     "name": "stderr",
     "output_type": "stream",
     "text": [
      "/tmp/ipykernel_154/2909034312.py:1: FutureWarning: Unlike other reduction functions (e.g. `skew`, `kurtosis`), the default behavior of `mode` typically preserves the axis it acts along. In SciPy 1.11.0, this behavior will change: the default value of `keepdims` will become False, the `axis` over which the statistic is taken will be eliminated, and the value None will no longer be accepted. Set `keepdims` to True or False to avoid this warning.\n",
      "  stats.mode(age)  #as 45 occurs maximum time so\n"
     ]
    },
    {
     "data": {
      "text/plain": [
       "ModeResult(mode=array([45]), count=array([2]))"
      ]
     },
     "execution_count": 28,
     "metadata": {},
     "output_type": "execute_result"
    }
   ],
   "source": [
    "stats.mode(age)  #as 45 occurs maximum time so "
   ]
  },
  {
   "cell_type": "code",
   "execution_count": null,
   "id": "0c179a77-0415-4db3-9253-e4762f9201fd",
   "metadata": {},
   "outputs": [],
   "source": []
  },
  {
   "cell_type": "code",
   "execution_count": null,
   "id": "ad4d08b5-98ae-414f-9267-a9f380599f52",
   "metadata": {},
   "outputs": [],
   "source": []
  },
  {
   "cell_type": "code",
   "execution_count": null,
   "id": "6afc8e31-6e4b-4efd-b726-a08f7f2feedd",
   "metadata": {},
   "outputs": [],
   "source": []
  }
 ],
 "metadata": {
  "kernelspec": {
   "display_name": "Python 3 (ipykernel)",
   "language": "python",
   "name": "python3"
  },
  "language_info": {
   "codemirror_mode": {
    "name": "ipython",
    "version": 3
   },
   "file_extension": ".py",
   "mimetype": "text/x-python",
   "name": "python",
   "nbconvert_exporter": "python",
   "pygments_lexer": "ipython3",
   "version": "3.10.8"
  }
 },
 "nbformat": 4,
 "nbformat_minor": 5
}
