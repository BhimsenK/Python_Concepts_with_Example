{
 "cells": [
  {
   "cell_type": "code",
   "execution_count": 1,
   "id": "edf5a83e-a014-4daf-94d8-ab92c3749855",
   "metadata": {},
   "outputs": [],
   "source": [
    "#set"
   ]
  },
  {
   "cell_type": "raw",
   "id": "0b3963a6-9a2a-4297-8809-5b78f81cd2ce",
   "metadata": {},
   "source": [
    "Def \" Organized sets of elements.\""
   ]
  },
  {
   "cell_type": "code",
   "execution_count": null,
   "id": "cf3e5eb9-9491-4f9a-ae1a-50e95f5ddd45",
   "metadata": {},
   "outputs": [],
   "source": []
  },
  {
   "cell_type": "raw",
   "id": "15adfc2b-6aed-4557-b872-3727b76015ff",
   "metadata": {},
   "source": [
    "1. Intersection "
   ]
  },
  {
   "cell_type": "raw",
   "id": "a9f95d8e-b513-4c06-af93-374c2496ac62",
   "metadata": {},
   "source": [
    "A = {1,2,3,4,5,6,7,8}\n",
    "B = {5,6,7,8}\n",
    "\n",
    "A ∩ B = {5,6,7,8}  #common in both"
   ]
  },
  {
   "cell_type": "code",
   "execution_count": null,
   "id": "994c09de-4770-4328-9586-9d9a513685d7",
   "metadata": {},
   "outputs": [],
   "source": []
  },
  {
   "cell_type": "code",
   "execution_count": null,
   "id": "6e1b25a7-623a-4137-9f96-3441dd4b5072",
   "metadata": {},
   "outputs": [],
   "source": []
  },
  {
   "cell_type": "raw",
   "id": "b6eecb07-f28f-4dec-9e10-71c1dbc04f44",
   "metadata": {},
   "source": [
    "2. Union"
   ]
  },
  {
   "cell_type": "raw",
   "id": "52cf0ca3-6923-417d-a207-91e2d45a1fff",
   "metadata": {},
   "source": [
    "A = {1,2,3,4,5,6,7,8}\n",
    "B = {5,6,7,8,9,10}\n",
    "\n",
    "A ∪ B = {1,2,3,4,5,6,7,8,9,10}  #combine all the elements from A & B."
   ]
  },
  {
   "cell_type": "code",
   "execution_count": null,
   "id": "7191e603-caa4-4866-aca0-7521c0b81c13",
   "metadata": {},
   "outputs": [],
   "source": []
  },
  {
   "cell_type": "raw",
   "id": "fbee5575-3df4-44cd-bb2f-88fe14e6bf28",
   "metadata": {},
   "source": [
    "3. Difference"
   ]
  },
  {
   "cell_type": "raw",
   "id": "a7b83872-ba94-4e69-bc89-7a774ea858b0",
   "metadata": {},
   "source": [
    "A = {1,2,3,4,5,6,7,8}\n",
    "B = {5,6,7,8,9,10}\n",
    "\n",
    "A - B = {1,2,3,4}  #Eleminating the elements of B from A and showing remaining elements from A.\n",
    "B - A = {9,10}     #Eleminating the elements of A from B and showing remaining elements from B."
   ]
  },
  {
   "cell_type": "code",
   "execution_count": null,
   "id": "e5363136-d92d-4bc2-819b-0690d1ed6c58",
   "metadata": {},
   "outputs": [],
   "source": []
  },
  {
   "cell_type": "code",
   "execution_count": null,
   "id": "7270b55f-144c-4172-aa4d-99d66abbc818",
   "metadata": {},
   "outputs": [],
   "source": []
  },
  {
   "cell_type": "raw",
   "id": "2d51fca4-8b0b-4e14-89fc-0aae7f4fa778",
   "metadata": {},
   "source": [
    "4. Subset"
   ]
  },
  {
   "cell_type": "raw",
   "id": "db0c5f1e-621a-471f-8f61-59242bd58b91",
   "metadata": {},
   "source": [
    "A = {1,2,3,4,5,6,7,8}\n",
    "B = {5,6,7,8}\n",
    "\n",
    "\n",
    "A ⊆ B ? Is A subset of B ? (Did all elements of A present in B ) ---> False.\n",
    "B ⊆ A ? Is B subset of A ? (Did all elements of B present in A ) ---> True ."
   ]
  },
  {
   "cell_type": "code",
   "execution_count": null,
   "id": "a9a7d5e7-4a92-46e1-a13d-e70d3c774f36",
   "metadata": {},
   "outputs": [],
   "source": []
  },
  {
   "cell_type": "code",
   "execution_count": null,
   "id": "a835ecdf-24ae-477a-be19-92a1fc0c19e1",
   "metadata": {},
   "outputs": [],
   "source": []
  },
  {
   "cell_type": "raw",
   "id": "c84a2185-2de6-4de4-8eaf-e2b904acdc82",
   "metadata": {},
   "source": [
    "5. Superset"
   ]
  },
  {
   "cell_type": "raw",
   "id": "91379f46-fd50-44bb-a3b3-ad347549b568",
   "metadata": {},
   "source": [
    "A = {1,2,3,4,5,6,7,8}\n",
    "B = {5,6,7,8}\n",
    "\n",
    "\n",
    "A ⊇ B ? Is A a superset of B ? (did all elements of B available in A ) ---> True\n",
    "B ⊇ A ? Is B a superset of A ? (did all elements of A available in B ) ---> False"
   ]
  },
  {
   "cell_type": "code",
   "execution_count": null,
   "id": "5ae1ebb6-6121-4723-bf17-dabb88d37bc3",
   "metadata": {},
   "outputs": [],
   "source": []
  },
  {
   "cell_type": "code",
   "execution_count": null,
   "id": "2b0976fb-97f0-45e2-9e9c-4afd5084e3e8",
   "metadata": {},
   "outputs": [],
   "source": []
  }
 ],
 "metadata": {
  "kernelspec": {
   "display_name": "Python 3 (ipykernel)",
   "language": "python",
   "name": "python3"
  },
  "language_info": {
   "codemirror_mode": {
    "name": "ipython",
    "version": 3
   },
   "file_extension": ".py",
   "mimetype": "text/x-python",
   "name": "python",
   "nbconvert_exporter": "python",
   "pygments_lexer": "ipython3",
   "version": "3.10.8"
  }
 },
 "nbformat": 4,
 "nbformat_minor": 5
}
