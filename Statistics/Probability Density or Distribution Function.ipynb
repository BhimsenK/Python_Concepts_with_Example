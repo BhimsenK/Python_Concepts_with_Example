{
 "cells": [
  {
   "cell_type": "code",
   "execution_count": 1,
   "id": "bde76580-84e2-4b6f-a0f3-6fe1fd352265",
   "metadata": {},
   "outputs": [],
   "source": [
    "#Probability Density/Distribution Function : "
   ]
  },
  {
   "cell_type": "code",
   "execution_count": null,
   "id": "07d371f2-6615-4477-8c1c-231d8252e920",
   "metadata": {},
   "outputs": [],
   "source": []
  },
  {
   "cell_type": "raw",
   "id": "f9548c97-125f-4ee7-8264-b2af2cb82f99",
   "metadata": {},
   "source": [
    "i. Probability Density Function (pdf)\n",
    "--------------------------------------\n",
    "> Continuous Random Variable\n",
    "\n",
    "\n",
    "ii. Probability Mass Function (pmf)\n",
    "--------------------------------------\n",
    "> Variable -> Discrete Random Variable\n",
    "\n",
    "\n",
    "iii) Cumulative Distribution Function (cdf)"
   ]
  }
 ],
 "metadata": {
  "kernelspec": {
   "display_name": "Python 3 (ipykernel)",
   "language": "python",
   "name": "python3"
  },
  "language_info": {
   "codemirror_mode": {
    "name": "ipython",
    "version": 3
   },
   "file_extension": ".py",
   "mimetype": "text/x-python",
   "name": "python",
   "nbconvert_exporter": "python",
   "pygments_lexer": "ipython3",
   "version": "3.10.8"
  }
 },
 "nbformat": 4,
 "nbformat_minor": 5
}
