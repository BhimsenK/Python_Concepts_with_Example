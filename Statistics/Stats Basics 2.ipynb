{
 "cells": [
  {
   "cell_type": "code",
   "execution_count": 1,
   "id": "5af9a19a-4369-4d33-b635-2c0acc89b965",
   "metadata": {},
   "outputs": [],
   "source": [
    "#Measure Of Dispersion."
   ]
  },
  {
   "cell_type": "raw",
   "id": "b4f0f50b-ed3f-4022-bc76-53d23de43be5",
   "metadata": {},
   "source": [
    "Its nothing but spread of the data.  \n",
    "So to measure this data what we need to use will be seeing those things here."
   ]
  },
  {
   "cell_type": "raw",
   "id": "d30e83a1-c7af-4652-9e7a-c913293c46f2",
   "metadata": {},
   "source": [
    "1. Variance\n",
    "2. Standard Deviation"
   ]
  },
  {
   "cell_type": "code",
   "execution_count": null,
   "id": "f50cae5b-ae09-4e83-b419-181688037935",
   "metadata": {},
   "outputs": [],
   "source": []
  },
  {
   "cell_type": "raw",
   "id": "85ab359b-1f46-4e5e-981b-3b5b4a19a94f",
   "metadata": {},
   "source": [
    "1. Variance\n",
    "---------------------------------------------\n",
    "\n",
    "i. Population Variance\n",
    "ii.Sample Variance\n",
    "\n",
    "\n",
    "\n",
    "\n",
    "i. Population Variance.\n",
    "\n",
    "\n",
    "\n",
    "\n",
    "       n     ((Data points)i - population mean)²\n",
    "   =  Σ     ------------------------------\n",
    "       i=1          Population Size\n",
    "\n",
    "   \n",
    "\n",
    "         \n",
    "         \n",
    "         \n",
    "         \n",
    "         \n",
    "ii. Sample Variance.\n",
    "\n",
    "       n     ((Data points)i - sample mean)²\n",
    "   =  Σ     ------------------------------\n",
    "       i=1      Population Size - 1\n",
    "\n",
    "IMP\n",
    "------\n",
    "Q. Why we need to divide by \"Population Size - 1\" and why not only \"Population Size\" ?\n",
    "> To create an unbiased estimator of the population variance. We call this scinario as \"Bessele's Correction\""
   ]
  },
  {
   "cell_type": "code",
   "execution_count": null,
   "id": "ecee09df-1b44-4d2e-a41b-29ade9f57058",
   "metadata": {},
   "outputs": [],
   "source": [
    "\n"
   ]
  },
  {
   "cell_type": "code",
   "execution_count": null,
   "id": "7e4c27b2-97ec-4961-a77c-c875255ab852",
   "metadata": {},
   "outputs": [],
   "source": [
    "#Sample Variance"
   ]
  },
  {
   "cell_type": "code",
   "execution_count": 2,
   "id": "29310a1c-bc77-4ac7-9c2d-6651b61a8c68",
   "metadata": {},
   "outputs": [
    {
     "data": {
      "text/plain": [
       "'                 \\n       n     ((Data points)i - sample mean)²\\n   =  Σ     ------------------------------\\n       i=1         Population Size - 1\\n\\n\\n(Data points)    sample mean          ((Data points)i - sample mean)²\\n    1               3                      ( 1 - 3 )² = (2)² = 4\\n    2               3                      ( 2 -3 )²  = (1)² = 1 \\n    3               3                      ( 3 - 3 )² = (0)² = 0\\n    4               3                      ( 4 - 3 )² = (-1)²= 1\\n    5               3                      ( 5 - 3)²  = (-2)²= 4\\n                                                             ------\\n                                                               10\\n\\n   10      10\\n=  --- =  ---- = 2.5\\n   5-1     4\\n'"
      ]
     },
     "execution_count": 2,
     "metadata": {},
     "output_type": "execute_result"
    }
   ],
   "source": [
    "x = {1,2,3,4,5}\n",
    "\n",
    "'''                 \n",
    "       n     ((Data points)i - sample mean)²\n",
    "   =  Σ     ------------------------------\n",
    "       i=1         Population Size - 1\n",
    "\n",
    "\n",
    "(Data points)    sample mean          ((Data points)i - sample mean)²\n",
    "    1               3                      ( 1 - 3 )² = (2)² = 4\n",
    "    2               3                      ( 2 -3 )²  = (1)² = 1 \n",
    "    3               3                      ( 3 - 3 )² = (0)² = 0\n",
    "    4               3                      ( 4 - 3 )² = (-1)²= 1\n",
    "    5               3                      ( 5 - 3)²  = (-2)²= 4\n",
    "                                                             ------\n",
    "                                                               10\n",
    "\n",
    "   10      10\n",
    "=  --- =  ---- = 2.5\n",
    "   5-1     4\n",
    "'''\n",
    "\n",
    "\n",
    "\n"
   ]
  },
  {
   "cell_type": "code",
   "execution_count": null,
   "id": "dc12d9aa-e625-4a79-aafc-26ef859d2b71",
   "metadata": {},
   "outputs": [],
   "source": []
  },
  {
   "cell_type": "code",
   "execution_count": null,
   "id": "04cd0a72-c0cf-45f9-9059-da7e0742abe7",
   "metadata": {},
   "outputs": [],
   "source": []
  },
  {
   "cell_type": "raw",
   "id": "69d16056-e71a-4b03-95f1-f4eabc8cd828",
   "metadata": {},
   "source": [
    "#2. Standard Deviation\n",
    "-----------------------------\n",
    "\n",
    "i. Population Standard Deviation. ( σ = √ variance )\n",
    "ii.Sample Standard Deviation  ( √ (sample variance) ² )\n",
    "\n",
    "\n",
    "\n"
   ]
  },
  {
   "cell_type": "code",
   "execution_count": null,
   "id": "301db0a6-68f0-4cf7-9bd7-537f3446a883",
   "metadata": {},
   "outputs": [],
   "source": []
  },
  {
   "cell_type": "raw",
   "id": "d16ae97b-783d-4848-b2f2-482f9364346f",
   "metadata": {},
   "source": [
    "#-------- With CODE ----------------"
   ]
  },
  {
   "cell_type": "code",
   "execution_count": 2,
   "id": "a2be9e4f-ffce-49ca-872c-433c1e05ccdc",
   "metadata": {},
   "outputs": [],
   "source": [
    "AGES_LST = [23,43,45,67,88,55,21,69,24,19]"
   ]
  },
  {
   "cell_type": "code",
   "execution_count": 3,
   "id": "1ae4c798-334a-4448-8f2e-4bcbcdc7cc96",
   "metadata": {},
   "outputs": [],
   "source": [
    "import numpy as np"
   ]
  },
  {
   "cell_type": "code",
   "execution_count": null,
   "id": "2281c4e5-fbb3-426a-bba0-98bdea5450f1",
   "metadata": {},
   "outputs": [],
   "source": []
  },
  {
   "cell_type": "code",
   "execution_count": 4,
   "id": "c47bf324-fa45-4a6d-a3d5-5e8dba810067",
   "metadata": {},
   "outputs": [],
   "source": [
    "#mean"
   ]
  },
  {
   "cell_type": "code",
   "execution_count": 5,
   "id": "3d198177-65e8-4e0c-a454-c91172377991",
   "metadata": {},
   "outputs": [
    {
     "data": {
      "text/plain": [
       "45.4"
      ]
     },
     "execution_count": 5,
     "metadata": {},
     "output_type": "execute_result"
    }
   ],
   "source": [
    "np.mean(AGES_LST)"
   ]
  },
  {
   "cell_type": "code",
   "execution_count": null,
   "id": "f8eaf1c0-68ae-4bf5-bcd3-655815b08746",
   "metadata": {},
   "outputs": [],
   "source": []
  },
  {
   "cell_type": "code",
   "execution_count": 6,
   "id": "d35970b7-0c7e-49c1-a249-ccfa128fd120",
   "metadata": {},
   "outputs": [],
   "source": [
    "#median"
   ]
  },
  {
   "cell_type": "code",
   "execution_count": 7,
   "id": "7680c9b3-25ed-4e2b-8470-96c6fce77b08",
   "metadata": {},
   "outputs": [
    {
     "data": {
      "text/plain": [
       "44.0"
      ]
     },
     "execution_count": 7,
     "metadata": {},
     "output_type": "execute_result"
    }
   ],
   "source": [
    "np.median(AGES_LST)"
   ]
  },
  {
   "cell_type": "code",
   "execution_count": null,
   "id": "b8049a8b-586e-41cb-ac87-7d02b78910bd",
   "metadata": {},
   "outputs": [],
   "source": []
  },
  {
   "cell_type": "code",
   "execution_count": 8,
   "id": "5f3995e7-89a1-497b-b270-e605db6e3984",
   "metadata": {},
   "outputs": [],
   "source": [
    "#variacne"
   ]
  },
  {
   "cell_type": "code",
   "execution_count": 9,
   "id": "1454aa07-24b6-4912-9f24-ac7d90d278cc",
   "metadata": {},
   "outputs": [
    {
     "data": {
      "text/plain": [
       "518.84"
      ]
     },
     "execution_count": 9,
     "metadata": {},
     "output_type": "execute_result"
    }
   ],
   "source": [
    "np.var(AGES_LST)"
   ]
  },
  {
   "cell_type": "code",
   "execution_count": null,
   "id": "7764f95c-cc27-4a81-aa62-d10e9311b744",
   "metadata": {},
   "outputs": [],
   "source": []
  },
  {
   "cell_type": "code",
   "execution_count": 10,
   "id": "f3496d92-167f-4b9b-8846-bb606d0937aa",
   "metadata": {},
   "outputs": [],
   "source": [
    "#standard daviation"
   ]
  },
  {
   "cell_type": "code",
   "execution_count": 11,
   "id": "e7a25924-5679-4140-8726-6120dc49b85f",
   "metadata": {},
   "outputs": [
    {
     "data": {
      "text/plain": [
       "22.778059618852524"
      ]
     },
     "execution_count": 11,
     "metadata": {},
     "output_type": "execute_result"
    }
   ],
   "source": [
    "np.std(AGES_LST)"
   ]
  },
  {
   "cell_type": "code",
   "execution_count": null,
   "id": "0c6029d5-735d-4b19-8375-8dece115ddbc",
   "metadata": {},
   "outputs": [],
   "source": []
  },
  {
   "cell_type": "code",
   "execution_count": null,
   "id": "50ffaad6-2115-46a7-afe0-14fbc0713bb8",
   "metadata": {},
   "outputs": [],
   "source": []
  },
  {
   "cell_type": "code",
   "execution_count": null,
   "id": "a42a44d0-b259-4638-9d6e-30676f72dbe2",
   "metadata": {},
   "outputs": [],
   "source": [
    "#using histogram"
   ]
  },
  {
   "cell_type": "code",
   "execution_count": 12,
   "id": "d7ff6071-0e9e-4712-977d-b02ee61ec6d9",
   "metadata": {},
   "outputs": [],
   "source": [
    "import seaborn as sns"
   ]
  },
  {
   "cell_type": "code",
   "execution_count": 13,
   "id": "6a228fac-08f8-4563-b6ae-e61eb2699964",
   "metadata": {},
   "outputs": [
    {
     "data": {
      "text/plain": [
       "<AxesSubplot: ylabel='Count'>"
      ]
     },
     "execution_count": 13,
     "metadata": {},
     "output_type": "execute_result"
    },
    {
     "data": {
      "image/png": "[encoded data removed]",
      "text/plain": [
       "<Figure size 640x480 with 1 Axes>"
      ]
     },
     "metadata": {},
     "output_type": "display_data"
    }
   ],
   "source": [
    "sns.histplot(AGES_LST, kde=True)"
   ]
  },
  {
   "cell_type": "code",
   "execution_count": null,
   "id": "62e5a1c3-698e-49d3-b5c3-bb8d5f18f1db",
   "metadata": {},
   "outputs": [],
   "source": []
  },
  {
   "cell_type": "code",
   "execution_count": null,
   "id": "1aed2025-da5d-4c14-8116-6a855b6eac94",
   "metadata": {},
   "outputs": [],
   "source": []
  },
  {
   "cell_type": "code",
   "execution_count": null,
   "id": "498ca023-7dfb-4d2a-8b77-66757fb9b824",
   "metadata": {},
   "outputs": [],
   "source": [
    "#using data frames"
   ]
  },
  {
   "cell_type": "code",
   "execution_count": 15,
   "id": "cf2f272f-5323-4ffc-878a-86aed2d73404",
   "metadata": {},
   "outputs": [],
   "source": [
    "import pandas as pd"
   ]
  },
  {
   "cell_type": "code",
   "execution_count": 16,
   "id": "970dc4ba-b792-4f47-ba49-0fb04cbe91c1",
   "metadata": {},
   "outputs": [
    {
     "data": {
      "text/plain": [
       "[[10, 12, 13], [34, 23, 45], [32, 34, 21]]"
      ]
     },
     "execution_count": 16,
     "metadata": {},
     "output_type": "execute_result"
    }
   ],
   "source": [
    "data = [[10,12,13],[34,23,45],[32,34,21]]\n",
    "data"
   ]
  },
  {
   "cell_type": "code",
   "execution_count": 18,
   "id": "25711bb2-5913-4d2e-973e-f1ef8ec87639",
   "metadata": {},
   "outputs": [
    {
     "data": {
      "text/html": [
       "<div>\n",
       "<style scoped>\n",
       "    .dataframe tbody tr th:only-of-type {\n",
       "        vertical-align: middle;\n",
       "    }\n",
       "\n",
       "    .dataframe tbody tr th {\n",
       "        vertical-align: top;\n",
       "    }\n",
       "\n",
       "    .dataframe thead th {\n",
       "        text-align: right;\n",
       "    }\n",
       "</style>\n",
       "<table border=\"1\" class=\"dataframe\">\n",
       "  <thead>\n",
       "    <tr style=\"text-align: right;\">\n",
       "      <th></th>\n",
       "      <th>A</th>\n",
       "      <th>B</th>\n",
       "      <th>C</th>\n",
       "    </tr>\n",
       "  </thead>\n",
       "  <tbody>\n",
       "    <tr>\n",
       "      <th>0</th>\n",
       "      <td>10</td>\n",
       "      <td>12</td>\n",
       "      <td>13</td>\n",
       "    </tr>\n",
       "    <tr>\n",
       "      <th>1</th>\n",
       "      <td>34</td>\n",
       "      <td>23</td>\n",
       "      <td>45</td>\n",
       "    </tr>\n",
       "    <tr>\n",
       "      <th>2</th>\n",
       "      <td>32</td>\n",
       "      <td>34</td>\n",
       "      <td>21</td>\n",
       "    </tr>\n",
       "  </tbody>\n",
       "</table>\n",
       "</div>"
      ],
      "text/plain": [
       "    A   B   C\n",
       "0  10  12  13\n",
       "1  34  23  45\n",
       "2  32  34  21"
      ]
     },
     "execution_count": 18,
     "metadata": {},
     "output_type": "execute_result"
    }
   ],
   "source": [
    "df = pd.DataFrame(data, columns=[\"A\",\"B\",\"C\"])  #Creating DataFrame\n",
    "df.head()"
   ]
  },
  {
   "cell_type": "code",
   "execution_count": 20,
   "id": "11c2e581-cf4a-4b20-bdc8-687ed03986a7",
   "metadata": {},
   "outputs": [],
   "source": [
    "#Variance of DataFrame"
   ]
  },
  {
   "cell_type": "code",
   "execution_count": 21,
   "id": "a73708ee-c0a8-4a15-87f5-bc96d91c145a",
   "metadata": {},
   "outputs": [
    {
     "data": {
      "text/plain": [
       "A    177.333333\n",
       "B    121.000000\n",
       "C    277.333333\n",
       "dtype: float64"
      ]
     },
     "execution_count": 21,
     "metadata": {},
     "output_type": "execute_result"
    }
   ],
   "source": [
    "df.var()  #column wise"
   ]
  },
  {
   "cell_type": "code",
   "execution_count": 23,
   "id": "75dca29e-12c8-4661-b8e8-2c3963c973e4",
   "metadata": {},
   "outputs": [
    {
     "data": {
      "text/plain": [
       "0      2.333333\n",
       "1    121.000000\n",
       "2     49.000000\n",
       "dtype: float64"
      ]
     },
     "execution_count": 23,
     "metadata": {},
     "output_type": "execute_result"
    }
   ],
   "source": [
    "df.var(axis=1)  #row wise"
   ]
  },
  {
   "cell_type": "code",
   "execution_count": 25,
   "id": "97186862-dd70-4545-b7b0-24c51a7c5d73",
   "metadata": {},
   "outputs": [
    {
     "data": {
      "text/plain": [
       "A    177.333333\n",
       "B    121.000000\n",
       "C    277.333333\n",
       "dtype: float64"
      ]
     },
     "execution_count": 25,
     "metadata": {},
     "output_type": "execute_result"
    }
   ],
   "source": [
    "df.var(axis=0)  #column wise"
   ]
  },
  {
   "cell_type": "code",
   "execution_count": null,
   "id": "4d3a3ab9-d41a-4995-a96e-1f0e8eb8ac00",
   "metadata": {},
   "outputs": [],
   "source": []
  },
  {
   "cell_type": "code",
   "execution_count": null,
   "id": "f05e8ef8-7012-48af-bf78-354a02ab6c19",
   "metadata": {},
   "outputs": [],
   "source": []
  },
  {
   "cell_type": "code",
   "execution_count": null,
   "id": "f0465067-3958-4bc3-ae39-3d59d2708df1",
   "metadata": {},
   "outputs": [],
   "source": []
  }
 ],
 "metadata": {
  "kernelspec": {
   "display_name": "Python 3 (ipykernel)",
   "language": "python",
   "name": "python3"
  },
  "language_info": {
   "codemirror_mode": {
    "name": "ipython",
    "version": 3
   },
   "file_extension": ".py",
   "mimetype": "text/x-python",
   "name": "python",
   "nbconvert_exporter": "python",
   "pygments_lexer": "ipython3",
   "version": "3.10.8"
  }
 },
 "nbformat": 4,
 "nbformat_minor": 5
}
