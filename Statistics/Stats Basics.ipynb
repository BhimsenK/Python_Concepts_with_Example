{
 "cells": [
  {
   "cell_type": "code",
   "execution_count": 1,
   "id": "40c2c992-25df-404c-998e-50f018c6cc73",
   "metadata": {},
   "outputs": [],
   "source": [
    "#Statistics Basics"
   ]
  },
  {
   "cell_type": "code",
   "execution_count": null,
   "id": "8aa4634f-d516-44e4-b6df-7f802faed7f1",
   "metadata": {},
   "outputs": [],
   "source": []
  },
  {
   "cell_type": "code",
   "execution_count": null,
   "id": "be325ec6-36a8-4ac1-8892-83b7e3ea092c",
   "metadata": {},
   "outputs": [],
   "source": []
  },
  {
   "cell_type": "code",
   "execution_count": null,
   "id": "9e8a3c07-6fb3-4299-b8ff-03a21434ff73",
   "metadata": {},
   "outputs": [],
   "source": []
  },
  {
   "cell_type": "code",
   "execution_count": null,
   "id": "7c32f0c6-d583-405e-ab6d-c57eb1c2b74b",
   "metadata": {},
   "outputs": [],
   "source": []
  },
  {
   "cell_type": "code",
   "execution_count": null,
   "id": "f4705a69-7b9b-4950-8979-a88e9d838462",
   "metadata": {},
   "outputs": [],
   "source": []
  },
  {
   "cell_type": "code",
   "execution_count": null,
   "id": "8c8b274e-5359-435e-9a5e-6f0a2bd5fe4d",
   "metadata": {},
   "outputs": [],
   "source": []
  },
  {
   "cell_type": "code",
   "execution_count": 2,
   "id": "87671bcc-6051-4f3b-aaba-9a1983c3d362",
   "metadata": {},
   "outputs": [],
   "source": [
    "#Types of Data"
   ]
  },
  {
   "cell_type": "raw",
   "id": "7e831845-cf03-41e3-acf4-2cf72fadfd37",
   "metadata": {},
   "source": [
    "1. Quantitative. (Numerical variable) (+, -, /, *   for mathematical operations)\n",
    "2. Qualitative."
   ]
  },
  {
   "cell_type": "code",
   "execution_count": null,
   "id": "bdb2a890-56e3-4b58-aa95-945c49cfda51",
   "metadata": {},
   "outputs": [],
   "source": []
  },
  {
   "cell_type": "raw",
   "id": "92b23789-e0ea-467d-8847-8621a5985067",
   "metadata": {},
   "source": [
    "1. Quantitative\n",
    "    - Its numerical Data.\n",
    "\n",
    "i. Discrete\n",
    "    - \"Its always a whole number\".\n",
    "    - e.g No. of Bank accounts, Members in Family. (We didn't say we have 7.3 members in family. we say we have 8 or 7         members in family.)\n",
    "    \n",
    "ii. Continuous\n",
    "    - \"It can be any value\".\n",
    "    - e.g Weight, height, Temperature, speed, distance etc.\n",
    "    - 70.5 Kg, 175 cm, 56 C, 100 km/hr, 56.3 Km etc.\n",
    "-------------------------------------------------------------------------\n",
    "2. Qualitative\n",
    "    - Its a Categorical data.\n",
    "\n",
    "i. Nominal\n",
    "    - Its a categorical data having Categories but not rank assigned to it like A > B, B < C etc.\n",
    "    - e.g Gender, Blood Group, pincode etc. \n",
    "    - We don't say Female > Male or A+ > O- etc.\n",
    "    \n",
    "ii. Ordinal\n",
    "    - Rank is there in this Category.\n",
    "    - E.g Customer Feedback.\n",
    "    - like Best > Good > not good."
   ]
  }
 ],
 "metadata": {
  "kernelspec": {
   "display_name": "Python 3 (ipykernel)",
   "language": "python",
   "name": "python3"
  },
  "language_info": {
   "codemirror_mode": {
    "name": "ipython",
    "version": 3
   },
   "file_extension": ".py",
   "mimetype": "text/x-python",
   "name": "python",
   "nbconvert_exporter": "python",
   "pygments_lexer": "ipython3",
   "version": "3.10.8"
  }
 },
 "nbformat": 4,
 "nbformat_minor": 5
}
