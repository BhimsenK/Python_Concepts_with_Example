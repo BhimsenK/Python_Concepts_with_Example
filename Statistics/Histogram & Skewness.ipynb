{
 "cells": [
  {
   "cell_type": "code",
   "execution_count": 1,
   "id": "fdc93ee2-a517-43ca-838d-37789d5be02d",
   "metadata": {},
   "outputs": [],
   "source": [
    "#Histogram & Skewness"
   ]
  },
  {
   "cell_type": "code",
   "execution_count": null,
   "id": "0e326266-5e30-481c-9a85-5692d3096940",
   "metadata": {},
   "outputs": [],
   "source": []
  },
  {
   "cell_type": "code",
   "execution_count": 3,
   "id": "81dabba7-3991-4875-89f5-9c8b8d324f98",
   "metadata": {},
   "outputs": [],
   "source": [
    "#creating a histogram"
   ]
  },
  {
   "cell_type": "code",
   "execution_count": 4,
   "id": "e36a0b38-f659-435c-9092-9c0148801de6",
   "metadata": {},
   "outputs": [],
   "source": [
    "Ages = {10,12,14,16,24,20,35,36,37,40,41,42,43,50}"
   ]
  },
  {
   "cell_type": "code",
   "execution_count": null,
   "id": "58f8f685-bcb6-4a7a-9342-603c8f71683b",
   "metadata": {},
   "outputs": [],
   "source": []
  },
  {
   "cell_type": "code",
   "execution_count": 5,
   "id": "7acce2a9-a613-4263-b37e-e22633579b6f",
   "metadata": {},
   "outputs": [],
   "source": [
    "#step 1 :"
   ]
  },
  {
   "cell_type": "raw",
   "id": "a60cca9e-5144-44f0-ad32-46bebeec2b26",
   "metadata": {},
   "source": [
    "We need to choose a bin size.\n",
    "\n",
    "Suppose in the about list, the range of the numbers is from 0 to 55. And if I want 10 bin sizes(like buckets).\n",
    "\n",
    "50/10 = 5  ---> bin size  (No. of bins = 10)\n",
    "50/20 = 2.5  ---> bin size  (No. of bins = 20)"
   ]
  },
  {
   "cell_type": "code",
   "execution_count": null,
   "id": "f85ea4ee-6622-481f-b41e-0cda07741f69",
   "metadata": {},
   "outputs": [],
   "source": []
  },
  {
   "cell_type": "raw",
   "id": "d8dc5f83-e28c-4fe1-b47e-da943b1d00bd",
   "metadata": {},
   "source": [
    "e.g Normal/ Gussian Distribution\n",
    "> No skewness"
   ]
  }
 ],
 "metadata": {
  "kernelspec": {
   "display_name": "Python 3 (ipykernel)",
   "language": "python",
   "name": "python3"
  },
  "language_info": {
   "codemirror_mode": {
    "name": "ipython",
    "version": 3
   },
   "file_extension": ".py",
   "mimetype": "text/x-python",
   "name": "python",
   "nbconvert_exporter": "python",
   "pygments_lexer": "ipython3",
   "version": "3.10.8"
  }
 },
 "nbformat": 4,
 "nbformat_minor": 5
}
