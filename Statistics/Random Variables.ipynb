{
 "cells": [
  {
   "cell_type": "code",
   "execution_count": 1,
   "id": "9db43aa7-24c4-4227-bdfb-33bf52bda316",
   "metadata": {},
   "outputs": [],
   "source": [
    "#Random Variables"
   ]
  },
  {
   "cell_type": "raw",
   "id": "8c7e3d5a-15e3-4793-b4f4-c9eb3126c65e",
   "metadata": {},
   "source": [
    "Def : \n",
    "\n",
    "\"Random variable is a process of mapping the output of a random process or experiments to a number.\""
   ]
  },
  {
   "cell_type": "code",
   "execution_count": null,
   "id": "f5a43992-150f-43d2-ab29-a6917eeb2f0d",
   "metadata": {},
   "outputs": [],
   "source": []
  },
  {
   "cell_type": "raw",
   "id": "96d96ccb-b5ac-4cf2-90ba-9923071a9c78",
   "metadata": {},
   "source": [
    "e.g Tossing a coin. \n",
    "\n",
    "\n",
    "     0 if Head \n",
    "x =    \n",
    "     1 if Tail\n",
    "     \n",
    "---------------------"
   ]
  },
  {
   "cell_type": "raw",
   "id": "e0d415e4-84ab-4c7f-929b-1e74a3078867",
   "metadata": {},
   "source": [
    "suppose we need to find the sum of numbers by rolling a coin.\n",
    "just like above example.\n",
    "\n",
    "so e.g x = {result when the coin flips for 7 times.} (it can be any output like {0,0,1,1,1,1,0} .... etc)\n",
    "\n",
    "Note : Here, we can't say like for 7 times which values will be coming. So usually we put those inside a \"random variable.\""
   ]
  }
 ],
 "metadata": {
  "kernelspec": {
   "display_name": "Python 3 (ipykernel)",
   "language": "python",
   "name": "python3"
  },
  "language_info": {
   "codemirror_mode": {
    "name": "ipython",
    "version": 3
   },
   "file_extension": ".py",
   "mimetype": "text/x-python",
   "name": "python",
   "nbconvert_exporter": "python",
   "pygments_lexer": "ipython3",
   "version": "3.10.8"
  }
 },
 "nbformat": 4,
 "nbformat_minor": 5
}
