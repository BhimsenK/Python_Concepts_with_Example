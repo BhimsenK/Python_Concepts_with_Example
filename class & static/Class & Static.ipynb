{
 "cells": [
  {
   "cell_type": "code",
   "execution_count": 1,
   "id": "6ceb18ad-da8b-4287-a307-08d34015c0a1",
   "metadata": {},
   "outputs": [],
   "source": [
    "#Giving data using constructor"
   ]
  },
  {
   "cell_type": "code",
   "execution_count": 2,
   "id": "f3f81678-46bf-41f9-8797-79ee0e894147",
   "metadata": {},
   "outputs": [
    {
     "data": {
      "text/plain": [
       "'Viraj'"
      ]
     },
     "execution_count": 2,
     "metadata": {},
     "output_type": "execute_result"
    }
   ],
   "source": [
    "class A_Boy:\n",
    "    def __init__(self, name):\n",
    "        self.name = name\n",
    "\n",
    "GenZ = A_Boy('Viraj')\n",
    "GenZ.name"
   ]
  },
  {
   "cell_type": "code",
   "execution_count": null,
   "id": "39aab858-d850-4d08-ad61-b5aa4a5feff9",
   "metadata": {},
   "outputs": [],
   "source": []
  },
  {
   "cell_type": "code",
   "execution_count": 3,
   "id": "1454f9f3-0b28-4df7-95dd-401080a3d3cc",
   "metadata": {},
   "outputs": [],
   "source": [
    "#giving name without using Constructor i.e Class method"
   ]
  },
  {
   "cell_type": "code",
   "execution_count": 14,
   "id": "fa6af047-821c-49e1-a193-574d9644212e",
   "metadata": {},
   "outputs": [],
   "source": [
    "class A_Boy:\n",
    "    def __init__(self, name):\n",
    "        self.name = name\n",
    "    \n",
    "    @classmethod\n",
    "    def PurnaNaav(cls, name):\n",
    "        return cls(name)\n",
    "\n",
    "GenZ = A_Boy('Ajay')\n"
   ]
  },
  {
   "cell_type": "code",
   "execution_count": 16,
   "id": "d006a3ba-3629-44bb-99e3-3bbb1e2e030a",
   "metadata": {},
   "outputs": [
    {
     "data": {
      "text/plain": [
       "<__main__.A_Boy at 0x7f606817feb0>"
      ]
     },
     "execution_count": 16,
     "metadata": {},
     "output_type": "execute_result"
    }
   ],
   "source": [
    "GenZ.PurnaNaav('Ajay')"
   ]
  },
  {
   "cell_type": "code",
   "execution_count": 17,
   "id": "050f1fea-909e-4f4e-8e87-9a21bd038b98",
   "metadata": {},
   "outputs": [
    {
     "data": {
      "text/plain": [
       "'Ajay'"
      ]
     },
     "execution_count": 17,
     "metadata": {},
     "output_type": "execute_result"
    }
   ],
   "source": [
    "GenZ.name"
   ]
  },
  {
   "cell_type": "code",
   "execution_count": null,
   "id": "ba081181-1885-43c4-84bf-fb5bcc9065df",
   "metadata": {},
   "outputs": [],
   "source": []
  },
  {
   "cell_type": "code",
   "execution_count": null,
   "id": "6891746c-5aaa-417a-80ee-e96edf0b5d17",
   "metadata": {},
   "outputs": [],
   "source": []
  },
  {
   "cell_type": "code",
   "execution_count": null,
   "id": "1a41583a-d308-4d02-8551-b2242ce42e84",
   "metadata": {},
   "outputs": [],
   "source": []
  },
  {
   "cell_type": "code",
   "execution_count": null,
   "id": "63343abd-4d13-4f6a-857e-8bdf01e75e44",
   "metadata": {},
   "outputs": [],
   "source": []
  }
 ],
 "metadata": {
  "kernelspec": {
   "display_name": "Python 3 (ipykernel)",
   "language": "python",
   "name": "python3"
  },
  "language_info": {
   "codemirror_mode": {
    "name": "ipython",
    "version": 3
   },
   "file_extension": ".py",
   "mimetype": "text/x-python",
   "name": "python",
   "nbconvert_exporter": "python",
   "pygments_lexer": "ipython3",
   "version": "3.10.8"
  }
 },
 "nbformat": 4,
 "nbformat_minor": 5
}
