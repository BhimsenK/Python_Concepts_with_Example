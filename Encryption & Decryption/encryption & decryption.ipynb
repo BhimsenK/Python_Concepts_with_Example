{
 "cells": [
  {
   "cell_type": "markdown",
   "id": "32d080e7-718e-44a0-a2f9-faf2d6396d11",
   "metadata": {},
   "source": [
    "## If you want to take random key to be generate and encrypt the password"
   ]
  },
  {
   "cell_type": "code",
   "execution_count": 3,
   "id": "d22fb5d5-315b-43c0-9a5b-67ee263fe0d8",
   "metadata": {},
   "outputs": [
    {
     "name": "stdout",
     "output_type": "stream",
     "text": [
      "Key : b'aPg7wJLwlSEWyLxQYQjiIGUA8zn_j53pTqaz2sJ_CB4='\n",
      "Encrypted : gAAAAABmqjdOYtlYTsiciKw-9Brj8yG9-HQZrPbjPTeLteP9uVMgeBJFw8Bc5Bn0JFn6vZppRKHCw8JXtllXQ51qUqA2OL48SixmPwJwwOzG4HcwCtqme38=\n",
      "Original  : W\"KF$l@NNesLbLr0otL0g!n@N0v!*\n"
     ]
    }
   ],
   "source": [
    "import json, sys\n",
    "from cryptography.fernet import Fernet\n",
    "\n",
    "\n",
    "def decrypt(auth_token, key):\n",
    "    global out\n",
    "    try:\n",
    "        key = key\n",
    "        cipherSuite = Fernet(key)\n",
    "        encrypted_string = auth_token\n",
    "        encrypted_string_bytes = encrypted_string.encode()\n",
    "        plainText = cipherSuite.decrypt(encrypted_string_bytes)\n",
    "        return plainText.decode()\n",
    "\n",
    "    except Exception as e:\n",
    "        print(e)\n",
    "    \n",
    "\n",
    "key = Fernet.generate_key()\n",
    "print(f'Key : {key}')\n",
    "cipher_suite = Fernet(key)\n",
    "\n",
    "def encrypt_password(password):\n",
    "    encrypted_password = cipher_suite.encrypt(password.encode())\n",
    "    return encrypted_password\n",
    "\n",
    "Linux_upass = 'W\"KF$l@NNesLbLr0otL0g!n@N0v!*'\n",
    "Linux_upass = encrypt_password(Linux_upass)\n",
    "Linux_upass = Linux_upass.decode()\n",
    "\n",
    "print(f'Encrypted : {Linux_upass}')\n",
    "print(f'Original  : {decrypt(Linux_upass, key)}')"
   ]
  },
  {
   "cell_type": "code",
   "execution_count": null,
   "id": "e5cef550-32d8-4582-ab0d-d962f08cfefe",
   "metadata": {},
   "outputs": [],
   "source": []
  },
  {
   "cell_type": "markdown",
   "id": "e1f6504a-a649-49c7-bfd7-96fd02b48ea0",
   "metadata": {},
   "source": [
    "## Copy the same key and encrypted text showing above and then you can also use this to decrypt it by saving into input files"
   ]
  },
  {
   "cell_type": "code",
   "execution_count": 8,
   "id": "3b6012aa-8032-4890-8c2e-7a714b8e0737",
   "metadata": {},
   "outputs": [
    {
     "name": "stdout",
     "output_type": "stream",
     "text": [
      "password : >gAAAAABmqjdOYtlYTsiciKw-9Brj8yG9-HQZrPbjPTeLteP9uVMgeBJFw8Bc5Bn0JFn6vZppRKHCw8JXtllXQ51qUqA2OL48SixmPwJwwOzG4HcwCtqme38=<\n",
      "Decrypted : W\"KF$l@NNesLbLr0otL0g!n@N0v!*\n"
     ]
    }
   ],
   "source": [
    "import json, sys\n",
    "from cryptography.fernet import Fernet\n",
    "\n",
    "\n",
    "def decrypt(auth_token):\n",
    "    output = \"\"\n",
    "    try:\n",
    "        key = b'aPg7wJLwlSEWyLxQYQjiIGUA8zn_j53pTqaz2sJ_CB4='  # include fernet key.\n",
    "        # key = Fernet.generate_key()\n",
    "        cipherSuite = Fernet(key)\n",
    "        encrypted_string = auth_token\n",
    "        encrypted_string_bytes = encrypted_string.encode()\n",
    "        plainText = cipherSuite.decrypt(encrypted_string_bytes)\n",
    "        return plainText.decode()\n",
    "    except Exception as e:\n",
    "        # print(e)\n",
    "        output+=(\"Error in decryption!\" + str(e))\n",
    " \n",
    " \n",
    " \n",
    "\n",
    " \n",
    "Linux_upass = \"gAAAAABmqjdOYtlYTsiciKw-9Brj8yG9-HQZrPbjPTeLteP9uVMgeBJFw8Bc5Bn0JFn6vZppRKHCw8JXtllXQ51qUqA2OL48SixmPwJwwOzG4HcwCtqme38=\"\n",
    "updated = decrypt(Linux_upass)\n",
    "print(f'password : >{Linux_upass}<')\n",
    "print(f'Decrypted : {updated}')"
   ]
  },
  {
   "cell_type": "code",
   "execution_count": null,
   "id": "9e11c48f-7b44-4415-819a-f81867c44ae3",
   "metadata": {},
   "outputs": [],
   "source": []
  }
 ],
 "metadata": {
  "kernelspec": {
   "display_name": "Python 3 (ipykernel)",
   "language": "python",
   "name": "python3"
  },
  "language_info": {
   "codemirror_mode": {
    "name": "ipython",
    "version": 3
   },
   "file_extension": ".py",
   "mimetype": "text/x-python",
   "name": "python",
   "nbconvert_exporter": "python",
   "pygments_lexer": "ipython3",
   "version": "3.10.8"
  }
 },
 "nbformat": 4,
 "nbformat_minor": 5
}
