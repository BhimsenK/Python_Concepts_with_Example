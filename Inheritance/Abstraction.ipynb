{
 "cells": [
  {
   "cell_type": "code",
   "execution_count": 1,
   "id": "18e1ecb7-6dc0-4509-839d-abe50c4e7a69",
   "metadata": {},
   "outputs": [],
   "source": [
    "#Abstraction "
   ]
  },
  {
   "cell_type": "code",
   "execution_count": 3,
   "id": "1d49c25a-e994-4dbb-bf4d-c5a20384d6d0",
   "metadata": {},
   "outputs": [],
   "source": [
    "import abc\n",
    "class Shape:\n",
    "    @abc.abstractmethod\n",
    "    def area(self):\n",
    "        pass"
   ]
  },
  {
   "cell_type": "code",
   "execution_count": 4,
   "id": "69c5dd80-f9b4-4ef3-81a5-5fe137464fd9",
   "metadata": {},
   "outputs": [],
   "source": [
    "class Circle(Shape):\n",
    "    def __init__(self, radius):\n",
    "        self.radius = radius\n",
    "        \n",
    "    def area(self):\n",
    "        return 3.14 * self.radius ** 2"
   ]
  },
  {
   "cell_type": "code",
   "execution_count": 6,
   "id": "b51a190d-8660-4ae1-8c9d-4551f2d33a54",
   "metadata": {},
   "outputs": [],
   "source": [
    "class Rectangle(Shape):\n",
    "    def __init__(self, length, breadth):\n",
    "        self.length = length\n",
    "        self.breadth = breadth\n",
    "        \n",
    "    def area(self):\n",
    "        return self.length * self.breadth"
   ]
  },
  {
   "cell_type": "code",
   "execution_count": 7,
   "id": "e3514a25-07fc-4527-8b25-8488c76f4747",
   "metadata": {},
   "outputs": [
    {
     "data": {
      "text/plain": [
       "78.5"
      ]
     },
     "execution_count": 7,
     "metadata": {},
     "output_type": "execute_result"
    }
   ],
   "source": [
    "cir = Circle(5)\n",
    "cir.area()"
   ]
  },
  {
   "cell_type": "code",
   "execution_count": 8,
   "id": "04b26bee-41c7-4002-9fd3-0b5c6518d81a",
   "metadata": {},
   "outputs": [],
   "source": [
    "rec = Rectangle(4, 5)"
   ]
  },
  {
   "cell_type": "code",
   "execution_count": null,
   "id": "f1ec0fc2-3ca4-4e09-9d42-8454bf44c86e",
   "metadata": {},
   "outputs": [],
   "source": [
    "rec.area()"
   ]
  }
 ],
 "metadata": {
  "kernelspec": {
   "display_name": "Python 3 (ipykernel)",
   "language": "python",
   "name": "python3"
  },
  "language_info": {
   "codemirror_mode": {
    "name": "ipython",
    "version": 3
   },
   "file_extension": ".py",
   "mimetype": "text/x-python",
   "name": "python",
   "nbconvert_exporter": "python",
   "pygments_lexer": "ipython3",
   "version": "3.10.8"
  }
 },
 "nbformat": 4,
 "nbformat_minor": 5
}
