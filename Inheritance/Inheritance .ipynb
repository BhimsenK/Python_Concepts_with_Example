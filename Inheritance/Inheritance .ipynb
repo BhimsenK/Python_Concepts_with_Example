{
 "cells": [
  {
   "cell_type": "code",
   "execution_count": 2,
   "id": "73d311e4-02bd-44cf-91eb-974ca79352d0",
   "metadata": {},
   "outputs": [],
   "source": [
    "# Inheritance"
   ]
  },
  {
   "cell_type": "code",
   "execution_count": 17,
   "id": "00d5b10c-d77b-4846-a9d3-ed06d40f7634",
   "metadata": {},
   "outputs": [],
   "source": [
    "#1. Single Inheritance  "
   ]
  },
  {
   "cell_type": "code",
   "execution_count": null,
   "id": "b83be446-ba1c-4180-8f75-fea9ea2f68c1",
   "metadata": {},
   "outputs": [],
   "source": [
    "#(with different function names in both the classes)"
   ]
  },
  {
   "cell_type": "code",
   "execution_count": 10,
   "id": "85f99478-bfa9-4ab3-810c-a3584af2a18f",
   "metadata": {},
   "outputs": [],
   "source": [
    "class Father:\n",
    "    def Property(self):\n",
    "        print(f'You are now on Fathers property !!!')\n",
    "        \n",
    "class Son(Father):\n",
    "    def earnings(self):\n",
    "        print(f'You are looking at childerns property !!!')"
   ]
  },
  {
   "cell_type": "code",
   "execution_count": 12,
   "id": "45dcd113-4012-44fe-b19e-58d8fc236278",
   "metadata": {},
   "outputs": [
    {
     "name": "stdout",
     "output_type": "stream",
     "text": [
      "You are looking at childerns property !!!\n",
      "You are now on Fathers property !!!\n"
     ]
    }
   ],
   "source": [
    "child = Son()\n",
    "child.earnings()\n",
    "child.Property()"
   ]
  },
  {
   "cell_type": "code",
   "execution_count": 13,
   "id": "56194976-08b0-4e19-be00-e0e5b104add0",
   "metadata": {},
   "outputs": [],
   "source": [
    "#Note : We will not be able to access Son's earnings by creating Father's object."
   ]
  },
  {
   "cell_type": "code",
   "execution_count": 18,
   "id": "1d747c78-47df-4cc6-a122-8d5d47f21586",
   "metadata": {},
   "outputs": [],
   "source": [
    "#(with same function names in both the classes)"
   ]
  },
  {
   "cell_type": "code",
   "execution_count": 19,
   "id": "c3ae2508-d7fd-47d7-9a1b-dfa817be8dfe",
   "metadata": {},
   "outputs": [],
   "source": [
    "class Father:\n",
    "    def Property(self):\n",
    "        print(f'You are now on Fathers property !!!')\n",
    "        \n",
    "class Son(Father):\n",
    "    def Property(self):\n",
    "        print(f'You are looking at childerns property !!!')"
   ]
  },
  {
   "cell_type": "code",
   "execution_count": 20,
   "id": "3c139ddf-795a-4527-91ff-8bbe606787d5",
   "metadata": {},
   "outputs": [
    {
     "name": "stdout",
     "output_type": "stream",
     "text": [
      "You are looking at childerns property !!!\n"
     ]
    }
   ],
   "source": [
    "child = Son()\n",
    "child.Property() #this is method overriding !!!"
   ]
  },
  {
   "cell_type": "code",
   "execution_count": null,
   "id": "8698dcd9-aafe-4d41-9bd6-1dbfd5c23094",
   "metadata": {},
   "outputs": [],
   "source": []
  },
  {
   "cell_type": "code",
   "execution_count": 21,
   "id": "7eee77eb-5f11-4b09-aabf-89d13ffdd79a",
   "metadata": {},
   "outputs": [],
   "source": [
    "#2. Multi-Level Inheritance  "
   ]
  },
  {
   "cell_type": "code",
   "execution_count": 23,
   "id": "b66a9c97-427b-4b47-a4f9-e424f81051ac",
   "metadata": {},
   "outputs": [],
   "source": [
    "class Grand_Father:\n",
    "    def ajoba_property(self):\n",
    "        print(f'You have entered in Ajobas property !!!')\n",
    "class Father(Grand_Father):\n",
    "    def baba_property(self):\n",
    "        print(f'You have entered in Babas property !!!')\n",
    "class Son(Father):\n",
    "    def son_property(self):\n",
    "        print(f'You are looking at their childrns property !!!')"
   ]
  },
  {
   "cell_type": "code",
   "execution_count": 24,
   "id": "20761a32-c887-4b69-bdb4-d1560dfa38da",
   "metadata": {},
   "outputs": [
    {
     "name": "stdout",
     "output_type": "stream",
     "text": [
      "You are looking at their childrns property !!!\n",
      "You have entered in Babas property !!!\n",
      "You have entered in Ajobas property !!!\n"
     ]
    }
   ],
   "source": [
    "child = Son()\n",
    "child.son_property()\n",
    "child.baba_property()\n",
    "child.ajoba_property()"
   ]
  },
  {
   "cell_type": "code",
   "execution_count": null,
   "id": "349d235a-2564-4bcc-b632-2085dedfdde7",
   "metadata": {},
   "outputs": [],
   "source": []
  },
  {
   "cell_type": "code",
   "execution_count": null,
   "id": "36c88f9d-c6b9-44dc-9412-feb51c56ca12",
   "metadata": {},
   "outputs": [],
   "source": []
  },
  {
   "cell_type": "code",
   "execution_count": 25,
   "id": "e2f47147-aa7c-4c2f-a955-03c2ca72679d",
   "metadata": {},
   "outputs": [],
   "source": [
    "#3. Multiple Inheritance  "
   ]
  },
  {
   "cell_type": "code",
   "execution_count": 26,
   "id": "8a1f5c8d-4cf3-44df-9d64-d41439be33aa",
   "metadata": {},
   "outputs": [],
   "source": [
    "class Father:\n",
    "    def Fathers_quality(self):\n",
    "        print(f'Greate sense of humor !!!')\n",
    "class Mother:\n",
    "    def mothers_quality(self):\n",
    "        print(f'Presence of Mind !!!')\n",
    "\n",
    "class Son(Father, Mother):\n",
    "    def Sons_quality(self):\n",
    "        print(f'Patience !!!')"
   ]
  },
  {
   "cell_type": "code",
   "execution_count": 27,
   "id": "2d0349ac-269c-4142-ad87-86fff1a00cde",
   "metadata": {},
   "outputs": [
    {
     "name": "stdout",
     "output_type": "stream",
     "text": [
      "Patience !!!\n",
      "Presence of Mind !!!\n",
      "Greate sense of humor !!!\n"
     ]
    }
   ],
   "source": [
    "child = Son()\n",
    "child.Sons_quality()\n",
    "child.mothers_quality()\n",
    "child.Fathers_quality()"
   ]
  },
  {
   "cell_type": "code",
   "execution_count": null,
   "id": "e6ec72e4-d7a9-4ecb-b4c2-4663da4d274f",
   "metadata": {},
   "outputs": [],
   "source": []
  },
  {
   "cell_type": "code",
   "execution_count": 28,
   "id": "736d2b70-ba1c-428d-ac2c-2d40b8cdf7d5",
   "metadata": {},
   "outputs": [],
   "source": [
    "#Diamond Problem"
   ]
  },
  {
   "cell_type": "code",
   "execution_count": 31,
   "id": "e7d008e5-ea5f-44f0-afcd-ab1a7d967ff5",
   "metadata": {},
   "outputs": [],
   "source": [
    "#Q. what will happen, if both the parent classes has same function name ? which function name will be called ?"
   ]
  },
  {
   "cell_type": "code",
   "execution_count": 32,
   "id": "1168bd8d-bcc0-4a34-b18a-ee2653152141",
   "metadata": {},
   "outputs": [],
   "source": [
    "class Father:\n",
    "    def quality(self):\n",
    "        print(f'Greate sense of humor !!!')\n",
    "class Mother:\n",
    "    def quality(self):\n",
    "        print(f'Presence of Mind !!!')\n",
    "\n",
    "class Son(Father, Mother):\n",
    "    def Sons_quality(self):\n",
    "        print(f'Patience !!!')"
   ]
  },
  {
   "cell_type": "code",
   "execution_count": 33,
   "id": "f278784b-c78c-4b28-b480-339f723515cb",
   "metadata": {},
   "outputs": [
    {
     "name": "stdout",
     "output_type": "stream",
     "text": [
      "Greate sense of humor !!!\n"
     ]
    }
   ],
   "source": [
    "child = Son()\n",
    "child.quality()"
   ]
  },
  {
   "cell_type": "code",
   "execution_count": 34,
   "id": "192a803c-fe47-408a-a8e8-e80fa0274660",
   "metadata": {},
   "outputs": [],
   "source": [
    "#Answer : while inheriting the properties, which ever class name is mention at first position whill be called. \n",
    "# i.e in this case is Father's calss fucntion."
   ]
  },
  {
   "cell_type": "code",
   "execution_count": null,
   "id": "f87bb8b4-839a-4052-970b-6710d40ed6e8",
   "metadata": {},
   "outputs": [],
   "source": []
  },
  {
   "cell_type": "code",
   "execution_count": 35,
   "id": "4beb0e28-bfd5-4e24-b9b3-b85667a2d4f7",
   "metadata": {},
   "outputs": [],
   "source": [
    "#Hirarchical Inheritance"
   ]
  },
  {
   "cell_type": "code",
   "execution_count": null,
   "id": "27305704-20c5-439a-b85d-6dce2598e1fb",
   "metadata": {},
   "outputs": [],
   "source": []
  },
  {
   "cell_type": "code",
   "execution_count": 39,
   "id": "6a912bf1-034b-4c87-bce5-43f8f007560d",
   "metadata": {},
   "outputs": [],
   "source": [
    "class Father:\n",
    "    def quality(self):\n",
    "        print(f'Greate sense of humor !!!')\n",
    "        \n",
    "class Son1(Father):\n",
    "    def Son2_quality(self):\n",
    "        print(f'Front end developer !!!')\n",
    "class Son2(Father):\n",
    "    def Son2_quality(self):\n",
    "        print(f'Back end developer !!!')\n"
   ]
  },
  {
   "cell_type": "code",
   "execution_count": 40,
   "id": "9f2000c9-4bd8-434b-902f-f1559d9f6b68",
   "metadata": {},
   "outputs": [],
   "source": [
    "Shree = Son1()"
   ]
  },
  {
   "cell_type": "code",
   "execution_count": 41,
   "id": "ac2c9018-6a07-4d89-81c9-400702848b35",
   "metadata": {},
   "outputs": [
    {
     "name": "stdout",
     "output_type": "stream",
     "text": [
      "Front end developer !!!\n",
      "Greate sense of humor !!!\n"
     ]
    }
   ],
   "source": [
    "Shree.Son2_quality()\n",
    "Shree.quality()"
   ]
  },
  {
   "cell_type": "code",
   "execution_count": 42,
   "id": "a8e81f69-d542-4d63-828f-9a94e1ceccbb",
   "metadata": {},
   "outputs": [],
   "source": [
    "Shri = Son2()"
   ]
  },
  {
   "cell_type": "code",
   "execution_count": 43,
   "id": "aa6069b0-339b-4d08-9462-37254e65cb04",
   "metadata": {},
   "outputs": [
    {
     "name": "stdout",
     "output_type": "stream",
     "text": [
      "Back end developer !!!\n",
      "Greate sense of humor !!!\n"
     ]
    }
   ],
   "source": [
    "Shri.Son2_quality()\n",
    "Shri.quality()"
   ]
  },
  {
   "cell_type": "code",
   "execution_count": null,
   "id": "8484cd5f-eb9d-4d44-886e-4c814a56a72b",
   "metadata": {},
   "outputs": [],
   "source": []
  },
  {
   "cell_type": "code",
   "execution_count": 44,
   "id": "81e05bee-1e38-4a2a-8c36-632a633c6056",
   "metadata": {},
   "outputs": [],
   "source": [
    "#Hybrid Inheritance"
   ]
  },
  {
   "cell_type": "code",
   "execution_count": null,
   "id": "5cf5a0a9-3913-47ac-9e26-c67ce68fa965",
   "metadata": {},
   "outputs": [],
   "source": []
  },
  {
   "cell_type": "code",
   "execution_count": 50,
   "id": "5eb8ecb7-de90-46c5-88ce-cedfaf0005f9",
   "metadata": {},
   "outputs": [],
   "source": [
    "class Father:\n",
    "    def quality(self):\n",
    "        print(f'Father of Daughter !!!')\n",
    "        \n",
    "class SonInLaw(Father):\n",
    "    def sonInLaw(self):\n",
    "        print(f'Son In Law !!!')\n",
    "class Daughther(Father):\n",
    "    def daughther(self):\n",
    "        print(f'Daughther !!!')\n",
    "        \n",
    "class Grandson(SonInLaw, Daughther):\n",
    "    def cuteness(self):\n",
    "        print(f'Cuteness Overloaded !!!')"
   ]
  },
  {
   "cell_type": "code",
   "execution_count": 51,
   "id": "3e6364fe-adf6-4942-a4c0-c64c5b4b5c02",
   "metadata": {},
   "outputs": [],
   "source": [
    "Girl = Daughther()"
   ]
  },
  {
   "cell_type": "code",
   "execution_count": 52,
   "id": "ad74aac9-c32b-4f9b-ba6a-9e504df15cb6",
   "metadata": {},
   "outputs": [
    {
     "name": "stdout",
     "output_type": "stream",
     "text": [
      "Daughther !!!\n",
      "Father of Daughter !!!\n"
     ]
    }
   ],
   "source": [
    "Girl.daughther()\n",
    "Girl.quality()"
   ]
  },
  {
   "cell_type": "code",
   "execution_count": 53,
   "id": "502cc2c5-0132-44b0-816f-035e9cfbd884",
   "metadata": {},
   "outputs": [],
   "source": [
    "grand_child = Grandson()"
   ]
  },
  {
   "cell_type": "code",
   "execution_count": 54,
   "id": "f86f87fa-734b-488c-92a8-d1aed0ff4c18",
   "metadata": {},
   "outputs": [
    {
     "name": "stdout",
     "output_type": "stream",
     "text": [
      "Cuteness Overloaded !!!\n",
      "Daughther !!!\n",
      "Father of Daughter !!!\n"
     ]
    }
   ],
   "source": [
    "grand_child.cuteness()\n",
    "grand_child.daughther()\n",
    "grand_child.quality()"
   ]
  },
  {
   "cell_type": "code",
   "execution_count": null,
   "id": "ce9cc2d0-0cd5-4e45-b0cb-78b3c4fc171e",
   "metadata": {},
   "outputs": [],
   "source": []
  },
  {
   "cell_type": "code",
   "execution_count": null,
   "id": "237a8f93-1a5c-470a-b753-3c0741fe315f",
   "metadata": {},
   "outputs": [],
   "source": []
  },
  {
   "cell_type": "code",
   "execution_count": 55,
   "id": "9dd5a841-d219-4fd4-b974-6a18016703b9",
   "metadata": {},
   "outputs": [],
   "source": [
    "#Abstraction "
   ]
  },
  {
   "cell_type": "code",
   "execution_count": null,
   "id": "7ae8b316-e55c-4d55-a3c2-a8fa101549fa",
   "metadata": {},
   "outputs": [],
   "source": []
  },
  {
   "cell_type": "code",
   "execution_count": 56,
   "id": "21b71cfc-1869-42fa-849f-ceaf8a3c0f09",
   "metadata": {},
   "outputs": [],
   "source": [
    "import abc"
   ]
  },
  {
   "cell_type": "code",
   "execution_count": 74,
   "id": "905e4ec6-e80f-420c-87f1-c0b6e80a7982",
   "metadata": {},
   "outputs": [],
   "source": [
    "class Shape:\n",
    "    @abc.abstractmethod\n",
    "    def area(self):\n",
    "        pass"
   ]
  },
  {
   "cell_type": "code",
   "execution_count": 75,
   "id": "ebc30a0b-f272-4a3c-b282-a358fdd778c2",
   "metadata": {},
   "outputs": [],
   "source": [
    "class Circle(Shape):\n",
    "    def __init__(self, radius):\n",
    "        self.radius = radius\n",
    "        \n",
    "    def area(self):\n",
    "        return 3.14 * self.radius ** 2"
   ]
  },
  {
   "cell_type": "code",
   "execution_count": 76,
   "id": "21f4d01b-ed68-4d5c-9db3-46475cdfa766",
   "metadata": {},
   "outputs": [],
   "source": [
    "class Rectangle(Shape):\n",
    "    def __init__(self, length, breadth):\n",
    "        self.length = length\n",
    "        self.breadth = breadth\n",
    "        \n",
    "    def area(self):\n",
    "        return self.length * self.breadth"
   ]
  },
  {
   "cell_type": "code",
   "execution_count": 77,
   "id": "9dab7f94-d9a8-4f26-a1b0-ff63647a921a",
   "metadata": {},
   "outputs": [],
   "source": [
    "cir = Circle(5)"
   ]
  },
  {
   "cell_type": "code",
   "execution_count": 78,
   "id": "5a52a8c7-54d7-4872-b405-9ff07487317a",
   "metadata": {},
   "outputs": [
    {
     "data": {
      "text/plain": [
       "78.5"
      ]
     },
     "execution_count": 78,
     "metadata": {},
     "output_type": "execute_result"
    }
   ],
   "source": [
    "cir.area()"
   ]
  },
  {
   "cell_type": "code",
   "execution_count": 79,
   "id": "d85e36b5-8099-4528-9aec-781264563d96",
   "metadata": {},
   "outputs": [],
   "source": [
    "rec = Rectangle(4, 5)"
   ]
  },
  {
   "cell_type": "code",
   "execution_count": 80,
   "id": "fc896710-6352-4a80-8301-fc1e9bae283e",
   "metadata": {},
   "outputs": [
    {
     "data": {
      "text/plain": [
       "20"
      ]
     },
     "execution_count": 80,
     "metadata": {},
     "output_type": "execute_result"
    }
   ],
   "source": [
    "rec.area()"
   ]
  },
  {
   "cell_type": "code",
   "execution_count": null,
   "id": "513e6a25-b7ae-413d-aa68-59a881e629b8",
   "metadata": {},
   "outputs": [],
   "source": []
  }
 ],
 "metadata": {
  "kernelspec": {
   "display_name": "Python 3 (ipykernel)",
   "language": "python",
   "name": "python3"
  },
  "language_info": {
   "codemirror_mode": {
    "name": "ipython",
    "version": 3
   },
   "file_extension": ".py",
   "mimetype": "text/x-python",
   "name": "python",
   "nbconvert_exporter": "python",
   "pygments_lexer": "ipython3",
   "version": "3.10.8"
  }
 },
 "nbformat": 4,
 "nbformat_minor": 5
}
