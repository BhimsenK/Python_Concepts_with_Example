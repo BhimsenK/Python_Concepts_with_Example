{
 "cells": [
  {
   "cell_type": "code",
   "execution_count": 1,
   "id": "7b7a1226-e806-45a8-873a-3fa98b6e8bd1",
   "metadata": {},
   "outputs": [],
   "source": [
    "#Polymorphism"
   ]
  },
  {
   "cell_type": "code",
   "execution_count": null,
   "id": "45cd1cc1-3251-4c2e-b516-853504829394",
   "metadata": {},
   "outputs": [],
   "source": [
    "#1 method"
   ]
  },
  {
   "cell_type": "code",
   "execution_count": 2,
   "id": "14b3c5eb-e90b-4cac-9974-d1d410210f3b",
   "metadata": {},
   "outputs": [],
   "source": [
    "class Actor:\n",
    "    def name(self):\n",
    "        print(f'Actor name is Vijay !!!')\n",
    "class Movie:\n",
    "    def name(self):\n",
    "        print(f'Movie name is Leo !!!')"
   ]
  },
  {
   "cell_type": "code",
   "execution_count": 3,
   "id": "866c4f6c-3583-4a31-9fef-19d25fcc6326",
   "metadata": {},
   "outputs": [],
   "source": [
    "Cinema = Movie()\n",
    "hero   = Actor()"
   ]
  },
  {
   "cell_type": "code",
   "execution_count": 4,
   "id": "1977e5a8-e4de-451b-bd48-bf912d85dff5",
   "metadata": {},
   "outputs": [
    {
     "name": "stdout",
     "output_type": "stream",
     "text": [
      "Movie name is Leo !!!\n",
      "Actor name is Vijay !!!\n"
     ]
    }
   ],
   "source": [
    "Cinema.name()\n",
    "hero.name()"
   ]
  },
  {
   "cell_type": "code",
   "execution_count": null,
   "id": "fd2d262d-1a88-484d-89ea-4814619f6902",
   "metadata": {},
   "outputs": [],
   "source": []
  },
  {
   "cell_type": "code",
   "execution_count": 5,
   "id": "9d608e3e-5121-4422-9fe3-fc07a35dcc3a",
   "metadata": {},
   "outputs": [],
   "source": [
    "#2 method"
   ]
  },
  {
   "cell_type": "code",
   "execution_count": 6,
   "id": "7b8df9d2-aadb-468d-b010-ff5fceff9632",
   "metadata": {},
   "outputs": [],
   "source": [
    "class Actor:\n",
    "    def name(self):\n",
    "        print(f'Actor name is Vijay !!!')\n",
    "class Movie:\n",
    "    def name(self):\n",
    "        print(f'Movie name is Leo !!!')"
   ]
  },
  {
   "cell_type": "code",
   "execution_count": 10,
   "id": "59ca1831-12f0-402a-82cd-1712844f525c",
   "metadata": {},
   "outputs": [],
   "source": [
    "def givemedetails(my_objects):\n",
    "    for i in my_objects:\n",
    "        i.name()"
   ]
  },
  {
   "cell_type": "code",
   "execution_count": 11,
   "id": "532c074e-ea4f-4d04-afe4-3e6648e84b2f",
   "metadata": {},
   "outputs": [],
   "source": [
    "Cinema = Movie()\n",
    "hero   = Actor()\n",
    "my_objects = [Cinema, hero]"
   ]
  },
  {
   "cell_type": "code",
   "execution_count": 12,
   "id": "7e9d856d-a118-417b-bb73-96449e67e497",
   "metadata": {},
   "outputs": [
    {
     "name": "stdout",
     "output_type": "stream",
     "text": [
      "Movie name is Leo !!!\n",
      "Actor name is Vijay !!!\n"
     ]
    }
   ],
   "source": [
    "givemedetails(my_objects)"
   ]
  },
  {
   "cell_type": "code",
   "execution_count": null,
   "id": "32945b35-d1c4-4057-8853-7c60aa6cab6f",
   "metadata": {},
   "outputs": [],
   "source": []
  },
  {
   "cell_type": "code",
   "execution_count": null,
   "id": "280b7f85-95c9-41d9-a839-0d98ba41405a",
   "metadata": {},
   "outputs": [],
   "source": [
    "#****************************************************************************************"
   ]
  },
  {
   "cell_type": "code",
   "execution_count": 16,
   "id": "4efd0e22-6d2e-4c66-a719-64e06e3ee4cd",
   "metadata": {},
   "outputs": [],
   "source": [
    "#Polymorphism : Method Over-Loading ..."
   ]
  },
  {
   "cell_type": "code",
   "execution_count": null,
   "id": "3376d2b3-e41b-44c9-9780-7f1903b4a2e8",
   "metadata": {},
   "outputs": [],
   "source": [
    "#****************************************************************************************"
   ]
  },
  {
   "cell_type": "code",
   "execution_count": null,
   "id": "f839a91f-f00d-4021-a9be-5e52b9249afb",
   "metadata": {},
   "outputs": [],
   "source": [
    "#note : Python \"does not suppport\" Method Over-Loading directly.\n",
    "'''What method overloading looks like in different languages ?\n",
    "Its like having multiple methods with same name inside a class.\n",
    "But those methods will be having different argument lists.\n",
    "and when those arguments are passed then only those perticular methods \n",
    "will be called.'''"
   ]
  },
  {
   "cell_type": "code",
   "execution_count": null,
   "id": "e903fdf5-6ade-44b9-8eb7-67a8dca9da8d",
   "metadata": {},
   "outputs": [],
   "source": [
    "    # example of Traditional Method overloading "
   ]
  },
  {
   "cell_type": "code",
   "execution_count": 44,
   "id": "393ccffe-3aa2-4a3d-9926-ee0c05a438eb",
   "metadata": {},
   "outputs": [],
   "source": [
    "class Family:\n",
    "    def children(self):\n",
    "        print(f'Hi, I am a Junior !!!')\n",
    "    def children(self, name=\"\"):\n",
    "        print(f'Hi, I am a {name} and I am big brother of Junior !!!')\n",
    "    def children(self, name=\"\", age=0):\n",
    "        print(f'Hi, I am {name} and I am {age} years old !!!')"
   ]
  },
  {
   "cell_type": "code",
   "execution_count": 49,
   "id": "680a3cda-0703-4a2d-a5d2-ff45f5a7cb32",
   "metadata": {},
   "outputs": [],
   "source": [
    "ghar = Family()"
   ]
  },
  {
   "cell_type": "code",
   "execution_count": 50,
   "id": "cc90e283-056b-4e6e-9a65-2c32af8b4140",
   "metadata": {},
   "outputs": [
    {
     "name": "stdout",
     "output_type": "stream",
     "text": [
      "Hi, I am  and I am 0 years old !!!\n",
      "Hi, I am Joseph and I am 0 years old !!!\n",
      "Hi, I am Vijay and I am 49 years old !!!\n"
     ]
    }
   ],
   "source": [
    "ghar.children()\n",
    "ghar.children('Joseph')\n",
    "ghar.children('Vijay', 49)"
   ]
  },
  {
   "cell_type": "code",
   "execution_count": null,
   "id": "5c5768fa-020e-40d7-808b-861cf19938d2",
   "metadata": {},
   "outputs": [],
   "source": [
    "\"\"\"\n",
    "IMP : If you can see, normally when there are different arguments passed in multiple functions of \n",
    "same name, then only those functions should be called accordingly i.e \n",
    "1. when no argument is passed\n",
    "2. When only name has passed\n",
    "3. When both name & age has passed.\n",
    "\n",
    "But its only calling the last method. \n",
    "\n",
    "So even thouugh, if we didn't have first 2 functions the result would be the same. \n",
    "\n",
    "Let's see in below example ...\n",
    "\"\"\""
   ]
  },
  {
   "cell_type": "code",
   "execution_count": 56,
   "id": "bc30a402-354b-4aa3-bcab-34f2fec38255",
   "metadata": {},
   "outputs": [],
   "source": [
    "#Method over-loading : Last method overrides the previous one.\n",
    "class Family:\n",
    "    def children(self, name=\"\", age=\"\"):\n",
    "        print(f'Hi, I am {name} and I am {age} years old !!!')"
   ]
  },
  {
   "cell_type": "code",
   "execution_count": 57,
   "id": "b0119019-efe4-4239-8b36-66163d3858ff",
   "metadata": {},
   "outputs": [
    {
     "name": "stdout",
     "output_type": "stream",
     "text": [
      "Hi, I am  and I am  years old !!!\n"
     ]
    }
   ],
   "source": [
    "house = Family()\n",
    "house.children()"
   ]
  },
  {
   "cell_type": "code",
   "execution_count": 58,
   "id": "8c47d0c0-3c2e-4360-b9de-64b56497266f",
   "metadata": {},
   "outputs": [
    {
     "name": "stdout",
     "output_type": "stream",
     "text": [
      "Hi, I am Joseph and I am  years old !!!\n"
     ]
    }
   ],
   "source": [
    "house.children(\"Joseph\")"
   ]
  },
  {
   "cell_type": "code",
   "execution_count": 59,
   "id": "cffe8252-f1a8-4f7b-abc3-5027ad2b1b63",
   "metadata": {},
   "outputs": [
    {
     "name": "stdout",
     "output_type": "stream",
     "text": [
      "Hi, I am Vijay and I am 49 years old !!!\n"
     ]
    }
   ],
   "source": [
    "house.children(\"Vijay\", 49)"
   ]
  },
  {
   "cell_type": "code",
   "execution_count": null,
   "id": "7d13881b-7020-4195-a717-0cccb7c4acfd",
   "metadata": {},
   "outputs": [],
   "source": []
  },
  {
   "cell_type": "code",
   "execution_count": null,
   "id": "e6f50b8e-7826-4f85-a880-ea32be25a29f",
   "metadata": {},
   "outputs": [],
   "source": []
  },
  {
   "cell_type": "code",
   "execution_count": 61,
   "id": "a09f5e48-288e-4597-be5b-17cbdaf5d9bd",
   "metadata": {},
   "outputs": [],
   "source": [
    "#****************************************************************************************"
   ]
  },
  {
   "cell_type": "code",
   "execution_count": 62,
   "id": "096dc439-8b9c-44cd-9e74-28fec51f4efe",
   "metadata": {},
   "outputs": [],
   "source": [
    "#Polymorphism : Method Over-Riding "
   ]
  },
  {
   "cell_type": "code",
   "execution_count": 63,
   "id": "8990f5b9-980d-4f83-9850-603797de7ba7",
   "metadata": {},
   "outputs": [],
   "source": [
    "#****************************************************************************************"
   ]
  },
  {
   "cell_type": "code",
   "execution_count": 67,
   "id": "b191975d-b5bb-42ce-bff7-332be314c573",
   "metadata": {},
   "outputs": [],
   "source": [
    "# Note : when there are multiple fucntions of same name inside inherited classes, then always \n",
    "#        the child class function will be called."
   ]
  },
  {
   "cell_type": "code",
   "execution_count": 68,
   "id": "a7da7320-4d8a-4535-97c7-26884193a57a",
   "metadata": {},
   "outputs": [],
   "source": [
    "class Parents:\n",
    "    def Listen_to_me(self):\n",
    "        print(f'We are going to attend traditional function tonight !!!')\n",
    "\n",
    "class Children(Parents):\n",
    "    def Listen_to_me(self):\n",
    "        print(f'I am going to the Club tonight !!!')"
   ]
  },
  {
   "cell_type": "code",
   "execution_count": 69,
   "id": "5dd8b0c8-8f28-4dc0-8bd5-b5a6e79878e6",
   "metadata": {},
   "outputs": [
    {
     "name": "stdout",
     "output_type": "stream",
     "text": [
      "I am going to the Club tonight !!!\n"
     ]
    }
   ],
   "source": [
    "son = Children()\n",
    "son.Listen_to_me()"
   ]
  },
  {
   "cell_type": "code",
   "execution_count": null,
   "id": "db5c2e3a-1538-432a-91b1-7c56a3550199",
   "metadata": {},
   "outputs": [],
   "source": []
  },
  {
   "cell_type": "code",
   "execution_count": null,
   "id": "9bfbaaf3-ba57-41bd-a85f-d5adf32226b3",
   "metadata": {},
   "outputs": [],
   "source": []
  }
 ],
 "metadata": {
  "kernelspec": {
   "display_name": "Python 3 (ipykernel)",
   "language": "python",
   "name": "python3"
  },
  "language_info": {
   "codemirror_mode": {
    "name": "ipython",
    "version": 3
   },
   "file_extension": ".py",
   "mimetype": "text/x-python",
   "name": "python",
   "nbconvert_exporter": "python",
   "pygments_lexer": "ipython3",
   "version": "3.10.8"
  }
 },
 "nbformat": 4,
 "nbformat_minor": 5
}
