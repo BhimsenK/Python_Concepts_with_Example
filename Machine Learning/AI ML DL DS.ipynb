{
 "cells": [
  {
   "cell_type": "code",
   "execution_count": 1,
   "id": "cdbab9c7-f037-41c9-8110-39e636bae506",
   "metadata": {},
   "outputs": [],
   "source": [
    "#AI Vs ML Vs DL Vs DS"
   ]
  },
  {
   "cell_type": "raw",
   "id": "4e2984d5-4b28-44eb-a910-3c52c63597fb",
   "metadata": {},
   "source": [
    "#Artificial Intelligence"
   ]
  },
  {
   "cell_type": "raw",
   "id": "07141e0f-eb28-446b-a7d7-aafb212f04e6",
   "metadata": {},
   "source": [
    "AI : Describes how coputer and other technology mimic human intelligence.\n",
    "\n",
    "e.g \n",
    "\n",
    "Robots.\n",
    "Self Driving Car."
   ]
  },
  {
   "cell_type": "raw",
   "id": "2bf0d4c2-29da-4553-9ee8-388bf5a5623d",
   "metadata": {},
   "source": []
  },
  {
   "cell_type": "code",
   "execution_count": null,
   "id": "e7bea320-3c7b-416a-b138-7b2d75cf8907",
   "metadata": {},
   "outputs": [],
   "source": []
  },
  {
   "cell_type": "raw",
   "id": "ff324ba9-47a9-4344-9385-11193a157fd1",
   "metadata": {},
   "source": [
    "#Machine Learning "
   ]
  },
  {
   "cell_type": "raw",
   "id": "ad09459a-ad4e-4d52-8b2d-1136ad08f243",
   "metadata": {},
   "source": [
    "ML  : That focuses on creating algorithms models to let computer learn and make prediction without explicitly programmed.\n",
    "\n",
    "\n",
    "e.g \n",
    "\n",
    "Classifying an email is spam or not.\n",
    "Price of the house"
   ]
  },
  {
   "cell_type": "code",
   "execution_count": null,
   "id": "819b14ea-8b68-4b19-84b3-754e0158ea61",
   "metadata": {},
   "outputs": [],
   "source": []
  },
  {
   "cell_type": "code",
   "execution_count": null,
   "id": "6a2709be-2df8-4ed9-b92a-866b0e159fc9",
   "metadata": {},
   "outputs": [],
   "source": []
  },
  {
   "cell_type": "raw",
   "id": "b53eb8b8-a0f8-4b16-b1b0-c7d25285f423",
   "metadata": {},
   "source": [
    "#Deep Learning"
   ]
  },
  {
   "cell_type": "raw",
   "id": "0bb9ecc8-5c80-4d01-a7f9-7466f9dc37fc",
   "metadata": {},
   "source": [
    "DL : Specialised ML algorithms that mimics the human brains.\n",
    "\n",
    "e.g \n",
    "\n",
    "Chat GPT\n",
    "Bard\n",
    "Recommendation system\n",
    "Object Detection\n",
    "Image Detection"
   ]
  },
  {
   "cell_type": "code",
   "execution_count": null,
   "id": "b21dc4b1-36d7-4f00-936e-875ec632ed9d",
   "metadata": {},
   "outputs": [],
   "source": []
  },
  {
   "cell_type": "code",
   "execution_count": null,
   "id": "ccb657d3-efc1-4648-a757-42a7963af6cf",
   "metadata": {},
   "outputs": [],
   "source": []
  },
  {
   "cell_type": "raw",
   "id": "da5a33e7-7ff9-4c5b-aba9-61025b4509ab",
   "metadata": {},
   "source": [
    "Data Science"
   ]
  },
  {
   "cell_type": "raw",
   "id": "d94ce8ed-a101-4482-a745-94999563ae16",
   "metadata": {},
   "source": [
    "DS : Is the intersection of AI, ML & DL."
   ]
  }
 ],
 "metadata": {
  "kernelspec": {
   "display_name": "Python 3 (ipykernel)",
   "language": "python",
   "name": "python3"
  },
  "language_info": {
   "codemirror_mode": {
    "name": "ipython",
    "version": 3
   },
   "file_extension": ".py",
   "mimetype": "text/x-python",
   "name": "python",
   "nbconvert_exporter": "python",
   "pygments_lexer": "ipython3",
   "version": "3.10.8"
  }
 },
 "nbformat": 4,
 "nbformat_minor": 5
}
