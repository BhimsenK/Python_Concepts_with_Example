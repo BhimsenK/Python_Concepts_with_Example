{
 "cells": [
  {
   "cell_type": "raw",
   "id": "336c88c2-9c2a-4a60-93ef-98c28cb80921",
   "metadata": {},
   "source": [
    "# Overfitting, underfitting & bias variance"
   ]
  },
  {
   "cell_type": "code",
   "execution_count": null,
   "id": "3c7f48bb-2b09-473c-9266-eb01eff88736",
   "metadata": {},
   "outputs": [],
   "source": []
  },
  {
   "cell_type": "raw",
   "id": "df992c87-2623-48b9-969e-63e882737723",
   "metadata": {},
   "source": [
    "e.g \n",
    "\n",
    "Students : Ajay & Vijay\n",
    "\n",
    "Teacher : Ajith\n",
    "\n",
    "\n",
    " - Teacher has taught 10 questions in classromm to both the students. \n",
    " - Ajay has memorised the question without understanding the concepts.\n",
    " - Vijay has understand the concepts instead of memorise it. \n",
    " \n",
    " - Ajay has perfored - 90 %\n",
    " - Vijay has performed - 99 %\n",
    " \n",
    " \n",
    "After 1 month \n",
    "\n",
    "\n",
    "Teacher has taken the test of them by changing values.\n",
    "\n",
    " - Ajay has perfored - 55 %\n",
    " - Vijay has performed - 98 %\n",
    " \n",
    " \n",
    " \n",
    " \n",
    " Note :\n",
    " \n",
    " \n",
    "# Over-fitting : \n",
    "------------------\n",
    "\n",
    "Here Ajay can perform well on the question taught but not on the question asked in exam by changing values.\n",
    "\n",
    "\"So when model is working find on Trained data but not on Test data, its said to be Overfitting. \"\n",
    "\n",
    "NOte : Generally, the % difference between Trained and test data should/ should not be more than 5-7 %. \n",
    "\n",
    "\n",
    "\n",
    "# Under-fitting : \n",
    "------------------\n",
    "\n",
    "Here, suppose a student is not performing well even in class room questions. Then he will not be perform well in Exam as well.\n",
    "\n",
    "\"So when a model is not working fine or having low accuracy in trained data itself, then it will be less accurate in test data as well. Its said to be Under-fitting.\"\n",
    "\n",
    "\n",
    "# Generalised Model :\n",
    "----------------------\n",
    "\n",
    "Here, suppose a student is performing very well in class room questions and even in Exam as well.\n",
    "\n",
    "\"So when a model is working very accurate onn trained data and also on test data as well. Its said to be Generalised Model.\"\n",
    "\n"
   ]
  },
  {
   "cell_type": "code",
   "execution_count": null,
   "id": "81c0718c-9831-4374-a40b-46d2830a4609",
   "metadata": {},
   "outputs": [],
   "source": []
  },
  {
   "cell_type": "code",
   "execution_count": null,
   "id": "427ee0d4-6f38-4de6-8733-fddf06239c8b",
   "metadata": {},
   "outputs": [],
   "source": []
  },
  {
   "cell_type": "raw",
   "id": "39e2b8bc-dbec-4657-ab90-0139e0120070",
   "metadata": {},
   "source": [
    "# bias variance"
   ]
  },
  {
   "cell_type": "raw",
   "id": "5db9ff0e-0a4c-4650-99ae-03672d06fc06",
   "metadata": {},
   "source": [
    "e.g \n",
    "\n",
    "\n",
    "ID\tArea (sq ft)\tRooms\tPrice ($)\n",
    "1\t   1500\t          3\t     300,000\n",
    "2\t   1800\t          4\t     400,000\n",
    "3\t   1200\t          2\t     200,000\n",
    "4\t   2000\t          5\t     500,000\n",
    "\n",
    "\n",
    "\n",
    "Suppose we have this data with us of area of house & rooms along with their price.\n",
    "\n",
    "\n",
    "  Bias :\n",
    "-----------\n",
    "- When we train the model on this data and just for testing when we predict the prices of those houses itself and its giving     some error on Trianed data itself then we call it as \"Bias\"/ \"Training error\".\n",
    "\n",
    "\n",
    " Variance :\n",
    "-----------\n",
    "- Suppose we got the errors on 'Testing data' then those errors are knows as 'Variance' / 'Testing errors'.\n"
   ]
  },
  {
   "cell_type": "code",
   "execution_count": null,
   "id": "7c244c3e-6b33-43e5-bf38-fa82789d8cc0",
   "metadata": {},
   "outputs": [],
   "source": []
  },
  {
   "cell_type": "code",
   "execution_count": null,
   "id": "5c959f73-f1cf-4377-b6df-91ed5b7c1002",
   "metadata": {},
   "outputs": [],
   "source": []
  },
  {
   "cell_type": "raw",
   "id": "012f6c06-8136-40f3-a6f6-c26e921419d2",
   "metadata": {},
   "source": [
    "IMP"
   ]
  },
  {
   "cell_type": "code",
   "execution_count": null,
   "id": "9df97bda-ede9-4cfd-ae16-cd04248736ab",
   "metadata": {},
   "outputs": [],
   "source": []
  },
  {
   "cell_type": "raw",
   "id": "66d5c07f-7e2a-4b32-a41d-a36315527039",
   "metadata": {},
   "source": [
    "* Over-fitting :\n",
    "- - - - - - - - - \n",
    "\n",
    "\n",
    "Train data : Model is trained > Accuracy : 97 % (If accuracy is high means error is Low.) i.e \"Low Bias\".\n",
    "Test  Data : Model is tested  > Accuracy : 67 % (If accuracy is low  means error is high.)i.e \"High Variance\".\n",
    "\n",
    "\"Low Bias & High Variance\"\n",
    "\n",
    "==========================================================================================================================\n",
    "\n",
    "* Under-fitting :\n",
    "- - - - - - - - - \n",
    "\n",
    "Train data : Model is trained > Accuracy : 56 % (If accuracy is low means error is high.) i.e \"high Bias\".\n",
    "Test  Data : Model is tested  > Accuracy : 47 % (If accuracy is low  means error is high.)i.e \"High Variance\".\n",
    "\n",
    "\n",
    "\"High Bias & High Variance\"\n",
    "\n",
    "==========================================================================================================================\n",
    "\n",
    "* Under-fitting :\n",
    "- - - - - - - - - \n",
    "\n",
    "\n",
    "Train data : Model is trained > Accuracy : 90 % (If accuracy is high means error is low.) i.e \"Low Bias\".\n",
    "Test  Data : Model is tested  > Accuracy : 91 % (If accuracy is high  means error is low.)i.e \"Low Variance\".\n",
    "\n",
    "\n",
    "\"Low Bias & Low Variance\".\n"
   ]
  }
 ],
 "metadata": {
  "kernelspec": {
   "display_name": "Python 3 (ipykernel)",
   "language": "python",
   "name": "python3"
  },
  "language_info": {
   "codemirror_mode": {
    "name": "ipython",
    "version": 3
   },
   "file_extension": ".py",
   "mimetype": "text/x-python",
   "name": "python",
   "nbconvert_exporter": "python",
   "pygments_lexer": "ipython3",
   "version": "3.10.8"
  }
 },
 "nbformat": 4,
 "nbformat_minor": 5
}
