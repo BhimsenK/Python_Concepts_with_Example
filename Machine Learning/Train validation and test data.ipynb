{
 "cells": [
  {
   "cell_type": "raw",
   "id": "09bb5570-31be-4285-ab4c-9a13df5e0202",
   "metadata": {},
   "source": [
    "# Train, Validation and test data"
   ]
  },
  {
   "cell_type": "code",
   "execution_count": null,
   "id": "15644a29-ec47-4662-aa54-9e76828fc150",
   "metadata": {},
   "outputs": [],
   "source": []
  },
  {
   "cell_type": "code",
   "execution_count": null,
   "id": "60c09090-0e54-4186-b410-54aa6917d6a4",
   "metadata": {},
   "outputs": [],
   "source": []
  },
  {
   "cell_type": "raw",
   "id": "7afcfab4-456a-42c4-a248-905243a1a1ac",
   "metadata": {},
   "source": [
    "ID\tArea (sq ft)\tRooms\tPrice ($)\n",
    "---------------------------------------\n",
    "1\t  1500\t          3\t     300,000\n",
    "2\t  1800\t          4\t     400,000\n",
    "3\t  1200\t          2\t     200,000\n",
    "4\t  2000\t          5\t     500,000\n",
    "5\t  1700\t          3\t     350,000\n",
    "6\t  2100\t          4\t     450,000\n",
    "7\t  1300\t          2\t     220,000\n",
    "8\t  1900\t          5\t     480,000\n",
    "9\t  1600\t          3\t     330,000\n",
    "10\t  1400\t          4\t     340,000"
   ]
  },
  {
   "cell_type": "raw",
   "id": "28faba20-ea42-4142-838a-e0d5301ff9e2",
   "metadata": {},
   "source": [
    "From this data set, we'll be using suppose 60% data for 'Training', 20% for 'Validation' and rest 20% for \"testing\"."
   ]
  },
  {
   "cell_type": "raw",
   "id": "cff14f2e-f169-46a3-a73e-70155c15b9ca",
   "metadata": {},
   "source": [
    "Why This Splitting is Important\n",
    "Training Data: Helps the model learn the patterns in the data.\n",
    "Validation Data: Helps to tune and select the best model. Prevents overfitting.\n",
    "Test Data: Provides an unbiased evaluation of the model’s performance.\n",
    "By dividing the data this way, we ensure that the model we build is both accurate and generalizes well to new, unseen data."
   ]
  }
 ],
 "metadata": {
  "kernelspec": {
   "display_name": "Python 3 (ipykernel)",
   "language": "python",
   "name": "python3"
  },
  "language_info": {
   "codemirror_mode": {
    "name": "ipython",
    "version": 3
   },
   "file_extension": ".py",
   "mimetype": "text/x-python",
   "name": "python",
   "nbconvert_exporter": "python",
   "pygments_lexer": "ipython3",
   "version": "3.10.8"
  }
 },
 "nbformat": 4,
 "nbformat_minor": 5
}
