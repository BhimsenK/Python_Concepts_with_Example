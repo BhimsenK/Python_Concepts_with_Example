{
 "cells": [
  {
   "cell_type": "code",
   "execution_count": 1,
   "id": "4cf221b9-d60b-4524-bcf0-a4d1d70887e9",
   "metadata": {},
   "outputs": [],
   "source": [
    "#what is machine Learning ?"
   ]
  },
  {
   "cell_type": "raw",
   "id": "a3556f05-ab1e-4b9e-bdff-213bf3cfbfd4",
   "metadata": {},
   "source": [
    "\"Its the subfield of computer science that gives the ability to learn without explicitly programmed \""
   ]
  },
  {
   "cell_type": "raw",
   "id": "e21c5f62-5846-4f3f-b43e-0064a8a1706c",
   "metadata": {},
   "source": [
    "e.g \n",
    "\n",
    "we just search \"which place \" in google an it will give multiple options below in dropdown."
   ]
  },
  {
   "cell_type": "code",
   "execution_count": null,
   "id": "a68d97df-d08e-4bca-9a01-46aa5fb4e8dd",
   "metadata": {},
   "outputs": [],
   "source": []
  },
  {
   "cell_type": "code",
   "execution_count": null,
   "id": "658eea48-1f30-4c44-893c-46c879f07450",
   "metadata": {},
   "outputs": [],
   "source": []
  },
  {
   "cell_type": "raw",
   "id": "9968ce4c-260a-4ac8-9f9d-e8ba81fa26cd",
   "metadata": {},
   "source": [
    "Machine learns pattern from the data and replicate the same in future.\n",
    "\n",
    "e.g \n",
    "\n",
    "Thalapathy Vijay BOC : \n",
    "\n",
    "120 Cr\n",
    "135 Cr\n",
    "156 Cr\n",
    "350 Cr\n",
    "625 Cr\n",
    "\n",
    "\n",
    "Now based on this data, it will predict the BOC of Vijay's next movie. i.e around 400 Cr to 750 Cr.  This is just an example."
   ]
  },
  {
   "cell_type": "code",
   "execution_count": null,
   "id": "e99b47d8-2c0a-4fa9-a493-5b7e0842ee26",
   "metadata": {},
   "outputs": [],
   "source": []
  },
  {
   "cell_type": "code",
   "execution_count": null,
   "id": "6085144a-90a8-41f8-abbe-cf5e1a21beab",
   "metadata": {},
   "outputs": [],
   "source": []
  },
  {
   "cell_type": "raw",
   "id": "80b95e02-b003-46e9-978b-0185782b7e00",
   "metadata": {},
   "source": [
    "TYPES : \n",
    "    \n",
    "i. Supervised Learning\n",
    "ii. Un-Supervised Learning\n",
    "\n",
    "iii. Semi Supervised\n",
    "iv. Reinforcement Learning."
   ]
  },
  {
   "cell_type": "code",
   "execution_count": null,
   "id": "e96df60b-f09e-4883-bbef-472d2b0e314e",
   "metadata": {},
   "outputs": [],
   "source": []
  }
 ],
 "metadata": {
  "kernelspec": {
   "display_name": "Python 3 (ipykernel)",
   "language": "python",
   "name": "python3"
  },
  "language_info": {
   "codemirror_mode": {
    "name": "ipython",
    "version": 3
   },
   "file_extension": ".py",
   "mimetype": "text/x-python",
   "name": "python",
   "nbconvert_exporter": "python",
   "pygments_lexer": "ipython3",
   "version": "3.10.8"
  }
 },
 "nbformat": 4,
 "nbformat_minor": 5
}
