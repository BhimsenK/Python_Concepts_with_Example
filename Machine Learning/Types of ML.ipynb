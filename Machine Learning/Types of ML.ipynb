{
 "cells": [
  {
   "cell_type": "raw",
   "id": "e5ba8345-a047-4e05-b3dd-7b78dbc17461",
   "metadata": {},
   "source": [
    "#Tpes of ML"
   ]
  },
  {
   "cell_type": "code",
   "execution_count": null,
   "id": "ae1ec497-80f6-4480-a837-b10b624ba9c9",
   "metadata": {},
   "outputs": [],
   "source": []
  },
  {
   "cell_type": "raw",
   "id": "4754064a-6f16-4522-bcc6-6d92ba893944",
   "metadata": {},
   "source": [
    "TYPES : \n",
    "    \n",
    "i. Supervised Learning\n",
    "ii. Un-Supervised Learning\n",
    "\n",
    "iii. Semi Supervised\n",
    "iv. Reinforcement Learning."
   ]
  },
  {
   "cell_type": "code",
   "execution_count": null,
   "id": "0cbf0099-d1e1-47ce-97f5-60e60543f03a",
   "metadata": {},
   "outputs": [],
   "source": []
  },
  {
   "cell_type": "code",
   "execution_count": null,
   "id": "9852550a-42e8-4a90-846b-d993b10be2af",
   "metadata": {},
   "outputs": [],
   "source": []
  },
  {
   "cell_type": "raw",
   "id": "623b1956-0ca2-4a00-b967-fe81c8f3e755",
   "metadata": {},
   "source": [
    "                                  # Supervised Learning"
   ]
  },
  {
   "cell_type": "raw",
   "id": "dd17d295-0a7b-497b-b359-242b961d7348",
   "metadata": {},
   "source": [
    "E.g\n",
    "\n",
    "          (Independance Features)   (Dependent)\n",
    "          ----------------------------------------\n",
    "HouseID\t  SquareFeet\tRooms\t      Price\n",
    "1\t        1500\t      3\t          300000\n",
    "2\t        1600\t      3\t          320000\n",
    "3\t        1700\t      4\t          350000\n",
    "4\t        1800\t      4\t            ?\n",
    "\n",
    "\n",
    "\n",
    "so to find the Price of 4th house, we will predict on the basis of 1st 3 Data.\n",
    "\n",
    "Note : 1st 3 datas are acting as a supervisor."
   ]
  },
  {
   "cell_type": "code",
   "execution_count": null,
   "id": "5b658d07-995e-490e-a268-c38ac3def70c",
   "metadata": {},
   "outputs": [],
   "source": []
  },
  {
   "cell_type": "raw",
   "id": "dd44392a-728b-44a8-acf6-6c411d0819ce",
   "metadata": {},
   "source": [
    "Types\n",
    "\n",
    "i.  Regression\n",
    "ii. Classification\n",
    "----------------\n",
    "\n",
    "\n",
    "\n",
    "i. Regression\n",
    "\n",
    "> e.g \n",
    "\n",
    "Examples of Regression Problems:\n",
    "\n",
    "1) Predicting house prices based on features such as size, location, number of bedrooms, etc.\n",
    "\n",
    "2) Estimating the salary of an employee based on their experience, education level, and other features.\n",
    "\n",
    "3) Forecasting stock prices based on historical data.\n",
    "\n",
    "\n",
    "\n",
    "\n",
    "\n",
    "ii. Classification\n",
    "> e.g \n",
    "\n",
    "Examples of Classification Problems:\n",
    "\n",
    "1) Email spam detection: Classifying emails as \"spam\" or \"not spam\".\n",
    "\n",
    "2) Image recognition: Identifying objects in images, such as \"cat\", \"dog\", \"car\", etc.\n",
    "\n",
    "3) Disease diagnosis: Classifying whether a patient has a particular disease based on their medical features.\n",
    "\n",
    "4)Sentiment analysis: Determining the sentiment of a piece of text, such as \"positive\", \"negative\", or \"neutral\"."
   ]
  },
  {
   "cell_type": "code",
   "execution_count": null,
   "id": "5488bff0-72aa-4e8b-8365-457772ed935a",
   "metadata": {},
   "outputs": [],
   "source": []
  },
  {
   "cell_type": "code",
   "execution_count": null,
   "id": "c19f8b73-6abe-4ece-bfe1-3485208a7f90",
   "metadata": {},
   "outputs": [],
   "source": []
  },
  {
   "cell_type": "code",
   "execution_count": null,
   "id": "815b9660-6670-4c36-8d9c-c5b5ad430030",
   "metadata": {},
   "outputs": [],
   "source": []
  },
  {
   "cell_type": "raw",
   "id": "8d7ca3d0-12ea-482c-aafc-e2178009df62",
   "metadata": {},
   "source": [
    "                                  # Un-Supervised Learning"
   ]
  },
  {
   "cell_type": "raw",
   "id": "18aa0c36-463d-4a87-80e5-769cac4bca9b",
   "metadata": {},
   "source": [
    "No Historical Data."
   ]
  },
  {
   "cell_type": "raw",
   "id": "112ba437-03a0-46dd-a62c-49011775e594",
   "metadata": {},
   "source": [
    "Unsupervised learning is a type of machine learning where the model is trained on data that does not have labeled responses. Instead of predicting a specific output, the goal is to infer the natural structure present within a set of data points. Unsupervised learning can be broadly categorized into clustering and association."
   ]
  },
  {
   "cell_type": "code",
   "execution_count": null,
   "id": "8c361959-219c-4b24-b7ea-71c88419e149",
   "metadata": {},
   "outputs": [],
   "source": []
  },
  {
   "cell_type": "raw",
   "id": "ae24d8e5-ccbe-4da7-97c9-f70e9cd35060",
   "metadata": {},
   "source": [
    "                                  # Semi-Supervised Learning"
   ]
  },
  {
   "cell_type": "raw",
   "id": "418500e8-057e-4fd7-aee7-8218168224b0",
   "metadata": {},
   "source": [
    "Combination of Spervised and Unsupervised Learning."
   ]
  },
  {
   "cell_type": "raw",
   "id": "75af48b5-a4e2-44cd-8195-5544e3eaac26",
   "metadata": {},
   "source": [
    "e.g \n",
    "\n",
    "Scenario: Imagine a hospital has a dataset of patient X-ray images. Only a small fraction of these images are labeled by radiologists indicating the presence or absence of a disease, while the majority are unlabeled.\n",
    "\n",
    "Challenge: Manually labeling all the X-ray images is time-consuming and requires expert knowledge.\n",
    "\n",
    "Semi-Supervised Learning Solution:\n",
    "\n",
    "Initial Training: Use the labeled X-ray images to train an initial disease detection model.\n",
    "Label Propagation: Apply the trained model to the unlabeled images to predict labels (disease or no disease).\n",
    "Model Retraining: Combine the originally labeled images with the newly labeled images (predicted by the model) to retrain and refine the model.\n",
    "Outcome: This process allows the hospital to leverage a large amount of unlabeled X-ray data, improving the disease detection model’s accuracy and aiding doctors in making quicker and more accurate diagnoses."
   ]
  },
  {
   "cell_type": "code",
   "execution_count": null,
   "id": "ee16bb0f-4cb1-41af-bff6-02baf843bc9c",
   "metadata": {},
   "outputs": [],
   "source": []
  },
  {
   "cell_type": "code",
   "execution_count": null,
   "id": "3fc53c2f-00a5-42ee-9c70-f49d283d6069",
   "metadata": {},
   "outputs": [],
   "source": []
  },
  {
   "cell_type": "code",
   "execution_count": null,
   "id": "d291c8ff-b013-4be5-8b2c-316a73874464",
   "metadata": {},
   "outputs": [],
   "source": []
  },
  {
   "cell_type": "code",
   "execution_count": null,
   "id": "b1620cb5-ac82-4c73-86e7-a98cbd4aee09",
   "metadata": {},
   "outputs": [],
   "source": []
  },
  {
   "cell_type": "raw",
   "id": "aab5dd68-3f55-4a48-9c61-642b508cfa7e",
   "metadata": {},
   "source": [
    "                                  # Re-Inforcement Learning"
   ]
  },
  {
   "cell_type": "raw",
   "id": "9eba5207-9b1c-4fec-b7c1-2cf81fc71710",
   "metadata": {},
   "source": [
    "Reinforcement Learning Process:\n",
    "-----------------------------------\n",
    "Exploration: \n",
    "  The owner throws the ball, and the dog explores different actions like moving towards the ball, picking it up, and bringing   it back. The owner rewards the dog with a treat when it successfully retrieves the ball.\n",
    "\n",
    "Learning: \n",
    "  Over time, the dog learns which actions lead to rewards (fetching the ball) and which actions do not. It forms associations   between its actions and the resulting rewards or penalties.\n",
    "\n",
    "Optimization: \n",
    "  The dog gradually improves its strategy by repeating successful actions (e.g., running towards the ball) and avoiding         unsuccessful ones (e.g., getting distracted by squirrels). It learns to optimize its behavior to maximize the rewards         (treats).\n",
    " \n",
    "Generalization: \n",
    "  The dog generalizes its learning to similar situations, such as fetching balls of different sizes or colors in various         locations. It applies its learned behavior in new contexts based on past experiences.\n",
    "\n",
    "Continuous Learning: \n",
    "  The owner continues to reinforce desired behaviors and correct unwanted ones, guiding the dog's learning process over time.   With consistent training and practice, the dog becomes more proficient at fetching the ball.\n",
    "\n",
    "\n",
    "Summary:\n",
    "----------\n",
    "Teaching a dog to fetch a ball provides a tangible and relatable example of reinforcement learning in action. Through repeated interactions with the environment and feedback from rewards or penalties, the dog learns to navigate the backyard, retrieve the ball, and return it to the owner, demonstrating the fundamental principles of reinforcement learning in a simple and understandable context.\n",
    "\n",
    "\n",
    "\n",
    "\n",
    "\n",
    "\n"
   ]
  }
 ],
 "metadata": {
  "kernelspec": {
   "display_name": "Python 3 (ipykernel)",
   "language": "python",
   "name": "python3"
  },
  "language_info": {
   "codemirror_mode": {
    "name": "ipython",
    "version": 3
   },
   "file_extension": ".py",
   "mimetype": "text/x-python",
   "name": "python",
   "nbconvert_exporter": "python",
   "pygments_lexer": "ipython3",
   "version": "3.10.8"
  }
 },
 "nbformat": 4,
 "nbformat_minor": 5
}
