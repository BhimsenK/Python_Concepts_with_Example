{
 "cells": [
  {
   "cell_type": "code",
   "execution_count": 33,
   "metadata": {},
   "outputs": [
    {
     "name": "stdout",
     "output_type": "stream",
     "text": [
      "Using jupyter notebook in vscode !!!\n"
     ]
    }
   ],
   "source": [
    "print(f'Using jupyter notebook in vscode !!!')"
   ]
  },
  {
   "cell_type": "code",
   "execution_count": 34,
   "metadata": {},
   "outputs": [],
   "source": [
    "#Write a code to read the contents of a file in Python"
   ]
  },
  {
   "cell_type": "code",
   "execution_count": 35,
   "metadata": {},
   "outputs": [
    {
     "name": "stdout",
     "output_type": "stream",
     "text": [
      "Jai Shri Ram !!!\n",
      "Prabhu Shri Ram chandra ki Jai !!!\n",
      "\n"
     ]
    }
   ],
   "source": [
    "with open(\"readme_test.txt\", 'r') as file:\n",
    "    re = file.read()\n",
    "    print(re)"
   ]
  },
  {
   "cell_type": "code",
   "execution_count": 36,
   "metadata": {},
   "outputs": [],
   "source": [
    "#Write a code to write to a file in Python"
   ]
  },
  {
   "cell_type": "code",
   "execution_count": 37,
   "metadata": {},
   "outputs": [
    {
     "name": "stdout",
     "output_type": "stream",
     "text": [
      "Jai Shri Ram !!!\n",
      "Prabhu Shri Ram chandra ki Jai !!!\n",
      "\n",
      "Jai Shri Ram !!!\n"
     ]
    }
   ],
   "source": [
    "#before\n",
    "with open(\"readme_test.txt\", 'r') as file:\n",
    "    re = file.read()\n",
    "    print(re)\n",
    "\n",
    "\n",
    "#write\n",
    "with open(\"readme_test.txt\", 'w') as file:\n",
    "    file.write('Jai Shri Ram !!!')\n",
    "#--------------\n",
    "\n",
    "#after\n",
    "with open(\"readme_test.txt\", 'r') as file:\n",
    "    re = file.read()\n",
    "    print(re)\n"
   ]
  },
  {
   "cell_type": "code",
   "execution_count": 38,
   "metadata": {},
   "outputs": [],
   "source": [
    "#Write a code to append to a file in Python"
   ]
  },
  {
   "cell_type": "code",
   "execution_count": 39,
   "metadata": {},
   "outputs": [
    {
     "name": "stdout",
     "output_type": "stream",
     "text": [
      "Jai Shri Ram !!!\n",
      "Jai Shri Ram !!!Prabhu Shri Ram chandra ki Jai !!!\n",
      "\n"
     ]
    }
   ],
   "source": [
    "#before\n",
    "with open(\"readme_test.txt\", 'r') as file:\n",
    "    re = file.read()\n",
    "    print(re)\n",
    "\n",
    "#write\n",
    "with open(\"readme_test.txt\", 'a') as file:\n",
    "    file.write('Prabhu Shri Ram chandra ki Jai !!!\\n')\n",
    "\n",
    "#after\n",
    "with open(\"readme_test.txt\", 'r') as file:\n",
    "    re = file.read()\n",
    "    print(re)"
   ]
  },
  {
   "cell_type": "code",
   "execution_count": 40,
   "metadata": {},
   "outputs": [],
   "source": [
    "#Write a code to read a binary file in Python"
   ]
  },
  {
   "cell_type": "code",
   "execution_count": 41,
   "metadata": {},
   "outputs": [],
   "source": [
    "with open(\"sample_data.bin\", 'rb') as file:\n",
    "    content = file.read()"
   ]
  },
  {
   "cell_type": "code",
   "execution_count": 42,
   "metadata": {},
   "outputs": [],
   "source": [
    "#What happens if we don't use `with` keyword with `open` in python ?"
   ]
  },
  {
   "cell_type": "code",
   "execution_count": 43,
   "metadata": {},
   "outputs": [
    {
     "name": "stdout",
     "output_type": "stream",
     "text": [
      "Jai Shri Ram !!!Prabhu Shri Ram chandra ki Jai !!!\n",
      "\n",
      "Jai Shri Ram !!!Prabhu Shri Ram chandra ki Jai !!!\n",
      "\n"
     ]
    }
   ],
   "source": [
    "'''\n",
    "\"With\" we are using only cause we don't need to close the connection manually. \n",
    "If we don't use \"with\" then need to close the connection manually.\n",
    "'''\n",
    "# using WITH\n",
    "with open(\"readme_test.txt\", 'r') as file:\n",
    "    content = file.read()\n",
    "    print(content)\n",
    "\n",
    "# without using WITH\n",
    "file = open(\"readme_test.txt\", 'r')\n",
    "content = file.read()\n",
    "file.close()\n",
    "print(content)\n"
   ]
  },
  {
   "cell_type": "code",
   "execution_count": 44,
   "metadata": {},
   "outputs": [],
   "source": [
    "#Explain the concept of buffering in file handling and how it helps in improving read and write operations"
   ]
  },
  {
   "cell_type": "code",
   "execution_count": 45,
   "metadata": {},
   "outputs": [
    {
     "name": "stdout",
     "output_type": "stream",
     "text": [
      "Jai Shri Ram !!!Prabhu Shri Ram chandra ki Jai !!!\n",
      "Data has been written to output.txt.\n"
     ]
    }
   ],
   "source": [
    "# Example of reading from a file with buffering\n",
    "with open(\"readme_test.txt\", \"r\") as file:\n",
    "    # Read data line by line\n",
    "    for line in file:\n",
    "        print(line.strip())  # Strip newline characters and print each line\n",
    "\n",
    "# Example of writing to a file with buffering\n",
    "with open(\"output.txt\", \"w\") as file:\n",
    "    # Write data to the file\n",
    "    for i in range(10):\n",
    "        file.write(f\"Line {i+1}\\n\")  # Writing data to the file\n",
    "\n",
    "print(\"Data has been written to output.txt.\")\n"
   ]
  },
  {
   "cell_type": "code",
   "execution_count": 46,
   "metadata": {},
   "outputs": [],
   "source": [
    "#Describe the steps involved in implementing buffered file handling in a programming language of your choice."
   ]
  },
  {
   "cell_type": "code",
   "execution_count": 47,
   "metadata": {},
   "outputs": [
    {
     "name": "stdout",
     "output_type": "stream",
     "text": [
      "This is some text that we want to write to the file.\n"
     ]
    }
   ],
   "source": [
    "# Open the file in write mode\n",
    "with open(\"example.txt\", \"w\") as file:\n",
    "    # Create a buffer\n",
    "    buffer = \"This is some text that we want to write to the file.\"\n",
    "    \n",
    "    # Write data to the buffer\n",
    "    file.write(buffer)\n",
    "\n",
    "# Open the file in read mode\n",
    "with open(\"example.txt\", \"r\") as file:\n",
    "    # Create a buffer to read data into\n",
    "    buffer = file.read()\n",
    "    \n",
    "    # Process data in the buffer\n",
    "    print(buffer)\n"
   ]
  },
  {
   "cell_type": "code",
   "execution_count": 48,
   "metadata": {},
   "outputs": [],
   "source": [
    "#Write a Python function to read a text file using buffered reading and return its contents"
   ]
  },
  {
   "cell_type": "code",
   "execution_count": 49,
   "metadata": {},
   "outputs": [
    {
     "name": "stdout",
     "output_type": "stream",
     "text": [
      "File contents:\n",
      "This is some text that we want to write to the file.\n"
     ]
    }
   ],
   "source": [
    "def read_file(file_path):\n",
    "    try:\n",
    "        # Open the file\n",
    "        with open(file_path, 'r') as file:\n",
    "            # Read the entire file and return its contents\n",
    "            return file.read()\n",
    "    except FileNotFoundError:\n",
    "        print(f\"File '{file_path}' not found.\")\n",
    "        return None\n",
    "    except IOError as e:\n",
    "        print(f\"Error reading file: {e}\")\n",
    "        return None\n",
    "\n",
    "# Example usage:\n",
    "file_contents = read_file(\"example.txt\")\n",
    "if file_contents:\n",
    "    print(\"File contents:\")\n",
    "    print(file_contents)\n"
   ]
  },
  {
   "cell_type": "code",
   "execution_count": 50,
   "metadata": {},
   "outputs": [],
   "source": [
    "#What are the advantages of using buffered reading over direct file reading in Python"
   ]
  },
  {
   "cell_type": "code",
   "execution_count": 51,
   "metadata": {},
   "outputs": [
    {
     "data": {
      "text/plain": [
       "\"\\nFaster Reading: Buffered reading helps you read files more quickly because it grabs a bunch of data at once instead of getting it bit by bit. It's like filling a big bucket with water all at once instead of using a tiny cup.\\n\\nLess Strain on Your Computer: When you read a file, your computer has to talk to its storage (like a hard drive or SSD). Buffered reading makes your computer talk to storage less often, which is like not having to walk back and forth to the kitchen every time you need something while cooking.\\n\\nSaves Time and Energy: Buffered reading saves time because your computer doesn't have to keep asking for small bits of data. It's like doing all your grocery shopping in one trip instead of going to the store multiple times.\\n\\nGives You Control: With buffered reading, you can decide how much data your computer grabs at once. If you need a lot of data, you can tell it to grab more. If you only need a little bit, you can ask for less. It's like being able to choose between carrying a big bag or a small bag when going shopping.\\n\\nLets You Do More with Your Data: Buffered reading lets you play around with the data you've read before doing anything else. You can manipulate it, search through it, or do whatever you want with it before saving it or doing more work. It's like being able to mix ingredients together before baking a cake instead of pouring them straight into the pan.\\n\""
      ]
     },
     "execution_count": 51,
     "metadata": {},
     "output_type": "execute_result"
    }
   ],
   "source": [
    "\"\"\"\n",
    "Faster Reading: Buffered reading helps you read files more quickly because it grabs a bunch of data at once instead of getting it bit by bit. It's like filling a big bucket with water all at once instead of using a tiny cup.\n",
    "\n",
    "Less Strain on Your Computer: When you read a file, your computer has to talk to its storage (like a hard drive or SSD). Buffered reading makes your computer talk to storage less often, which is like not having to walk back and forth to the kitchen every time you need something while cooking.\n",
    "\n",
    "Saves Time and Energy: Buffered reading saves time because your computer doesn't have to keep asking for small bits of data. It's like doing all your grocery shopping in one trip instead of going to the store multiple times.\n",
    "\n",
    "Gives You Control: With buffered reading, you can decide how much data your computer grabs at once. If you need a lot of data, you can tell it to grab more. If you only need a little bit, you can ask for less. It's like being able to choose between carrying a big bag or a small bag when going shopping.\n",
    "\n",
    "Lets You Do More with Your Data: Buffered reading lets you play around with the data you've read before doing anything else. You can manipulate it, search through it, or do whatever you want with it before saving it or doing more work. It's like being able to mix ingredients together before baking a cake instead of pouring them straight into the pan.\n",
    "\"\"\""
   ]
  },
  {
   "cell_type": "code",
   "execution_count": 52,
   "metadata": {},
   "outputs": [],
   "source": [
    "#Write a Python code snippet to append content to a file using buffered writing"
   ]
  },
  {
   "cell_type": "code",
   "execution_count": 53,
   "metadata": {},
   "outputs": [],
   "source": [
    "with open(\"example.txt\", 'a') as file:\n",
    "    # Add the new content to the end of the file\n",
    "    file.write(\"\\nThis is some new content!\")"
   ]
  },
  {
   "cell_type": "code",
   "execution_count": 54,
   "metadata": {},
   "outputs": [],
   "source": [
    "#Write a Python function that demonstrates the use of close() method on a file"
   ]
  },
  {
   "cell_type": "code",
   "execution_count": 55,
   "metadata": {},
   "outputs": [
    {
     "name": "stdout",
     "output_type": "stream",
     "text": [
      "File closed.\n"
     ]
    }
   ],
   "source": [
    "# Open a file in write mode\n",
    "file = open(\"example.txt\", 'w')\n",
    "file.write(\"This is some content to write to the file.\")\n",
    "file.close()\n",
    "print(\"File closed.\")\n"
   ]
  },
  {
   "cell_type": "code",
   "execution_count": 56,
   "metadata": {},
   "outputs": [],
   "source": [
    "#Create a Python function to showcase the detach() method on a file object"
   ]
  },
  {
   "cell_type": "code",
   "execution_count": 57,
   "metadata": {},
   "outputs": [
    {
     "name": "stdout",
     "output_type": "stream",
     "text": [
      "File descriptor detached.\n",
      "Detached file descriptor closed.\n"
     ]
    }
   ],
   "source": [
    "try:\n",
    "    file = open(\"example.txt\", 'w')\n",
    "    file.write(\"This is some content to write to the file.\")\n",
    "    file_descriptor = file.detach()\n",
    "    print(\"File descriptor detached.\")\n",
    "    \n",
    "    # Now, the file object is unusable for further I/O operations\n",
    "    # Let's try to write to it again (this will raise an AttributeError)\n",
    "    # file.write(\"Trying to write to detached file.\")\n",
    "\n",
    "    file_descriptor.close()\n",
    "    print(\"Detached file descriptor closed.\")\n",
    "except IOError as e:\n",
    "    print(f\"Error: {e}\")\n"
   ]
  },
  {
   "cell_type": "code",
   "execution_count": 58,
   "metadata": {},
   "outputs": [
    {
     "ename": "ValueError",
     "evalue": "underlying buffer has been detached",
     "output_type": "error",
     "traceback": [
      "\u001b[0;31m---------------------------------------------------------------------------\u001b[0m",
      "\u001b[0;31mValueError\u001b[0m                                Traceback (most recent call last)",
      "Cell \u001b[0;32mIn[58], line 1\u001b[0m\n\u001b[0;32m----> 1\u001b[0m \u001b[43mfile\u001b[49m\u001b[38;5;241;43m.\u001b[39;49m\u001b[43mwrite\u001b[49m\u001b[43m(\u001b[49m\u001b[38;5;124;43m\"\u001b[39;49m\u001b[38;5;124;43mTrying to write to detached file.\u001b[39;49m\u001b[38;5;124;43m\"\u001b[39;49m\u001b[43m)\u001b[49m\n",
      "\u001b[0;31mValueError\u001b[0m: underlying buffer has been detached"
     ]
    }
   ],
   "source": [
    "file.write(\"Trying to write to detached file.\")"
   ]
  },
  {
   "cell_type": "code",
   "execution_count": null,
   "metadata": {},
   "outputs": [],
   "source": [
    "'''Now we need to create separate/ diff. object if we need to write/ read the file.'''\n",
    "file = open(\"example.txt\", 'w')\n",
    "file.write(\"This is some content to write to the file after detach by creating new object.\")\n",
    "file.close()"
   ]
  },
  {
   "cell_type": "code",
   "execution_count": null,
   "metadata": {},
   "outputs": [],
   "source": [
    "#Write a Python function to demonstrate the use of the seek() method to change the file position"
   ]
  },
  {
   "cell_type": "code",
   "execution_count": null,
   "metadata": {},
   "outputs": [
    {
     "name": "stdout",
     "output_type": "stream",
     "text": [
      "Initial file contents:\n",
      "This is some content to write to the file after detach by creating new object.\n",
      "\n",
      "File contents after seeking:\n",
      "me content to write to the file after detach by creating new object.\n"
     ]
    }
   ],
   "source": [
    "with open(\"example.txt\", 'r') as file:\n",
    "    # Read and print the initial file contents\n",
    "    print(\"Initial file contents:\")\n",
    "    print(file.read())\n",
    "    \n",
    "    file.seek(10, 0)\n",
    "    \n",
    "    #reading after 10th character.\n",
    "    print(\"\\nFile contents after seeking:\")\n",
    "    print(file.read())"
   ]
  },
  {
   "cell_type": "code",
   "execution_count": null,
   "metadata": {},
   "outputs": [],
   "source": [
    "#Create a Python function to return the file descriptor (integer number) of a file using the fileno() method"
   ]
  },
  {
   "cell_type": "code",
   "execution_count": null,
   "metadata": {},
   "outputs": [
    {
     "name": "stdout",
     "output_type": "stream",
     "text": [
      "File descriptor: 62\n"
     ]
    }
   ],
   "source": [
    "with open(\"example.txt\", 'r') as file:\n",
    "    # Get the file descriptor using the fileno() method\n",
    "    file_descriptor = file.fileno()\n",
    "    print(f\"File descriptor: {file_descriptor}\")"
   ]
  },
  {
   "cell_type": "code",
   "execution_count": null,
   "metadata": {},
   "outputs": [],
   "source": [
    "#Write a Python function to return the current position of the file's object using the tell() method\n"
   ]
  },
  {
   "cell_type": "code",
   "execution_count": null,
   "metadata": {},
   "outputs": [
    {
     "name": "stdout",
     "output_type": "stream",
     "text": [
      "Current file position: 0\n"
     ]
    }
   ],
   "source": [
    "# Open the file in read mode\n",
    "with open(\"example.txt\", 'r') as file:\n",
    "    # Get the current position using the tell() method\n",
    "    current_position = file.tell()\n",
    "    print(f\"Current file position: {current_position}\")\n"
   ]
  },
  {
   "cell_type": "code",
   "execution_count": 59,
   "metadata": {},
   "outputs": [],
   "source": [
    "#Create a Python program that logs a message to a file using the logging module "
   ]
  },
  {
   "cell_type": "code",
   "execution_count": 60,
   "metadata": {},
   "outputs": [],
   "source": [
    "import logging\n",
    "\n",
    "logging.basicConfig(filename='example.log', level=logging.INFO, format='%(asctime)s - %(levelname)s - %(message)s')\n",
    "logging.info('This is a log message.')\n",
    "\n",
    "# Close the file handler to ensure all messages are flushed to the file\n",
    "logging.shutdown()\n"
   ]
  },
  {
   "cell_type": "code",
   "execution_count": 61,
   "metadata": {},
   "outputs": [],
   "source": [
    "#Explain the importance of logging levels in Python's logging module"
   ]
  },
  {
   "cell_type": "code",
   "execution_count": null,
   "metadata": {},
   "outputs": [],
   "source": [
    "'''\n",
    "Logging levels in Python's logging module help categorize log messages based on their severity, \n",
    "making it easier to understand, filter, and prioritize messages. \n",
    "They provide granularity, clarity, configurability, and standardization to the logging process.\n",
    "'''"
   ]
  },
  {
   "cell_type": "code",
   "execution_count": 62,
   "metadata": {},
   "outputs": [],
   "source": [
    "#Create a Python program that uses the debugger to find the value of a variable inside a loop"
   ]
  },
  {
   "cell_type": "code",
   "execution_count": null,
   "metadata": {},
   "outputs": [],
   "source": [
    "import pdb\n",
    "\n",
    "# Define a loop\n",
    "for i in range(5):\n",
    "    # Variable whose value we want to inspect\n",
    "    variable = i * 2\n",
    "    \n",
    "    # Set a breakpoint to pause execution\n",
    "    pdb.set_trace()\n",
    "    \n",
    "    # Print the variable\n",
    "    print(\"Value of variable:\", variable)\n"
   ]
  },
  {
   "cell_type": "code",
   "execution_count": 2,
   "metadata": {},
   "outputs": [],
   "source": [
    "#Create a Python program that demonstrates setting breakpoints and inspecting variables using the debugge"
   ]
  },
  {
   "cell_type": "code",
   "execution_count": null,
   "metadata": {},
   "outputs": [],
   "source": [
    "import pdb\n",
    "\n",
    "# Define a variable\n",
    "my_variable = 42\n",
    "\n",
    "# Set a breakpoint here\n",
    "pdb.set_trace()\n",
    "\n",
    "# Modify the variable\n",
    "my_variable += 10\n",
    "\n",
    "# Print the modified variable\n",
    "print(\"Modified variable:\", my_variable)\n"
   ]
  },
  {
   "cell_type": "code",
   "execution_count": 1,
   "metadata": {},
   "outputs": [],
   "source": [
    "#Create a Python program that uses the debugger to trace a recursive function"
   ]
  },
  {
   "cell_type": "code",
   "execution_count": 2,
   "metadata": {},
   "outputs": [
    {
     "name": "stdout",
     "output_type": "stream",
     "text": [
      "n : 5\n",
      "> \u001b[0;32m/tmp/ipykernel_1391/2084176449.py\u001b[0m(9)\u001b[0;36mfactorial\u001b[0;34m()\u001b[0m\n",
      "\u001b[0;32m      7 \u001b[0;31m    \u001b[0mpdb\u001b[0m\u001b[0;34m.\u001b[0m\u001b[0mset_trace\u001b[0m\u001b[0;34m(\u001b[0m\u001b[0;34m)\u001b[0m\u001b[0;34m\u001b[0m\u001b[0;34m\u001b[0m\u001b[0m\n",
      "\u001b[0m\u001b[0;32m      8 \u001b[0;31m\u001b[0;34m\u001b[0m\u001b[0m\n",
      "\u001b[0m\u001b[0;32m----> 9 \u001b[0;31m    \u001b[0;32mif\u001b[0m \u001b[0mn\u001b[0m \u001b[0;34m==\u001b[0m \u001b[0;36m0\u001b[0m\u001b[0;34m:\u001b[0m\u001b[0;34m\u001b[0m\u001b[0;34m\u001b[0m\u001b[0m\n",
      "\u001b[0m\u001b[0;32m     10 \u001b[0;31m        \u001b[0;32mreturn\u001b[0m \u001b[0;36m1\u001b[0m\u001b[0;34m\u001b[0m\u001b[0;34m\u001b[0m\u001b[0m\n",
      "\u001b[0m\u001b[0;32m     11 \u001b[0;31m    \u001b[0;32melse\u001b[0m\u001b[0;34m:\u001b[0m\u001b[0;34m\u001b[0m\u001b[0;34m\u001b[0m\u001b[0m\n",
      "\u001b[0m\n",
      "n : 4\n",
      "> \u001b[0;32m/tmp/ipykernel_1391/2084176449.py\u001b[0m(9)\u001b[0;36mfactorial\u001b[0;34m()\u001b[0m\n",
      "\u001b[0;32m      7 \u001b[0;31m    \u001b[0mpdb\u001b[0m\u001b[0;34m.\u001b[0m\u001b[0mset_trace\u001b[0m\u001b[0;34m(\u001b[0m\u001b[0;34m)\u001b[0m\u001b[0;34m\u001b[0m\u001b[0;34m\u001b[0m\u001b[0m\n",
      "\u001b[0m\u001b[0;32m      8 \u001b[0;31m\u001b[0;34m\u001b[0m\u001b[0m\n",
      "\u001b[0m\u001b[0;32m----> 9 \u001b[0;31m    \u001b[0;32mif\u001b[0m \u001b[0mn\u001b[0m \u001b[0;34m==\u001b[0m \u001b[0;36m0\u001b[0m\u001b[0;34m:\u001b[0m\u001b[0;34m\u001b[0m\u001b[0;34m\u001b[0m\u001b[0m\n",
      "\u001b[0m\u001b[0;32m     10 \u001b[0;31m        \u001b[0;32mreturn\u001b[0m \u001b[0;36m1\u001b[0m\u001b[0;34m\u001b[0m\u001b[0;34m\u001b[0m\u001b[0m\n",
      "\u001b[0m\u001b[0;32m     11 \u001b[0;31m    \u001b[0;32melse\u001b[0m\u001b[0;34m:\u001b[0m\u001b[0;34m\u001b[0m\u001b[0;34m\u001b[0m\u001b[0m\n",
      "\u001b[0m\n",
      "n : 3\n",
      "> \u001b[0;32m/tmp/ipykernel_1391/2084176449.py\u001b[0m(9)\u001b[0;36mfactorial\u001b[0;34m()\u001b[0m\n",
      "\u001b[0;32m      7 \u001b[0;31m    \u001b[0mpdb\u001b[0m\u001b[0;34m.\u001b[0m\u001b[0mset_trace\u001b[0m\u001b[0;34m(\u001b[0m\u001b[0;34m)\u001b[0m\u001b[0;34m\u001b[0m\u001b[0;34m\u001b[0m\u001b[0m\n",
      "\u001b[0m\u001b[0;32m      8 \u001b[0;31m\u001b[0;34m\u001b[0m\u001b[0m\n",
      "\u001b[0m\u001b[0;32m----> 9 \u001b[0;31m    \u001b[0;32mif\u001b[0m \u001b[0mn\u001b[0m \u001b[0;34m==\u001b[0m \u001b[0;36m0\u001b[0m\u001b[0;34m:\u001b[0m\u001b[0;34m\u001b[0m\u001b[0;34m\u001b[0m\u001b[0m\n",
      "\u001b[0m\u001b[0;32m     10 \u001b[0;31m        \u001b[0;32mreturn\u001b[0m \u001b[0;36m1\u001b[0m\u001b[0;34m\u001b[0m\u001b[0;34m\u001b[0m\u001b[0m\n",
      "\u001b[0m\u001b[0;32m     11 \u001b[0;31m    \u001b[0;32melse\u001b[0m\u001b[0;34m:\u001b[0m\u001b[0;34m\u001b[0m\u001b[0;34m\u001b[0m\u001b[0m\n",
      "\u001b[0m\n",
      "n : 2\n",
      "> \u001b[0;32m/tmp/ipykernel_1391/2084176449.py\u001b[0m(9)\u001b[0;36mfactorial\u001b[0;34m()\u001b[0m\n",
      "\u001b[0;32m      7 \u001b[0;31m    \u001b[0mpdb\u001b[0m\u001b[0;34m.\u001b[0m\u001b[0mset_trace\u001b[0m\u001b[0;34m(\u001b[0m\u001b[0;34m)\u001b[0m\u001b[0;34m\u001b[0m\u001b[0;34m\u001b[0m\u001b[0m\n",
      "\u001b[0m\u001b[0;32m      8 \u001b[0;31m\u001b[0;34m\u001b[0m\u001b[0m\n",
      "\u001b[0m\u001b[0;32m----> 9 \u001b[0;31m    \u001b[0;32mif\u001b[0m \u001b[0mn\u001b[0m \u001b[0;34m==\u001b[0m \u001b[0;36m0\u001b[0m\u001b[0;34m:\u001b[0m\u001b[0;34m\u001b[0m\u001b[0;34m\u001b[0m\u001b[0m\n",
      "\u001b[0m\u001b[0;32m     10 \u001b[0;31m        \u001b[0;32mreturn\u001b[0m \u001b[0;36m1\u001b[0m\u001b[0;34m\u001b[0m\u001b[0;34m\u001b[0m\u001b[0m\n",
      "\u001b[0m\u001b[0;32m     11 \u001b[0;31m    \u001b[0;32melse\u001b[0m\u001b[0;34m:\u001b[0m\u001b[0;34m\u001b[0m\u001b[0;34m\u001b[0m\u001b[0m\n",
      "\u001b[0m\n",
      "n : 1\n",
      "> \u001b[0;32m/tmp/ipykernel_1391/2084176449.py\u001b[0m(9)\u001b[0;36mfactorial\u001b[0;34m()\u001b[0m\n",
      "\u001b[0;32m      7 \u001b[0;31m    \u001b[0mpdb\u001b[0m\u001b[0;34m.\u001b[0m\u001b[0mset_trace\u001b[0m\u001b[0;34m(\u001b[0m\u001b[0;34m)\u001b[0m\u001b[0;34m\u001b[0m\u001b[0;34m\u001b[0m\u001b[0m\n",
      "\u001b[0m\u001b[0;32m      8 \u001b[0;31m\u001b[0;34m\u001b[0m\u001b[0m\n",
      "\u001b[0m\u001b[0;32m----> 9 \u001b[0;31m    \u001b[0;32mif\u001b[0m \u001b[0mn\u001b[0m \u001b[0;34m==\u001b[0m \u001b[0;36m0\u001b[0m\u001b[0;34m:\u001b[0m\u001b[0;34m\u001b[0m\u001b[0;34m\u001b[0m\u001b[0m\n",
      "\u001b[0m\u001b[0;32m     10 \u001b[0;31m        \u001b[0;32mreturn\u001b[0m \u001b[0;36m1\u001b[0m\u001b[0;34m\u001b[0m\u001b[0;34m\u001b[0m\u001b[0m\n",
      "\u001b[0m\u001b[0;32m     11 \u001b[0;31m    \u001b[0;32melse\u001b[0m\u001b[0;34m:\u001b[0m\u001b[0;34m\u001b[0m\u001b[0;34m\u001b[0m\u001b[0m\n",
      "\u001b[0m\n",
      "n : 0\n",
      "> \u001b[0;32m/tmp/ipykernel_1391/2084176449.py\u001b[0m(9)\u001b[0;36mfactorial\u001b[0;34m()\u001b[0m\n",
      "\u001b[0;32m      7 \u001b[0;31m    \u001b[0mpdb\u001b[0m\u001b[0;34m.\u001b[0m\u001b[0mset_trace\u001b[0m\u001b[0;34m(\u001b[0m\u001b[0;34m)\u001b[0m\u001b[0;34m\u001b[0m\u001b[0;34m\u001b[0m\u001b[0m\n",
      "\u001b[0m\u001b[0;32m      8 \u001b[0;31m\u001b[0;34m\u001b[0m\u001b[0m\n",
      "\u001b[0m\u001b[0;32m----> 9 \u001b[0;31m    \u001b[0;32mif\u001b[0m \u001b[0mn\u001b[0m \u001b[0;34m==\u001b[0m \u001b[0;36m0\u001b[0m\u001b[0;34m:\u001b[0m\u001b[0;34m\u001b[0m\u001b[0;34m\u001b[0m\u001b[0m\n",
      "\u001b[0m\u001b[0;32m     10 \u001b[0;31m        \u001b[0;32mreturn\u001b[0m \u001b[0;36m1\u001b[0m\u001b[0;34m\u001b[0m\u001b[0;34m\u001b[0m\u001b[0m\n",
      "\u001b[0m\u001b[0;32m     11 \u001b[0;31m    \u001b[0;32melse\u001b[0m\u001b[0;34m:\u001b[0m\u001b[0;34m\u001b[0m\u001b[0;34m\u001b[0m\u001b[0m\n",
      "\u001b[0m\n",
      "Factorial of 5 is: 120\n"
     ]
    }
   ],
   "source": [
    "import pdb\n",
    "\n",
    "\n",
    "def factorial(n):\n",
    "    # Set a breakpoint here\n",
    "    print(f'n : {n}')\n",
    "    pdb.set_trace()\n",
    "\n",
    "    if n == 0:\n",
    "        return 1\n",
    "    else:\n",
    "        return n * factorial(n - 1)\n",
    "\n",
    "# Call the recursive function\n",
    "result = factorial(5)\n",
    "print(\"Factorial of 5 is:\", result)\n"
   ]
  },
  {
   "cell_type": "code",
   "execution_count": 3,
   "metadata": {},
   "outputs": [],
   "source": [
    "#Write a try-except block to handle a ZeroDivisionError"
   ]
  },
  {
   "cell_type": "code",
   "execution_count": 6,
   "metadata": {},
   "outputs": [
    {
     "name": "stdout",
     "output_type": "stream",
     "text": [
      "Erro : division by zero\n"
     ]
    }
   ],
   "source": [
    "try:\n",
    "    print(123/0)\n",
    "except ZeroDivisionError as e:\n",
    "    print(f'Erro : {e}')\n"
   ]
  },
  {
   "cell_type": "code",
   "execution_count": 7,
   "metadata": {},
   "outputs": [],
   "source": [
    "#How does the else block work with try-except"
   ]
  },
  {
   "cell_type": "code",
   "execution_count": 10,
   "metadata": {},
   "outputs": [
    {
     "name": "stdout",
     "output_type": "stream",
     "text": [
      "Division successful!\n",
      "Result: 5.0\n"
     ]
    }
   ],
   "source": [
    "try:\n",
    "    # Code that may raise an exception\n",
    "    result = 10 / 2\n",
    "except ZeroDivisionError as e:\n",
    "    # Code to handle the ZeroDivisionError\n",
    "    print(\"Error:\", e)\n",
    "else:\n",
    "    # Code to execute if no exceptions were raised\n",
    "    print(\"Division successful!\")\n",
    "    print(\"Result:\", result)\n"
   ]
  },
  {
   "cell_type": "code",
   "execution_count": 11,
   "metadata": {},
   "outputs": [],
   "source": [
    "#Implement a try-except-else block to open and read a file"
   ]
  },
  {
   "cell_type": "code",
   "execution_count": 13,
   "metadata": {},
   "outputs": [
    {
     "name": "stdout",
     "output_type": "stream",
     "text": [
      "This is some content to write to the file.\n"
     ]
    }
   ],
   "source": [
    "try:\n",
    "    with open (\"example.txt\", 'r') as file:\n",
    "        f = file.read()\n",
    "        print(f)\n",
    "except Exception as e:\n",
    "    print(e)"
   ]
  },
  {
   "cell_type": "code",
   "execution_count": 14,
   "metadata": {},
   "outputs": [],
   "source": [
    "#What is the purpose of the finally block in exception handling"
   ]
  },
  {
   "cell_type": "code",
   "execution_count": null,
   "metadata": {},
   "outputs": [],
   "source": [
    "'''\n",
    "Finally block is used to execute the block of code/ statements witout concerning about the exceoption is raised or not.\n",
    "Even if we get the exception  or not, we can still see the message or execte the block of finally block.\n",
    "'''"
   ]
  },
  {
   "cell_type": "code",
   "execution_count": 15,
   "metadata": {},
   "outputs": [],
   "source": [
    "#Write a try-except-finally block to handle a ValueError."
   ]
  },
  {
   "cell_type": "code",
   "execution_count": 16,
   "metadata": {},
   "outputs": [
    {
     "name": "stdout",
     "output_type": "stream",
     "text": [
      "Error: invalid literal for int() with base 10: 'abc'\n",
      "This block always executes, regardless of whether an exception occurred or not.\n"
     ]
    }
   ],
   "source": [
    "try:\n",
    "    # Attempt to convert a string to an integer\n",
    "    number = int(\"abc\")\n",
    "except ValueError as e:\n",
    "    # Handle the ValueError\n",
    "    print(\"Error:\", e)\n",
    "finally:\n",
    "    # Cleanup code that always executes\n",
    "    print(\"This block always executes, regardless of whether an exception occurred or not.\")\n"
   ]
  },
  {
   "cell_type": "code",
   "execution_count": 17,
   "metadata": {},
   "outputs": [],
   "source": [
    "#How multiple except blocks work in Python"
   ]
  },
  {
   "cell_type": "code",
   "execution_count": 20,
   "metadata": {},
   "outputs": [
    {
     "name": "stdout",
     "output_type": "stream",
     "text": [
      "Error: Value error occurred!\n"
     ]
    }
   ],
   "source": [
    "try:\n",
    "    # Code that may raise exceptions\n",
    "    x = int(\"abc\")  # Division by zero\n",
    "except ZeroDivisionError:\n",
    "    # Handle division by zero error\n",
    "    print(\"Error: Division by zero occurred!\")\n",
    "except ValueError:\n",
    "    # Handle value error\n",
    "    print(\"Error: Value error occurred!\")\n",
    "except Exception as e:\n",
    "    # Handle any other type of exception\n",
    "    print(\"An error occurred:\", e)\n"
   ]
  },
  {
   "cell_type": "code",
   "execution_count": 21,
   "metadata": {},
   "outputs": [],
   "source": [
    "#What is a custom exception in Python"
   ]
  },
  {
   "cell_type": "code",
   "execution_count": 22,
   "metadata": {},
   "outputs": [
    {
     "ename": "CustomError",
     "evalue": "This is a custom error message.",
     "output_type": "error",
     "traceback": [
      "\u001b[0;31m---------------------------------------------------------------------------\u001b[0m",
      "\u001b[0;31mCustomError\u001b[0m                               Traceback (most recent call last)",
      "Cell \u001b[0;32mIn[22], line 5\u001b[0m\n\u001b[1;32m      2\u001b[0m     \u001b[38;5;28;01mpass\u001b[39;00m\n\u001b[1;32m      4\u001b[0m \u001b[38;5;66;03m# Raise the custom exception\u001b[39;00m\n\u001b[0;32m----> 5\u001b[0m \u001b[38;5;28;01mraise\u001b[39;00m CustomError(\u001b[38;5;124m\"\u001b[39m\u001b[38;5;124mThis is a custom error message.\u001b[39m\u001b[38;5;124m\"\u001b[39m)\n",
      "\u001b[0;31mCustomError\u001b[0m: This is a custom error message."
     ]
    }
   ],
   "source": [
    "class CustomError(Exception):\n",
    "    pass\n",
    "\n",
    "# Raise the custom exception\n",
    "raise CustomError(\"This is a custom error message.\")\n"
   ]
  },
  {
   "cell_type": "code",
   "execution_count": 25,
   "metadata": {},
   "outputs": [],
   "source": [
    "#Create a custom exception class with a message"
   ]
  },
  {
   "cell_type": "code",
   "execution_count": 26,
   "metadata": {},
   "outputs": [
    {
     "ename": "CustomError",
     "evalue": "This is a custom error message.",
     "output_type": "error",
     "traceback": [
      "\u001b[0;31m---------------------------------------------------------------------------\u001b[0m",
      "\u001b[0;31mCustomError\u001b[0m                               Traceback (most recent call last)",
      "Cell \u001b[0;32mIn[26], line 6\u001b[0m\n\u001b[1;32m      3\u001b[0m         \u001b[38;5;28mself\u001b[39m\u001b[38;5;241m.\u001b[39mmessage \u001b[38;5;241m=\u001b[39m message\n\u001b[1;32m      5\u001b[0m \u001b[38;5;66;03m# Raise the custom exception with a message\u001b[39;00m\n\u001b[0;32m----> 6\u001b[0m \u001b[38;5;28;01mraise\u001b[39;00m CustomError(\u001b[38;5;124m\"\u001b[39m\u001b[38;5;124mThis is a custom error message.\u001b[39m\u001b[38;5;124m\"\u001b[39m)\n",
      "\u001b[0;31mCustomError\u001b[0m: This is a custom error message."
     ]
    }
   ],
   "source": [
    "class CustomError(Exception):\n",
    "    def __init__(self, message):\n",
    "        self.message = message\n",
    "\n",
    "# Raise the custom exception with a message\n",
    "raise CustomError(\"This is a custom error message.\")\n"
   ]
  },
  {
   "cell_type": "code",
   "execution_count": 27,
   "metadata": {},
   "outputs": [],
   "source": [
    "#Write a code to raise a custom exception in Python"
   ]
  },
  {
   "cell_type": "code",
   "execution_count": 29,
   "metadata": {},
   "outputs": [
    {
     "ename": "CustomError",
     "evalue": "This is a custom error message.",
     "output_type": "error",
     "traceback": [
      "\u001b[0;31m---------------------------------------------------------------------------\u001b[0m",
      "\u001b[0;31mCustomError\u001b[0m                               Traceback (most recent call last)",
      "Cell \u001b[0;32mIn[29], line 5\u001b[0m\n\u001b[1;32m      2\u001b[0m     \u001b[38;5;28;01mpass\u001b[39;00m\n\u001b[1;32m      4\u001b[0m \u001b[38;5;66;03m# Raise the custom exception\u001b[39;00m\n\u001b[0;32m----> 5\u001b[0m \u001b[38;5;28;01mraise\u001b[39;00m CustomError(\u001b[38;5;124m\"\u001b[39m\u001b[38;5;124mThis is a custom error message.\u001b[39m\u001b[38;5;124m\"\u001b[39m)\n",
      "\u001b[0;31mCustomError\u001b[0m: This is a custom error message."
     ]
    }
   ],
   "source": [
    "class CustomError(Exception):\n",
    "    pass\n",
    "\n",
    "# Raise the custom exception\n",
    "raise CustomError(\"This is a custom error message.\")\n"
   ]
  },
  {
   "cell_type": "code",
   "execution_count": 30,
   "metadata": {},
   "outputs": [],
   "source": [
    "#Write a function that raises a custom exception when a value is negative"
   ]
  },
  {
   "cell_type": "code",
   "execution_count": 33,
   "metadata": {},
   "outputs": [
    {
     "ename": "ValueError",
     "evalue": "Bhaii value -ve me ja rahi hey ... ",
     "output_type": "error",
     "traceback": [
      "\u001b[0;31m---------------------------------------------------------------------------\u001b[0m",
      "\u001b[0;31mValueError\u001b[0m                                Traceback (most recent call last)",
      "Cell \u001b[0;32mIn[33], line 8\u001b[0m\n\u001b[1;32m      4\u001b[0m     \u001b[38;5;28;01melse\u001b[39;00m:\n\u001b[1;32m      5\u001b[0m         \u001b[38;5;28mprint\u001b[39m(\u001b[38;5;124mf\u001b[39m\u001b[38;5;124m'\u001b[39m\u001b[38;5;124mValue is positive !!!\u001b[39m\u001b[38;5;124m'\u001b[39m)\n\u001b[0;32m----> 8\u001b[0m \u001b[43mtest_funct\u001b[49m\u001b[43m(\u001b[49m\u001b[38;5;241;43m-\u001b[39;49m\u001b[38;5;241;43m9\u001b[39;49m\u001b[43m)\u001b[49m\n",
      "Cell \u001b[0;32mIn[33], line 3\u001b[0m, in \u001b[0;36mtest_funct\u001b[0;34m(value)\u001b[0m\n\u001b[1;32m      1\u001b[0m \u001b[38;5;28;01mdef\u001b[39;00m \u001b[38;5;21mtest_funct\u001b[39m(value):\n\u001b[1;32m      2\u001b[0m     \u001b[38;5;28;01mif\u001b[39;00m value \u001b[38;5;241m<\u001b[39m \u001b[38;5;241m0\u001b[39m:\n\u001b[0;32m----> 3\u001b[0m         \u001b[38;5;28;01mraise\u001b[39;00m \u001b[38;5;167;01mValueError\u001b[39;00m (\u001b[38;5;124m\"\u001b[39m\u001b[38;5;124mBhaii value -ve me ja rahi hey ... \u001b[39m\u001b[38;5;124m\"\u001b[39m)\n\u001b[1;32m      4\u001b[0m     \u001b[38;5;28;01melse\u001b[39;00m:\n\u001b[1;32m      5\u001b[0m         \u001b[38;5;28mprint\u001b[39m(\u001b[38;5;124mf\u001b[39m\u001b[38;5;124m'\u001b[39m\u001b[38;5;124mValue is positive !!!\u001b[39m\u001b[38;5;124m'\u001b[39m)\n",
      "\u001b[0;31mValueError\u001b[0m: Bhaii value -ve me ja rahi hey ... "
     ]
    }
   ],
   "source": [
    "\n",
    "def test_funct(value):\n",
    "    if value < 0:\n",
    "        raise ValueError (\"Bhaii value -ve me ja rahi hey ... \")\n",
    "    else:\n",
    "        print(f'Value is positive !!!')\n",
    "\n",
    "\n",
    "test_funct(-9)"
   ]
  },
  {
   "cell_type": "code",
   "execution_count": 34,
   "metadata": {},
   "outputs": [],
   "source": [
    "#What is the role of try, except, else, and finally in handling exceptions"
   ]
  },
  {
   "cell_type": "code",
   "execution_count": null,
   "metadata": {},
   "outputs": [],
   "source": [
    "'''\n",
    "try : its useful to check if any issue/ exception is there or not.\n",
    "except : its useful to handle the issue/ exception if there is any inside try block.\n",
    "else : if there is not exception, then only this else block will execute.\n",
    "finally : whether the exception raised or not, this block of code will execute compulsorily.\n",
    "'''"
   ]
  },
  {
   "cell_type": "code",
   "execution_count": 35,
   "metadata": {},
   "outputs": [],
   "source": [
    "#How can custom exceptions improve code readability and maintainability"
   ]
  },
  {
   "cell_type": "code",
   "execution_count": null,
   "metadata": {},
   "outputs": [],
   "source": [
    "'''\n",
    "Custom exceptions improve code readability and maintainability by providing descriptive error messages, \n",
    "modular error handling, centralized error management, granular error reporting, enhanced documentation, \n",
    "and ease of maintenance.\n",
    "'''"
   ]
  },
  {
   "cell_type": "code",
   "execution_count": 36,
   "metadata": {},
   "outputs": [],
   "source": [
    "#What is multithreading"
   ]
  },
  {
   "cell_type": "code",
   "execution_count": null,
   "metadata": {},
   "outputs": [],
   "source": [
    "'''\n",
    "Multithreading is a programming technique that allows a single process to perform multiple \n",
    "tasks concurrently, utilizing multiple threads of execution. Threads are lightweight processes \n",
    "within a program that can run independently and share the same memory space, enabling parallel \n",
    "execution of tasks and improving overall performance and responsiveness of applications.\n",
    "'''"
   ]
  },
  {
   "cell_type": "code",
   "execution_count": 37,
   "metadata": {},
   "outputs": [],
   "source": [
    "#create a thread in python"
   ]
  },
  {
   "cell_type": "code",
   "execution_count": 38,
   "metadata": {},
   "outputs": [
    {
     "name": "stdout",
     "output_type": "stream",
     "text": [
      "0\n",
      "1\n",
      "2\n",
      "3\n",
      "4\n",
      "Thread execution is complete.\n"
     ]
    }
   ],
   "source": [
    "import threading\n",
    "\n",
    "# Define a function to be executed by the thread\n",
    "def print_numbers():\n",
    "    for i in range(5):\n",
    "        print(i)\n",
    "\n",
    "# Create a thread\n",
    "thread = threading.Thread(target=print_numbers)\n",
    "\n",
    "# Start the thread\n",
    "thread.start()\n",
    "\n",
    "# Wait for the thread to complete\n",
    "thread.join()\n",
    "\n",
    "print(\"Thread execution is complete.\")\n"
   ]
  },
  {
   "cell_type": "code",
   "execution_count": 39,
   "metadata": {},
   "outputs": [],
   "source": [
    "#What is the Global Interpreter Lock (GIL) in Python."
   ]
  },
  {
   "cell_type": "code",
   "execution_count": null,
   "metadata": {},
   "outputs": [],
   "source": [
    "'''\n",
    "The Global Interpreter Lock (GIL) in Python is like a traffic cop that controls access to Python code. \n",
    "It ensures that only one thread can run Python code at a time, even if your computer has multiple processor cores. \n",
    "While this makes Python's memory management simpler, it also means that Python programs with heavy \n",
    "computational tasks may not take full advantage of multi-core processors because they can't truly run \n",
    "tasks in parallel.\n",
    "'''"
   ]
  },
  {
   "cell_type": "code",
   "execution_count": 40,
   "metadata": {},
   "outputs": [],
   "source": [
    "#Implement a simple multithreading example in Python"
   ]
  },
  {
   "cell_type": "code",
   "execution_count": null,
   "metadata": {},
   "outputs": [],
   "source": [
    "import threading\n",
    "\n",
    "# Define a function that prints numbers from 1 to 5\n",
    "def print_numbers():\n",
    "    for i in range(1, 6):\n",
    "        print(\"Thread\", threading.current_thread().name, \": \", i)\n",
    "\n",
    "# Create two threads\n",
    "thread1 = threading.Thread(target=print_numbers, name=\"Thread 1\")\n",
    "thread2 = threading.Thread(target=print_numbers, name=\"Thread 2\")\n",
    "\n",
    "# Start the threads\n",
    "thread1.start()\n",
    "thread2.start()\n",
    "\n",
    "# Wait for the threads to complete\n",
    "thread1.join()\n",
    "thread2.join()\n",
    "\n",
    "print(\"Main thread exiting.\")\n"
   ]
  },
  {
   "cell_type": "code",
   "execution_count": 41,
   "metadata": {},
   "outputs": [],
   "source": [
    "#What is the purpose of the `join()` method in threading"
   ]
  },
  {
   "cell_type": "code",
   "execution_count": null,
   "metadata": {},
   "outputs": [],
   "source": [
    "'''\n",
    "The join() method in threading is like saying, \"Hey, wait for this thread to finish its work before moving on.\" \n",
    "It's used to make sure that other parts of the program don't start running until a specific thread has completed \n",
    "its task.\n",
    "'''"
   ]
  },
  {
   "cell_type": "code",
   "execution_count": 42,
   "metadata": {},
   "outputs": [],
   "source": [
    "#Describe a scenario where multithreading would be beneficial in Python"
   ]
  },
  {
   "cell_type": "code",
   "execution_count": null,
   "metadata": {},
   "outputs": [],
   "source": [
    "'''\n",
    "Multithreading in Python would be beneficial in a web server application where multiple users are accessing \n",
    "the server at the same time. With multithreading, the server can handle multiple requests simultaneously, \n",
    "improving response times and overall performance. This means that even if one request is taking some time to process, \n",
    "other requests can still be served quickly, making the server more efficient and responsive to users.\n",
    "'''"
   ]
  },
  {
   "cell_type": "code",
   "execution_count": 43,
   "metadata": {},
   "outputs": [],
   "source": [
    "#What is multiprocessing in Python"
   ]
  },
  {
   "cell_type": "code",
   "execution_count": null,
   "metadata": {},
   "outputs": [],
   "source": [
    "'''\n",
    "Multiprocessing in Python means using multiple processors or CPU cores to do work at the same time. \n",
    "It's like having multiple workers in a factory who can work on different tasks simultaneously, \n",
    "making the overall job faster and more efficient. Python's multiprocessing module helps manage these \n",
    "multiple processes, allowing programs to take full advantage of modern computers with multiple cores.\n",
    "'''"
   ]
  },
  {
   "cell_type": "code",
   "execution_count": 44,
   "metadata": {},
   "outputs": [],
   "source": [
    "#How is multiprocessing different from multithreading in Python"
   ]
  },
  {
   "cell_type": "code",
   "execution_count": null,
   "metadata": {},
   "outputs": [],
   "source": [
    "'''\n",
    "1. Multithreading: Running multiple tasks simultaneously within a single program, \n",
    "useful for I/O-bound tasks like downloading files in a download manager.\n",
    "\n",
    "2. Multiprocessing: Running multiple separate programs simultaneously, \n",
    "useful for CPU-bound tasks like image processing in a photo editing application.\n",
    "'''"
   ]
  },
  {
   "cell_type": "code",
   "execution_count": 45,
   "metadata": {},
   "outputs": [],
   "source": [
    "#Create a process using the multiprocessing module in Python"
   ]
  },
  {
   "cell_type": "code",
   "execution_count": 46,
   "metadata": {},
   "outputs": [
    {
     "name": "stdout",
     "output_type": "stream",
     "text": [
      "Process Process 1 :  1\n",
      "Process Process 1 :  2\n",
      "Process Process 1 :  3\n",
      "Process Process 1 :  4\n",
      "Process Process 1 :  5\n",
      "Main process exiting.\n"
     ]
    }
   ],
   "source": [
    "import multiprocessing\n",
    "\n",
    "# Define a function to be executed by the process\n",
    "def print_numbers():\n",
    "    for i in range(1, 6):\n",
    "        print(\"Process\", multiprocessing.current_process().name, \": \", i)\n",
    "\n",
    "# Create a process\n",
    "process = multiprocessing.Process(target=print_numbers, name=\"Process 1\")\n",
    "\n",
    "# Start the process\n",
    "process.start()\n",
    "\n",
    "# Wait for the process to complete\n",
    "process.join()\n",
    "\n",
    "print(\"Main process exiting.\")\n"
   ]
  },
  {
   "cell_type": "code",
   "execution_count": 47,
   "metadata": {},
   "outputs": [],
   "source": [
    "#Explain the concept of Pool in the multiprocessing module"
   ]
  },
  {
   "cell_type": "code",
   "execution_count": null,
   "metadata": {},
   "outputs": [],
   "source": [
    "'''\n",
    "A Pool in the multiprocessing module of Python manages a group of worker processes. \n",
    "It simplifies parallel processing by distributing tasks among these processes and collecting results. \n",
    "The number of processes in the pool typically matches the number of CPU cores available.\n",
    "'''"
   ]
  },
  {
   "cell_type": "code",
   "execution_count": 48,
   "metadata": {},
   "outputs": [],
   "source": [
    "#Explain inter-process communication in multiprocessing."
   ]
  },
  {
   "cell_type": "code",
   "execution_count": null,
   "metadata": {},
   "outputs": [],
   "source": [
    "'''\n",
    "Inter-process communication (IPC) in multiprocessing involves methods like pipes, queues, shared memory, \n",
    "manager objects, and synchronization primitives. These techniques allow processes to exchange data, \n",
    "coordinate tasks, and synchronize access to shared resources in a multiprocessing environment.\n",
    "'''"
   ]
  }
 ],
 "metadata": {
  "kernelspec": {
   "display_name": "Python 3.8.10 64-bit",
   "language": "python",
   "name": "python3"
  },
  "language_info": {
   "codemirror_mode": {
    "name": "ipython",
    "version": 3
   },
   "file_extension": ".py",
   "mimetype": "text/x-python",
   "name": "python",
   "nbconvert_exporter": "python",
   "pygments_lexer": "ipython3",
   "version": "3.8.10"
  },
  "orig_nbformat": 4,
  "vscode": {
   "interpreter": {
    "hash": "e7370f93d1d0cde622a1f8e1c04877d8463912d04d973331ad4851f04de6915a"
   }
  }
 },
 "nbformat": 4,
 "nbformat_minor": 2
}
