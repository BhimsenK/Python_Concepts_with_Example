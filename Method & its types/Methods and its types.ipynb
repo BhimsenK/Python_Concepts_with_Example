{
 "cells": [
  {
   "cell_type": "code",
   "execution_count": 1,
   "id": "aeea09df-da05-43f2-81d3-c6eb1d2587aa",
   "metadata": {},
   "outputs": [],
   "source": [
    "#Methods and its types"
   ]
  },
  {
   "cell_type": "code",
   "execution_count": null,
   "id": "e75e4267-45a5-4a74-a9ba-6b40f85db4b7",
   "metadata": {},
   "outputs": [],
   "source": []
  },
  {
   "cell_type": "code",
   "execution_count": null,
   "id": "42b7bd85-4cd6-4682-8af4-924715403d5a",
   "metadata": {},
   "outputs": [],
   "source": [
    "\"\"\"\n",
    "Types : Instance/ Class/ Static Methods .\n",
    "\"\"\""
   ]
  },
  {
   "cell_type": "code",
   "execution_count": null,
   "id": "ac8c47fc-881c-4502-aeec-61c9d3956a4c",
   "metadata": {},
   "outputs": [],
   "source": []
  },
  {
   "cell_type": "code",
   "execution_count": 3,
   "id": "7519352b-c8b8-4e33-9d15-ab1220b69b06",
   "metadata": {},
   "outputs": [],
   "source": [
    "#Instance Method"
   ]
  },
  {
   "cell_type": "code",
   "execution_count": null,
   "id": "a056aaf0-e5e1-4622-b8bf-159bb4facab2",
   "metadata": {},
   "outputs": [],
   "source": [
    "'''\n",
    "Instance method contains the self keyword.\n",
    "We can use \"Instance Method\" only after the creation of an object.\n",
    "'''"
   ]
  },
  {
   "cell_type": "code",
   "execution_count": 6,
   "id": "fd20d304-15bf-4f57-83ca-059223560b88",
   "metadata": {},
   "outputs": [
    {
     "name": "stdout",
     "output_type": "stream",
     "text": [
      "25\n"
     ]
    }
   ],
   "source": [
    "class Person:\n",
    "    def __init__(self, name, age): #Constructor/ initializer\n",
    "        self.name = name\n",
    "        self.age = age\n",
    "        \n",
    "    def findAge(self):    #Instance Method\n",
    "        return self.age\n",
    "    \n",
    "per = Person('Naruto', 25)\n",
    "\n",
    "print(per.findAge())"
   ]
  },
  {
   "cell_type": "code",
   "execution_count": null,
   "id": "fe7bd507-aeb3-4287-bb36-668a7ce26f9a",
   "metadata": {},
   "outputs": [],
   "source": []
  },
  {
   "cell_type": "code",
   "execution_count": null,
   "id": "c9499fe9-5f36-49b0-ac06-0d8558ca469e",
   "metadata": {},
   "outputs": [],
   "source": []
  },
  {
   "cell_type": "code",
   "execution_count": 7,
   "id": "b5849106-e1bf-476c-86da-9ed1788e23be",
   "metadata": {},
   "outputs": [],
   "source": [
    "#Class Method"
   ]
  },
  {
   "cell_type": "code",
   "execution_count": null,
   "id": "049b4e86-5d26-4fdc-81e1-386ad14ec90a",
   "metadata": {},
   "outputs": [],
   "source": []
  },
  {
   "cell_type": "code",
   "execution_count": 17,
   "id": "f1064cef-4346-46c7-8d9c-770486376f82",
   "metadata": {},
   "outputs": [
    {
     "name": "stdout",
     "output_type": "stream",
     "text": [
      "Person.greet() missing 1 required positional argument: 'cls'\n",
      "********************\n",
      "I am a proud Indian\n"
     ]
    }
   ],
   "source": [
    "class Person:\n",
    "    \n",
    "    citizonship = \"Indian\"\n",
    "    \n",
    "    def greet(cls):  #without decorator\n",
    "        print(f'I am a proud {cls.citizonship}')\n",
    "        \n",
    "    @classmethod    #Using decorator\n",
    "    def nation(cls):  #without decorator\n",
    "        print(f'I am a proud {cls.citizonship}')\n",
    "    \n",
    "    \n",
    "#calling class method without decorator\n",
    "try:\n",
    "    Person.greet()\n",
    "except Exception as e:\n",
    "    print(e)\n",
    "    \n",
    "print(\"*\"*20)\n",
    "\n",
    "#calling class method with decorator\n",
    "try:\n",
    "    Person.nation()\n",
    "except Exception as e:\n",
    "    print(e)"
   ]
  },
  {
   "cell_type": "code",
   "execution_count": null,
   "id": "cd9b46ba-e745-49fe-876c-da3d1f5c9af9",
   "metadata": {},
   "outputs": [],
   "source": []
  },
  {
   "cell_type": "code",
   "execution_count": null,
   "id": "b2a4586b-5a6b-4e32-94b9-edcac0d24d6e",
   "metadata": {},
   "outputs": [],
   "source": []
  },
  {
   "cell_type": "code",
   "execution_count": null,
   "id": "143c9c89-e8f3-46ce-be0b-b10ba2cde781",
   "metadata": {},
   "outputs": [],
   "source": [
    "#Static Method"
   ]
  },
  {
   "cell_type": "code",
   "execution_count": null,
   "id": "749a2e95-ebb4-4afa-a226-d87da7f3230b",
   "metadata": {},
   "outputs": [],
   "source": []
  },
  {
   "cell_type": "code",
   "execution_count": 18,
   "id": "f98053b8-52bf-46c3-b818-8b716b376e3f",
   "metadata": {},
   "outputs": [
    {
     "name": "stdout",
     "output_type": "stream",
     "text": [
      "Druva Tara has its Static position in Galaxy !!! \n",
      "********************\n",
      "Druva Tara has its Static position in Galaxy !!! \n"
     ]
    }
   ],
   "source": [
    "class Person:\n",
    "    \n",
    "    def Druva_tara_without_decorator():\n",
    "        print('Druva Tara has its Static position in Galaxy !!! ')\n",
    "        \n",
    "    \n",
    "    @staticmethod\n",
    "    def Druva_tara():\n",
    "        print('Druva Tara has its Static position in Galaxy !!! ')\n",
    "    \n",
    "    \n",
    "#calling class method without decorator\n",
    "try:\n",
    "    Person.Druva_tara_without_decorator()\n",
    "except Exception as e:\n",
    "    print(e)\n",
    "    \n",
    "print(\"*\"*20)\n",
    "\n",
    "#calling class method with decorator\n",
    "try:\n",
    "    Person.Druva_tara()\n",
    "except Exception as e:\n",
    "    print(e)"
   ]
  },
  {
   "cell_type": "code",
   "execution_count": null,
   "id": "695fb1d8-b619-45e2-bc67-aec774b1d3d6",
   "metadata": {},
   "outputs": [],
   "source": []
  }
 ],
 "metadata": {
  "kernelspec": {
   "display_name": "Python 3 (ipykernel)",
   "language": "python",
   "name": "python3"
  },
  "language_info": {
   "codemirror_mode": {
    "name": "ipython",
    "version": 3
   },
   "file_extension": ".py",
   "mimetype": "text/x-python",
   "name": "python",
   "nbconvert_exporter": "python",
   "pygments_lexer": "ipython3",
   "version": "3.10.8"
  }
 },
 "nbformat": 4,
 "nbformat_minor": 5
}
