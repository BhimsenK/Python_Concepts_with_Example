{
 "cells": [
  {
   "cell_type": "code",
   "execution_count": 1,
   "id": "d07bcc7e-156b-49ad-a194-45631270d734",
   "metadata": {},
   "outputs": [],
   "source": [
    "#pass by value"
   ]
  },
  {
   "cell_type": "code",
   "execution_count": null,
   "id": "dc66b1ea-17e7-41b0-aa69-3bc2c5cbc696",
   "metadata": {},
   "outputs": [],
   "source": []
  },
  {
   "cell_type": "code",
   "execution_count": 2,
   "id": "27627db6-fcb8-43e0-bfc0-eb9d0ca18cd7",
   "metadata": {},
   "outputs": [
    {
     "name": "stdout",
     "output_type": "stream",
     "text": [
      "Original Name : Bhimsen\n",
      "Modified Name : Shree\n",
      "Original Name again : Bhimsen\n"
     ]
    }
   ],
   "source": [
    "name = \"Bhimsen\"\n",
    "\n",
    "def Family(name):\n",
    "    print(f'Original Name : {name}')\n",
    "    name = \"Shree\"\n",
    "    print(f'Modified Name : {name}')\n",
    "    \n",
    "Family(name)\n",
    "\n",
    "print(f'Original Name again : {name}')"
   ]
  },
  {
   "cell_type": "code",
   "execution_count": null,
   "id": "f77474a2-9a0b-4b13-be9f-3226c7058ed6",
   "metadata": {},
   "outputs": [],
   "source": []
  },
  {
   "cell_type": "code",
   "execution_count": null,
   "id": "7718b142-8ead-45a1-ac09-4bec24a6da95",
   "metadata": {},
   "outputs": [],
   "source": []
  },
  {
   "cell_type": "code",
   "execution_count": 3,
   "id": "9911631b-b774-4a35-b8a0-a3951265b639",
   "metadata": {},
   "outputs": [],
   "source": [
    "#pass by Reference -> mutable data set"
   ]
  },
  {
   "cell_type": "code",
   "execution_count": null,
   "id": "6fe0a940-211d-4a27-a997-aed792f6f5de",
   "metadata": {},
   "outputs": [],
   "source": []
  },
  {
   "cell_type": "code",
   "execution_count": 4,
   "id": "d1930b9b-3e65-4781-88f3-901649425b63",
   "metadata": {},
   "outputs": [
    {
     "name": "stdout",
     "output_type": "stream",
     "text": [
      "Old friends : ['Shree', 'Bhim']\n",
      "new Friend : ['Shree', 'Bhim', 'Thalapathy']\n",
      "Friends : ['Shree', 'Bhim', 'Thalapathy']\n"
     ]
    }
   ],
   "source": [
    "friends = ['Shree', 'Bhim']\n",
    "\n",
    "def new_friends(friends):\n",
    "    friends.append('Thalapathy')\n",
    "    print(f'new Friend : {friends}')\n",
    "    \n",
    "\n",
    "print(f'Old friends : {friends}')\n",
    "new_friends(friends)\n",
    "print(f'Friends : {friends}')"
   ]
  },
  {
   "cell_type": "code",
   "execution_count": null,
   "id": "5c2b55d0-b026-4e10-84c6-3ff9d7a77494",
   "metadata": {},
   "outputs": [],
   "source": []
  }
 ],
 "metadata": {
  "kernelspec": {
   "display_name": "Python 3 (ipykernel)",
   "language": "python",
   "name": "python3"
  },
  "language_info": {
   "codemirror_mode": {
    "name": "ipython",
    "version": 3
   },
   "file_extension": ".py",
   "mimetype": "text/x-python",
   "name": "python",
   "nbconvert_exporter": "python",
   "pygments_lexer": "ipython3",
   "version": "3.10.8"
  }
 },
 "nbformat": 4,
 "nbformat_minor": 5
}
