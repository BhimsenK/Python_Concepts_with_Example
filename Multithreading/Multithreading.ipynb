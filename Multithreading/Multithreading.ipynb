{
 "cells": [
  {
   "cell_type": "code",
   "execution_count": 1,
   "id": "d7d6bb26-f24d-43aa-b8c3-6760cae8ed6c",
   "metadata": {},
   "outputs": [],
   "source": [
    "#Multithreading"
   ]
  },
  {
   "cell_type": "code",
   "execution_count": 3,
   "id": "e241dc79-ae73-4db5-9c16-a83eaf3ca85b",
   "metadata": {},
   "outputs": [],
   "source": []
  },
  {
   "cell_type": "code",
   "execution_count": null,
   "id": "1d8a7a8a-247f-411a-9174-21461b31ee0b",
   "metadata": {},
   "outputs": [],
   "source": [
    "#withoud Multi-Threading"
   ]
  },
  {
   "cell_type": "code",
   "execution_count": 12,
   "id": "1dbae8cb-631b-4ffe-9fcd-490416e00ff1",
   "metadata": {},
   "outputs": [
    {
     "name": "stdout",
     "output_type": "stream",
     "text": [
      "I am Hysenberg !!!\n",
      "I am Hysenberg !!!\n",
      "Time taken = 4 Sec.\n"
     ]
    }
   ],
   "source": [
    "import time\n",
    "start = time.perf_counter()\n",
    "\n",
    "def say_my_name():\n",
    "    print(f'I am Hysenberg !!!')\n",
    "    time.sleep(2)\n",
    "    \n",
    "say_my_name()\n",
    "say_my_name()\n",
    "\n",
    "end = time.perf_counter()\n",
    "\n",
    "print(f'Time taken = {round(end-start)} Sec.')"
   ]
  },
  {
   "cell_type": "code",
   "execution_count": null,
   "id": "a19fa16c-d47a-4a60-9ac4-5e7ecc50591a",
   "metadata": {},
   "outputs": [],
   "source": []
  },
  {
   "cell_type": "code",
   "execution_count": 5,
   "id": "568a8fca-e25e-4178-b2b4-f9f098ed640d",
   "metadata": {},
   "outputs": [],
   "source": []
  },
  {
   "cell_type": "code",
   "execution_count": 13,
   "id": "74b30b90-eff7-4dfe-ac85-d843965c3f66",
   "metadata": {},
   "outputs": [],
   "source": [
    "#with Multi-Threading"
   ]
  },
  {
   "cell_type": "code",
   "execution_count": 15,
   "id": "38f8f367-5d89-404a-b9d2-9df6a6c61ff2",
   "metadata": {},
   "outputs": [
    {
     "name": "stdout",
     "output_type": "stream",
     "text": [
      "I am Hysenberg !!!\n",
      "I am Hysenberg !!!\n",
      "Time taken = 2 Sec.\n"
     ]
    }
   ],
   "source": [
    "import time, threading\n",
    "\n",
    "start = time.perf_counter()\n",
    "\n",
    "def say_my_name():\n",
    "    print(f'I am Hysenberg !!!')\n",
    "    time.sleep(2)\n",
    "\n",
    "t1 = threading.Thread(target=say_my_name)\n",
    "t2 = threading.Thread(target=say_my_name)\n",
    "\n",
    "t1.start()\n",
    "t2.start()\n",
    "\n",
    "t1.join()\n",
    "t2.join()\n",
    "\n",
    "\n",
    "end = time.perf_counter()\n",
    "\n",
    "print(f'Time taken = {round(end-start)} Sec.')"
   ]
  },
  {
   "cell_type": "code",
   "execution_count": null,
   "id": "4fb70516-2d8c-431b-bb46-3af3d34ba08c",
   "metadata": {},
   "outputs": [],
   "source": []
  },
  {
   "cell_type": "code",
   "execution_count": null,
   "id": "7bd69f56-b78b-46d1-be4c-7946cec65fef",
   "metadata": {},
   "outputs": [],
   "source": []
  },
  {
   "cell_type": "code",
   "execution_count": 16,
   "id": "d641b006-a2cd-45ec-99df-9d141c7bcea3",
   "metadata": {},
   "outputs": [],
   "source": [
    "#with Multi-Threading using loops"
   ]
  },
  {
   "cell_type": "code",
   "execution_count": 18,
   "id": "e23db082-db9a-45b9-bba3-83458da8055e",
   "metadata": {},
   "outputs": [
    {
     "name": "stdout",
     "output_type": "stream",
     "text": [
      "I am Hysenberg !!!\n",
      "I am Hysenberg !!!\n",
      "I am Hysenberg !!!\n",
      "I am Hysenberg !!!\n",
      "I am Hysenberg !!!\n",
      "I am Hysenberg !!!\n",
      "I am Hysenberg !!!\n",
      "I am Hysenberg !!!\n",
      "I am Hysenberg !!!\n",
      "I am Hysenberg !!!\n",
      "I am Hysenberg !!!\n",
      "Time taken = 2 Sec.\n"
     ]
    }
   ],
   "source": [
    "import time, threading\n",
    "\n",
    "start = time.perf_counter()\n",
    "\n",
    "def say_my_name():\n",
    "    print(f'I am Hysenberg !!!')\n",
    "    time.sleep(2)\n",
    "\n",
    "thread = []\n",
    "for i in range(11):\n",
    "    t = threading.Thread(target=say_my_name)\n",
    "    t.start()\n",
    "    thread.append(t)\n",
    "\n",
    "for i in thread:\n",
    "    i.join()\n",
    "\n",
    "\n",
    "end = time.perf_counter()\n",
    "\n",
    "print(f'Time taken = {round(end-start)} Sec.')"
   ]
  },
  {
   "cell_type": "code",
   "execution_count": null,
   "id": "0a6ba5ff-fe20-462e-b373-b0ed11a57e0b",
   "metadata": {},
   "outputs": [],
   "source": []
  }
 ],
 "metadata": {
  "kernelspec": {
   "display_name": "Python 3 (ipykernel)",
   "language": "python",
   "name": "python3"
  },
  "language_info": {
   "codemirror_mode": {
    "name": "ipython",
    "version": 3
   },
   "file_extension": ".py",
   "mimetype": "text/x-python",
   "name": "python",
   "nbconvert_exporter": "python",
   "pygments_lexer": "ipython3",
   "version": "3.10.8"
  }
 },
 "nbformat": 4,
 "nbformat_minor": 5
}
