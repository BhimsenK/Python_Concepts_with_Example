{
 "cells": [
  {
   "cell_type": "code",
   "execution_count": 1,
   "id": "3e12270f-70a8-4182-a61e-90efd15e9d28",
   "metadata": {},
   "outputs": [],
   "source": [
    "#lambda"
   ]
  },
  {
   "cell_type": "code",
   "execution_count": null,
   "id": "21b9c7c0-4d4b-4167-b6e2-dfd573e1842f",
   "metadata": {},
   "outputs": [],
   "source": []
  },
  {
   "cell_type": "code",
   "execution_count": 2,
   "id": "91fcbaa6-9c8e-4e70-b0a3-9de5a7808a38",
   "metadata": {},
   "outputs": [
    {
     "name": "stdout",
     "output_type": "stream",
     "text": [
      "5\n"
     ]
    }
   ],
   "source": [
    "add = lambda a, b : a + b\n",
    "print(add(1,4))"
   ]
  },
  {
   "cell_type": "code",
   "execution_count": null,
   "id": "dbefb104-d94c-4d08-9ae2-e5d1b1027938",
   "metadata": {},
   "outputs": [],
   "source": []
  },
  {
   "cell_type": "code",
   "execution_count": 5,
   "id": "2661a698-0209-487c-b8f9-6018ebf5fd80",
   "metadata": {},
   "outputs": [
    {
     "name": "stdout",
     "output_type": "stream",
     "text": [
      "This is test msg\n"
     ]
    }
   ],
   "source": [
    "def test():\n",
    "    return lambda msg : print(msg)\n",
    "\n",
    "test()('This is test msg')"
   ]
  },
  {
   "cell_type": "code",
   "execution_count": null,
   "id": "c3d4759c-6f99-4f3d-80d8-00011aa78d62",
   "metadata": {},
   "outputs": [],
   "source": []
  },
  {
   "cell_type": "code",
   "execution_count": null,
   "id": "d21df44c-8acc-4613-ae28-60ad263c312e",
   "metadata": {},
   "outputs": [],
   "source": []
  },
  {
   "cell_type": "code",
   "execution_count": null,
   "id": "f4e75994-a4f0-41d0-a73f-4c38566dfead",
   "metadata": {},
   "outputs": [],
   "source": []
  },
  {
   "cell_type": "code",
   "execution_count": null,
   "id": "d1abf224-68b7-4fd0-92f4-45cba7c7038b",
   "metadata": {},
   "outputs": [],
   "source": []
  }
 ],
 "metadata": {
  "kernelspec": {
   "display_name": "Python 3 (ipykernel)",
   "language": "python",
   "name": "python3"
  },
  "language_info": {
   "codemirror_mode": {
    "name": "ipython",
    "version": 3
   },
   "file_extension": ".py",
   "mimetype": "text/x-python",
   "name": "python",
   "nbconvert_exporter": "python",
   "pygments_lexer": "ipython3",
   "version": "3.10.8"
  }
 },
 "nbformat": 4,
 "nbformat_minor": 5
}
