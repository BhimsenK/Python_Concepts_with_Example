{
 "cells": [
  {
   "cell_type": "code",
   "execution_count": null,
   "id": "c5178234-d99c-47ca-8fb8-b57a73a6a953",
   "metadata": {},
   "outputs": [],
   "source": [
    "#Method Overloading"
   ]
  },
  {
   "cell_type": "code",
   "execution_count": null,
   "id": "3f65e0eb-9daf-41c7-8803-b4f8f1a00ef2",
   "metadata": {},
   "outputs": [],
   "source": [
    "'''\n",
    "It means that multiple methods with same name .\n",
    "\n",
    "Note : Explicite Method Overloading is not allowed in Python.\n",
    "\n",
    "In below example, there are 3 methods with same name. \n",
    "'''"
   ]
  },
  {
   "cell_type": "code",
   "execution_count": null,
   "id": "7fb96efb-aacc-4560-a781-d646741534dd",
   "metadata": {},
   "outputs": [],
   "source": []
  },
  {
   "cell_type": "code",
   "execution_count": 18,
   "id": "e1f46c0f-d18c-4ec6-8e3e-65cce6cc355b",
   "metadata": {},
   "outputs": [
    {
     "name": "stdout",
     "output_type": "stream",
     "text": [
      "Calculator.name() missing 2 required positional arguments: 'middle_name' and 'last_name'\n",
      "\n",
      "Calculator.name() missing 1 required positional argument: 'last_name'\n",
      "\n",
      "Hi bhim !!!, meet my Father Mr Mahoharrao Kulkarni !!!\n"
     ]
    }
   ],
   "source": [
    "class Calculator:\n",
    "\n",
    "    \n",
    "    def name(self, first_name):\n",
    "        print(f'Hi {first_name} !!!')\n",
    "        \n",
    "    def name(self, first_name, middle_name):\n",
    "        print(f'Hi {first_name} !!!, meet my Father Mr.{middle_name} !!!')\n",
    "        \n",
    "    def name(self, first_name, middle_name, last_name):\n",
    "        print(f'Hi {first_name} !!!, meet my Father Mr {middle_name} {last_name} !!!')\n",
    "        \n",
    "        \n",
    "cal = Calculator()\n",
    "\n",
    "try:\n",
    "    print(cal.name(\"Bhimsen\"))\n",
    "except Exception as e:\n",
    "    print(e)\n",
    "    \n",
    "print()  \n",
    "try:\n",
    "    print(cal.name(\"Bhimsen\", \"Manoharrao\"))\n",
    "except Exception as e:\n",
    "    print(e)\n",
    "    \n",
    "print()    \n",
    "try:\n",
    "    cal.name('bhim', 'Mahoharrao', 'Kulkarni')\n",
    "except Exception as e:\n",
    "    print(e)"
   ]
  },
  {
   "cell_type": "code",
   "execution_count": null,
   "id": "ecd66e14-81ad-4a3b-9603-5bc40b03e9a6",
   "metadata": {},
   "outputs": [],
   "source": []
  },
  {
   "cell_type": "code",
   "execution_count": null,
   "id": "a6a54bf6-f13f-468f-920e-d5ee6379e5c0",
   "metadata": {},
   "outputs": [],
   "source": []
  },
  {
   "cell_type": "code",
   "execution_count": null,
   "id": "969963b0-f2c4-4727-8de3-20f9d9898f88",
   "metadata": {},
   "outputs": [],
   "source": []
  },
  {
   "cell_type": "code",
   "execution_count": 15,
   "id": "95833813-7400-4558-8d46-92be2f18b116",
   "metadata": {},
   "outputs": [
    {
     "name": "stdout",
     "output_type": "stream",
     "text": [
      "Hi bhim !!!, meet my Father Mr.Mahoharrao Kulkarni !!!\n"
     ]
    }
   ],
   "source": [
    "class Calculator:\n",
    "        \n",
    "    def name(self, f, m, l):\n",
    "        print(f'Hi {f} !!!, meet my Father Mr.{m} {l} !!!')\n",
    "        \n",
    "        \n",
    "cal = Calculator()\n",
    "try:\n",
    "    cal.name('bhim', 'Mahoharrao', 'Kulkarni')\n",
    "except Exception as e:\n",
    "    print(e)"
   ]
  },
  {
   "cell_type": "code",
   "execution_count": null,
   "id": "8bd8879d-de03-4df4-b079-3a8f95c0bb14",
   "metadata": {},
   "outputs": [],
   "source": []
  }
 ],
 "metadata": {
  "kernelspec": {
   "display_name": "Python 3 (ipykernel)",
   "language": "python",
   "name": "python3"
  },
  "language_info": {
   "codemirror_mode": {
    "name": "ipython",
    "version": 3
   },
   "file_extension": ".py",
   "mimetype": "text/x-python",
   "name": "python",
   "nbconvert_exporter": "python",
   "pygments_lexer": "ipython3",
   "version": "3.10.8"
  }
 },
 "nbformat": 4,
 "nbformat_minor": 5
}
