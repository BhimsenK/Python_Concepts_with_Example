{
 "cells": [
  {
   "cell_type": "code",
   "execution_count": 2,
   "id": "b9491bb1-135b-419d-93d6-f9c6a2cf831e",
   "metadata": {
    "tags": []
   },
   "outputs": [],
   "source": [
    "#Ternary Operator"
   ]
  },
  {
   "cell_type": "raw",
   "id": "a13572c4-f713-43dc-859e-6c1c239ff477",
   "metadata": {},
   "source": []
  },
  {
   "cell_type": "code",
   "execution_count": 11,
   "id": "b9ca2d93-451f-4f9e-9c63-a31804e0da2d",
   "metadata": {},
   "outputs": [
    {
     "name": "stdin",
     "output_type": "stream",
     "text": [
      "+, -, %, * :  %\n"
     ]
    },
    {
     "name": "stdout",
     "output_type": "stream",
     "text": [
      "Result : 0.29411764705882354\n"
     ]
    }
   ],
   "source": [
    "a = 10\n",
    "b = 34\n",
    "c = input(f'+, -, %, * : ')\n",
    "Result = a+b if c=='+' else a-b if c=='-' else a/b if c=='%' else a*b\n",
    "\n",
    "print(f'Result : {Result}')"
   ]
  },
  {
   "cell_type": "code",
   "execution_count": null,
   "id": "c6316aaa-79bf-4a6d-9333-1d5df67b8e4f",
   "metadata": {},
   "outputs": [],
   "source": []
  },
  {
   "cell_type": "code",
   "execution_count": null,
   "id": "22c7897f-17d6-4ca3-8503-3c3d585117bf",
   "metadata": {},
   "outputs": [],
   "source": []
  },
  {
   "cell_type": "code",
   "execution_count": 12,
   "id": "4838ee6b-f868-42fa-96ae-d5193b447ead",
   "metadata": {},
   "outputs": [],
   "source": [
    "# Match and Case"
   ]
  },
  {
   "cell_type": "code",
   "execution_count": null,
   "id": "4e02b0f5-f715-4c69-8352-5d0e017e7766",
   "metadata": {},
   "outputs": [],
   "source": []
  },
  {
   "cell_type": "code",
   "execution_count": 13,
   "id": "4c3cf897-35ad-4f4b-a92d-d6c49d7345db",
   "metadata": {},
   "outputs": [],
   "source": [
    "day = 4"
   ]
  },
  {
   "cell_type": "code",
   "execution_count": 15,
   "id": "5928deb0-8d46-4601-921f-f6279dcc53fe",
   "metadata": {},
   "outputs": [
    {
     "name": "stdout",
     "output_type": "stream",
     "text": [
      "Thursday\n"
     ]
    }
   ],
   "source": [
    "match day:\n",
    "    case 1:\n",
    "        print(f'Monday')\n",
    "    case 2:\n",
    "        print(f'Tuesday')\n",
    "    case 3:\n",
    "        print(f'Wednesday')\n",
    "    case 4:\n",
    "        print(f'Thursday')\n",
    "    case 5:\n",
    "        print(f'Friday')\n",
    "    case 6:\n",
    "        print(f'Saturday')\n",
    "    case 7:\n",
    "        print(f'Sunday')"
   ]
  },
  {
   "cell_type": "code",
   "execution_count": 17,
   "id": "1e45d067-5efb-4296-9c41-3eac7df8ab9f",
   "metadata": {},
   "outputs": [
    {
     "name": "stdout",
     "output_type": "stream",
     "text": [
      "-8\n"
     ]
    }
   ],
   "source": [
    "print(-15//2)"
   ]
  },
  {
   "cell_type": "code",
   "execution_count": 18,
   "id": "badd6885-5808-459b-b235-9a36eca761a4",
   "metadata": {},
   "outputs": [
    {
     "name": "stdout",
     "output_type": "stream",
     "text": [
      "7\n"
     ]
    }
   ],
   "source": [
    "print(15//2)"
   ]
  },
  {
   "cell_type": "code",
   "execution_count": 20,
   "id": "ee459813-39cb-4f87-bbd5-d861a28f957a",
   "metadata": {},
   "outputs": [
    {
     "name": "stdout",
     "output_type": "stream",
     "text": [
      "6\n"
     ]
    }
   ],
   "source": [
    "print(20//3)"
   ]
  },
  {
   "cell_type": "code",
   "execution_count": 21,
   "id": "4ec2859b-56b4-4569-b9ea-8d0e3455a9e7",
   "metadata": {},
   "outputs": [
    {
     "name": "stdout",
     "output_type": "stream",
     "text": [
      "6.666666666666667\n"
     ]
    }
   ],
   "source": [
    "print(20/3)"
   ]
  },
  {
   "cell_type": "code",
   "execution_count": 22,
   "id": "166d1308-4081-41a9-83b0-b38efdb172cb",
   "metadata": {},
   "outputs": [
    {
     "name": "stdout",
     "output_type": "stream",
     "text": [
      "2\n"
     ]
    }
   ],
   "source": [
    "print(20%3)"
   ]
  },
  {
   "cell_type": "code",
   "execution_count": null,
   "id": "690866b9-d6cc-42bd-afd3-05f20f41846d",
   "metadata": {},
   "outputs": [],
   "source": []
  }
 ],
 "metadata": {
  "kernelspec": {
   "display_name": "Python 3 (ipykernel)",
   "language": "python",
   "name": "python3"
  },
  "language_info": {
   "codemirror_mode": {
    "name": "ipython",
    "version": 3
   },
   "file_extension": ".py",
   "mimetype": "text/x-python",
   "name": "python",
   "nbconvert_exporter": "python",
   "pygments_lexer": "ipython3",
   "version": "3.10.8"
  }
 },
 "nbformat": 4,
 "nbformat_minor": 5
}
