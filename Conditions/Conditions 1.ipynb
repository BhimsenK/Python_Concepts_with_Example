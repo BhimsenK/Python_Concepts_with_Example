{
 "cells": [
  {
   "cell_type": "code",
   "execution_count": 1,
   "id": "83d85896-8993-478a-b1b3-473b8c7e71d8",
   "metadata": {},
   "outputs": [],
   "source": [
    "#IF, ELSE, ELIF"
   ]
  },
  {
   "cell_type": "code",
   "execution_count": null,
   "id": "11e21405-d643-4e51-8c55-4c0901777747",
   "metadata": {},
   "outputs": [],
   "source": []
  },
  {
   "cell_type": "code",
   "execution_count": 3,
   "id": "57ffc403-705f-46b4-af91-adaeef5939c2",
   "metadata": {},
   "outputs": [],
   "source": [
    "#IF, ELSE"
   ]
  },
  {
   "cell_type": "code",
   "execution_count": 4,
   "id": "8d31d38d-708a-432d-b408-d7c05337f807",
   "metadata": {},
   "outputs": [
    {
     "name": "stdout",
     "output_type": "stream",
     "text": [
      "145 is < than 234\n"
     ]
    }
   ],
   "source": [
    "a = 145\n",
    "b = 234\n",
    "\n",
    "if a < b:\n",
    "    print(f'{a} is < than {b}')\n",
    "else:\n",
    "    print(f'{a} is > than {b}')"
   ]
  },
  {
   "cell_type": "code",
   "execution_count": null,
   "id": "839ea5da-3136-4fce-b7c9-f2d7bcb62188",
   "metadata": {},
   "outputs": [],
   "source": []
  },
  {
   "cell_type": "code",
   "execution_count": 5,
   "id": "bc41bd39-fa3e-4300-b113-52d2dfa3c01c",
   "metadata": {},
   "outputs": [],
   "source": [
    "#IF, ELIF, ELSE"
   ]
  },
  {
   "cell_type": "code",
   "execution_count": 6,
   "id": "3b7a5c19-baf6-4e40-8723-9bd2b0482434",
   "metadata": {},
   "outputs": [
    {
     "name": "stdout",
     "output_type": "stream",
     "text": [
      "300 is equal to 300\n"
     ]
    }
   ],
   "source": [
    "a = 300\n",
    "b = 300\n",
    "\n",
    "if a < b:\n",
    "    print(f'{a} is < than {b}')\n",
    "elif a == b:\n",
    "    print(f'{a} is equal to {b}')\n",
    "else:\n",
    "    print(f'{a} is > than {b}')"
   ]
  },
  {
   "cell_type": "code",
   "execution_count": null,
   "id": "672b0adc-1307-4f8f-9762-9f2e28a7d387",
   "metadata": {},
   "outputs": [],
   "source": []
  },
  {
   "cell_type": "code",
   "execution_count": null,
   "id": "0edf4d28-ff9a-4de1-b735-ff5d63c7a4b3",
   "metadata": {},
   "outputs": [],
   "source": []
  },
  {
   "cell_type": "code",
   "execution_count": 7,
   "id": "c9878346-5c71-46e5-9646-e9503a5865bd",
   "metadata": {},
   "outputs": [],
   "source": [
    "#Multiple ELIF"
   ]
  },
  {
   "cell_type": "code",
   "execution_count": 9,
   "id": "9d52c20c-91ca-4b66-8200-1a14849d12f7",
   "metadata": {},
   "outputs": [
    {
     "name": "stdout",
     "output_type": "stream",
     "text": [
      "123 is between 120 - 130\n"
     ]
    }
   ],
   "source": [
    "a = 123\n",
    "\n",
    "if a > 80 and a < 90:\n",
    "    print(f'{a} is between 80 - 90.')\n",
    "elif a > 90 and a < 100:\n",
    "    print(f'{a} is between 90 - 100')\n",
    "elif a > 100 and a < 110:\n",
    "    print(f'{a} is between 100 - 110')\n",
    "elif a > 110 and a < 120:\n",
    "    print(f'{a} is between 110 - 120')\n",
    "elif a > 120 and a < 130:\n",
    "    print(f'{a} is between 120 - 130')\n",
    "else:\n",
    "    print(f'{a} is > than {b}')"
   ]
  },
  {
   "cell_type": "code",
   "execution_count": null,
   "id": "80e222e7-c7ec-4acc-b8ed-15481aa4b243",
   "metadata": {},
   "outputs": [],
   "source": []
  }
 ],
 "metadata": {
  "kernelspec": {
   "display_name": "Python 3 (ipykernel)",
   "language": "python",
   "name": "python3"
  },
  "language_info": {
   "codemirror_mode": {
    "name": "ipython",
    "version": 3
   },
   "file_extension": ".py",
   "mimetype": "text/x-python",
   "name": "python",
   "nbconvert_exporter": "python",
   "pygments_lexer": "ipython3",
   "version": "3.10.8"
  }
 },
 "nbformat": 4,
 "nbformat_minor": 5
}
