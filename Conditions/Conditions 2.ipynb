{
 "cells": [
  {
   "cell_type": "code",
   "execution_count": 1,
   "id": "57072b02-73cd-41a7-b2ee-7561a26bbd02",
   "metadata": {},
   "outputs": [],
   "source": [
    "# Nested Conditions"
   ]
  },
  {
   "cell_type": "code",
   "execution_count": null,
   "id": "c745598f-6b74-406e-8855-f9b78149b485",
   "metadata": {},
   "outputs": [],
   "source": []
  },
  {
   "cell_type": "code",
   "execution_count": 7,
   "id": "9ab5a091-6ae9-4578-9aef-dfdf0d984bff",
   "metadata": {},
   "outputs": [
    {
     "name": "stdin",
     "output_type": "stream",
     "text": [
      "Did you exercise today ? Y/ N :  y\n",
      "Did you studied today ? Y/ N :  y\n"
     ]
    },
    {
     "name": "stdout",
     "output_type": "stream",
     "text": [
      "Satisfied !!!\n"
     ]
    }
   ],
   "source": [
    "a = input(\"Did you exercise today ? Y/ N : \")\n",
    "if a.lower() == 'y':\n",
    "    b = input(\"Did you studied today ? Y/ N : \")\n",
    "    \n",
    "    if b.lower() == 'y':\n",
    "        print(f'Satisfied !!!')\n",
    "    else:\n",
    "        print(f'Do some study and you are good for a day !!!')\n",
    "else:\n",
    "    b = input(\"Did you studied today ? Y/ N : \")\n",
    "    \n",
    "    if b.lower() == 'y':\n",
    "        print(f'Go Do Some exercise !!! And you are good for a day :)')\n",
    "    else:\n",
    "        print(f'Do some study and execise !!! ')\n",
    "    "
   ]
  },
  {
   "cell_type": "code",
   "execution_count": null,
   "id": "b45593b8-7810-4340-a6be-44fd0f3b9bd2",
   "metadata": {},
   "outputs": [],
   "source": []
  }
 ],
 "metadata": {
  "kernelspec": {
   "display_name": "Python 3 (ipykernel)",
   "language": "python",
   "name": "python3"
  },
  "language_info": {
   "codemirror_mode": {
    "name": "ipython",
    "version": 3
   },
   "file_extension": ".py",
   "mimetype": "text/x-python",
   "name": "python",
   "nbconvert_exporter": "python",
   "pygments_lexer": "ipython3",
   "version": "3.10.8"
  }
 },
 "nbformat": 4,
 "nbformat_minor": 5
}
